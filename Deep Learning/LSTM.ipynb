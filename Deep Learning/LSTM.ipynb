{
 "cells": [
  {
   "cell_type": "markdown",
   "id": "3e9dd1f8-5004-44f4-ae03-7ef7ded97942",
   "metadata": {
    "tags": []
   },
   "source": [
    "## Problem 1: GAN for Data Imbalance Problem\n",
    "Most industries seriously consider and control their yield rate of production. For this reason, a huge amount of cost is required to control the yield rate and many industries try to replace this yield inspection process to reduce cost. However, the acquisition data from the industry are mostly normal data and seldomly fault data. (generally about less than 5% of normal data)\n",
    "\n",
    "In this case, even if the deep learning model is a biased model (i.e., it consider every data as normal class), the accuracy would be 95%. So, in this case, we can't believe the result from the deep learning model.\n",
    "\n",
    "One way to solve this problem is the 'data generation' method. In this problem, we are going to solve the classification problem for imbalanced data by the GAN model.\n",
    "\n",
    "Download data from here.\n",
    "\n",
    "- data format: pkl\n",
    "- number of data: one-6000, seven-300\n",
    "\n",
    "Note: strongly recommend you to use GPU rather than CPU. (you can use CoLab GPU for free)"
   ]
  },
  {
   "cell_type": "code",
   "execution_count": 1,
   "id": "1779bc01-7295-4fff-8d58-28d0dde5accc",
   "metadata": {},
   "outputs": [
    {
     "name": "stderr",
     "output_type": "stream",
     "text": [
      "2021-12-09 13:11:00.039776: I tensorflow/stream_executor/platform/default/dso_loader.cc:49] Successfully opened dynamic library libcudart.so.10.1\n"
     ]
    }
   ],
   "source": [
    "import os\n",
    "import pickle\n",
    "import numpy as np\n",
    "\n",
    "import tensorflow as tf\n",
    "\n",
    "import matplotlib.pyplot as plt\n",
    "%matplotlib inline"
   ]
  },
  {
   "cell_type": "code",
   "execution_count": 2,
   "id": "edcf3be5-c84f-435b-82db-9d39e8bb371c",
   "metadata": {
    "scrolled": true,
    "tags": []
   },
   "outputs": [
    {
     "name": "stdout",
     "output_type": "stream",
     "text": [
      "WARNING:tensorflow:From /tmp/ipykernel_76366/337460670.py:1: is_gpu_available (from tensorflow.python.framework.test_util) is deprecated and will be removed in a future version.\n",
      "Instructions for updating:\n",
      "Use `tf.config.list_physical_devices('GPU')` instead.\n"
     ]
    },
    {
     "name": "stderr",
     "output_type": "stream",
     "text": [
      "2021-12-09 13:11:02.097466: I tensorflow/core/platform/cpu_feature_guard.cc:142] This TensorFlow binary is optimized with oneAPI Deep Neural Network Library (oneDNN) to use the following CPU instructions in performance-critical operations:  SSE4.1 SSE4.2 AVX AVX2 AVX512F FMA\n",
      "To enable them in other operations, rebuild TensorFlow with the appropriate compiler flags.\n",
      "2021-12-09 13:11:02.104144: I tensorflow/stream_executor/platform/default/dso_loader.cc:49] Successfully opened dynamic library libcuda.so.1\n",
      "2021-12-09 13:11:02.983013: I tensorflow/core/common_runtime/gpu/gpu_device.cc:1720] Found device 0 with properties: \n",
      "pciBusID: 0000:18:00.0 name: GeForce RTX 2080 Ti computeCapability: 7.5\n",
      "coreClock: 1.545GHz coreCount: 68 deviceMemorySize: 10.76GiB deviceMemoryBandwidth: 573.69GiB/s\n",
      "2021-12-09 13:11:02.983847: I tensorflow/core/common_runtime/gpu/gpu_device.cc:1720] Found device 1 with properties: \n",
      "pciBusID: 0000:3b:00.0 name: GeForce RTX 2080 Ti computeCapability: 7.5\n",
      "coreClock: 1.545GHz coreCount: 68 deviceMemorySize: 10.76GiB deviceMemoryBandwidth: 573.69GiB/s\n",
      "2021-12-09 13:11:02.984581: I tensorflow/core/common_runtime/gpu/gpu_device.cc:1720] Found device 2 with properties: \n",
      "pciBusID: 0000:86:00.0 name: GeForce RTX 2080 Ti computeCapability: 7.5\n",
      "coreClock: 1.545GHz coreCount: 68 deviceMemorySize: 10.76GiB deviceMemoryBandwidth: 573.69GiB/s\n",
      "2"
     ]
    },
    {
     "data": {
      "text/plain": [
       "True"
      ]
     },
     "execution_count": 2,
     "metadata": {},
     "output_type": "execute_result"
    },
    {
     "name": "stderr",
     "output_type": "stream",
     "text": [
      "021-12-09 13:11:02.985303: I tensorflow/core/common_runtime/gpu/gpu_device.cc:1720] Found device 3 with properties: \n",
      "pciBusID: 0000:af:00.0 name: GeForce RTX 2080 Ti computeCapability: 7.5\n",
      "coreClock: 1.545GHz coreCount: 68 deviceMemorySize: 10.76GiB deviceMemoryBandwidth: 573.69GiB/s\n",
      "2021-12-09 13:11:02.985368: I tensorflow/stream_executor/platform/default/dso_loader.cc:49] Successfully opened dynamic library libcudart.so.10.1\n",
      "2021-12-09 13:11:02.989491: I tensorflow/stream_executor/platform/default/dso_loader.cc:49] Successfully opened dynamic library libcublas.so.10\n",
      "2021-12-09 13:11:02.989675: I tensorflow/stream_executor/platform/default/dso_loader.cc:49] Successfully opened dynamic library libcublasLt.so.10\n",
      "2021-12-09 13:11:02.993609: I tensorflow/stream_executor/platform/default/dso_loader.cc:49] Successfully opened dynamic library libcufft.so.10\n",
      "2021-12-09 13:11:02.994419: I tensorflow/stream_executor/platform/default/dso_loader.cc:49] Successfully opened dynamic library libcurand.so.10\n",
      "2021-12-09 13:11:02.998091: I tensorflow/stream_executor/platform/default/dso_loader.cc:49] Successfully opened dynamic library libcusolver.so.10\n",
      "2021-12-09 13:11:02.999651: I tensorflow/stream_executor/platform/default/dso_loader.cc:49] Successfully opened dynamic library libcusparse.so.10\n",
      "2021-12-09 13:11:03.007379: I tensorflow/stream_executor/platform/default/dso_loader.cc:49] Successfully opened dynamic library libcudnn.so.7\n",
      "2021-12-09 13:11:03.013514: I tensorflow/core/common_runtime/gpu/gpu_device.cc:1862] Adding visible gpu devices: 0, 1, 2, 3\n",
      "2021-12-09 13:11:03.013763: I tensorflow/stream_executor/platform/default/dso_loader.cc:49] Successfully opened dynamic library libcudart.so.10.1\n",
      "2021-12-09 13:11:07.235927: I tensorflow/core/common_runtime/gpu/gpu_device.cc:1261] Device interconnect StreamExecutor with strength 1 edge matrix:\n",
      "2021-12-09 13:11:07.236035: I tensorflow/core/common_runtime/gpu/gpu_device.cc:1267]      0 1 2 3 \n",
      "2021-12-09 13:11:07.236042: I tensorflow/core/common_runtime/gpu/gpu_device.cc:1280] 0:   N N N N \n",
      "2021-12-09 13:11:07.236044: I tensorflow/core/common_runtime/gpu/gpu_device.cc:1280] 1:   N N N N \n",
      "2021-12-09 13:11:07.236047: I tensorflow/core/common_runtime/gpu/gpu_device.cc:1280] 2:   N N N N \n",
      "2021-12-09 13:11:07.236049: I tensorflow/core/common_runtime/gpu/gpu_device.cc:1280] 3:   N N N N \n",
      "2021-12-09 13:11:07.241393: I tensorflow/core/common_runtime/gpu/gpu_device.cc:1406] Created TensorFlow device (/device:GPU:0 with 9000 MB memory) -> physical GPU (device: 0, name: GeForce RTX 2080 Ti, pci bus id: 0000:18:00.0, compute capability: 7.5)\n",
      "2021-12-09 13:11:07.243591: I tensorflow/core/common_runtime/gpu/gpu_device.cc:1406] Created TensorFlow device (/device:GPU:1 with 9793 MB memory) -> physical GPU (device: 1, name: GeForce RTX 2080 Ti, pci bus id: 0000:3b:00.0, compute capability: 7.5)\n",
      "2021-12-09 13:11:07.245464: I tensorflow/core/common_runtime/gpu/gpu_device.cc:1406] Created TensorFlow device (/device:GPU:2 with 9793 MB memory) -> physical GPU (device: 2, name: GeForce RTX 2080 Ti, pci bus id: 0000:86:00.0, compute capability: 7.5)\n",
      "2021-12-09 13:11:07.247270: I tensorflow/core/common_runtime/gpu/gpu_device.cc:1406] Created TensorFlow device (/device:GPU:3 with 9793 MB memory) -> physical GPU (device: 3, name: GeForce RTX 2080 Ti, pci bus id: 0000:af:00.0, compute capability: 7.5)\n",
      "2021-12-09 13:11:07.247731: I tensorflow/compiler/jit/xla_gpu_device.cc:99] Not creating XLA devices, tf_xla_enable_xla_devices not set\n"
     ]
    }
   ],
   "source": [
    "tf.test.is_gpu_available()"
   ]
  },
  {
   "cell_type": "markdown",
   "id": "9e668a99-5e3d-481c-bfcf-08253539847f",
   "metadata": {},
   "source": [
    "(1) Load and preprocess data.\n",
    "\n",
    "Step 1: load\n",
    "- one.pkl\n",
    "- seven.pkl"
   ]
  },
  {
   "cell_type": "code",
   "execution_count": 3,
   "id": "86420305-01b8-48ae-ad71-7876c887404b",
   "metadata": {},
   "outputs": [],
   "source": [
    "with open('PS10_data_files/one.pkl', 'rb') as f:\n",
    "    one_data = pickle.load(f)\n",
    "    \n",
    "with open('PS10_data_files/seven.pkl', 'rb') as f:\n",
    "    seven_data = pickle.load(f)"
   ]
  },
  {
   "cell_type": "code",
   "execution_count": 4,
   "id": "f04c3326-d7de-400e-a9f3-796b7070a906",
   "metadata": {},
   "outputs": [
    {
     "data": {
      "text/plain": [
       "((6000, 784), (300, 784))"
      ]
     },
     "execution_count": 4,
     "metadata": {},
     "output_type": "execute_result"
    }
   ],
   "source": [
    "one_data.shape, seven_data.shape"
   ]
  },
  {
   "cell_type": "markdown",
   "id": "7771e0ad-f627-4166-91f6-f82b8c72f70f",
   "metadata": {},
   "source": [
    "Step 2: convert the loaded data to a binary image"
   ]
  },
  {
   "cell_type": "code",
   "execution_count": 5,
   "id": "90ac9cd6-61b4-4539-8f67-c9effaa7e290",
   "metadata": {},
   "outputs": [],
   "source": [
    "one_data = np.where(one_data > 0, 1, 0)\n",
    "seven_data = np.where(seven_data > 0, 1, 0)"
   ]
  },
  {
   "cell_type": "markdown",
   "id": "8557c58e-8a54-4df9-9bf0-9a520f99fa37",
   "metadata": {},
   "source": [
    "Step 3: split into train/test dataset\n",
    "- one train index: 0~999\n",
    "- one test index: 1000~6000\n",
    "- seven train index: 0~4 (only five images)\n",
    "- seven test index: 5~300"
   ]
  },
  {
   "cell_type": "code",
   "execution_count": 6,
   "id": "c0d0462a-f48a-4de2-b1bc-666549c1a0d0",
   "metadata": {},
   "outputs": [],
   "source": [
    "one_train_x = one_data[:1000]\n",
    "one_test_x = one_data[1000:]\n",
    "\n",
    "seven_train_x = seven_data[:5]\n",
    "seven_test_x = seven_data[5:]"
   ]
  },
  {
   "cell_type": "markdown",
   "id": "fdc62294-5565-420b-a028-a58b6c9bd844",
   "metadata": {},
   "source": [
    "Step 4: labeling\n",
    "- one-hot encoding"
   ]
  },
  {
   "cell_type": "code",
   "execution_count": 7,
   "id": "00bd729e-27ec-4541-8188-3ed49b27c2c7",
   "metadata": {},
   "outputs": [],
   "source": [
    "one_train_y = np.tile([1, 0], 1000).reshape(-1, 2)\n",
    "one_test_y = np.tile([1, 0], 5000).reshape(-1, 2)\n",
    "\n",
    "seven_train_y = np.tile([0, 1], 5).reshape(-1, 2)\n",
    "seven_test_y = np.tile([0, 1], 295).reshape(-1, 2)"
   ]
  },
  {
   "cell_type": "code",
   "execution_count": 8,
   "id": "6356f2fc-adbc-4d46-ae5a-9b52120432a7",
   "metadata": {},
   "outputs": [
    {
     "data": {
      "text/plain": [
       "((1000, 2), (5000, 2), (5, 2), (295, 2))"
      ]
     },
     "execution_count": 8,
     "metadata": {},
     "output_type": "execute_result"
    }
   ],
   "source": [
    "one_train_y.shape, one_test_y.shape, seven_train_y.shape, seven_test_y.shape"
   ]
  },
  {
   "cell_type": "code",
   "execution_count": 9,
   "id": "180a6ad5-5b1a-4052-83da-8864cf05fabd",
   "metadata": {},
   "outputs": [],
   "source": [
    "train_x = np.vstack([one_train_x, seven_train_x])\n",
    "test_x = np.vstack([one_test_x, seven_test_x])\n",
    "\n",
    "train_y = np.vstack([one_train_y, seven_train_y])\n",
    "test_y = np.vstack([one_test_y, seven_test_y])\n",
    "\n",
    "train_x = train_x.reshape(-1, 28, 28, 1)\n",
    "test_x = test_x.reshape(-1, 28, 28, 1)"
   ]
  },
  {
   "cell_type": "markdown",
   "id": "e595e10d-19e7-4fdf-b87a-759741c42a73",
   "metadata": {},
   "source": [
    "Step 5: batchmaker\n",
    "- train and test batchmakers"
   ]
  },
  {
   "cell_type": "code",
   "execution_count": 10,
   "id": "2ad01efe-fd2e-4c48-9cf1-c6069a4d8765",
   "metadata": {},
   "outputs": [],
   "source": [
    "def next_batch(num, data, labels):\n",
    "    idx = np.arange(0 , len(data))\n",
    "    np.random.shuffle(idx)\n",
    "    \n",
    "    data_shuffle = [data[i] for i in idx[:num]]\n",
    "    labels_shuffle = [labels[i] for i in idx[:num]]\n",
    "\n",
    "    return np.asarray(data_shuffle), np.asarray(labels_shuffle)"
   ]
  },
  {
   "cell_type": "markdown",
   "id": "a85f9b11-7314-44e1-9cb9-e55a754c9c61",
   "metadata": {},
   "source": [
    "(2) Conduct the binary classification by convolution neural network (CNN) model.\n",
    "\n",
    "Structure\n",
    "\n",
    "- First convolution layer\n",
    "\n",
    "  -  filter size:  3×3 \n",
    "  - channel:  32 \n",
    "  - max pooling:  2×2 \n",
    "- Second convolution layer\n",
    "\n",
    "  - filter size:  3×3 \n",
    "  - channel:  64 \n",
    "  - max pooling:  2×2 \n",
    "- Nonlinear activation: ReLu"
   ]
  },
  {
   "cell_type": "code",
   "execution_count": 11,
   "id": "9454d2b4-9889-4208-b46c-84b6b5043ef7",
   "metadata": {
    "scrolled": true,
    "tags": []
   },
   "outputs": [
    {
     "name": "stderr",
     "output_type": "stream",
     "text": [
      "2021-12-09 13:11:12.864806: I tensorflow/compiler/jit/xla_cpu_device.cc:41] Not creating XLA devices, tf_xla_enable_xla_devices not set\n",
      "2021-12-09 13:11:12.866457: I tensorflow/core/common_runtime/gpu/gpu_device.cc:1720] Found device 0 with properties: \n",
      "pciBusID: 0000:18:00.0 name: GeForce RTX 2080 Ti computeCapability: 7.5\n",
      "coreClock: 1.545GHz coreCount: 68 deviceMemorySize: 10.76GiB deviceMemoryBandwidth: 573.69GiB/s\n",
      "2021-12-09 13:11:12.867257: I tensorflow/core/common_runtime/gpu/gpu_device.cc:1720] Found device 1 with properties: \n",
      "pciBusID: 0000:3b:00.0 name: GeForce RTX 2080 Ti computeCapability: 7.5\n",
      "coreClock: 1.545GHz coreCount: 68 deviceMemorySize: 10.76GiB deviceMemoryBandwidth: 573.69GiB/s\n",
      "2021-12-09 13:11:12.867957: I tensorflow/core/common_runtime/gpu/gpu_device.cc:1720] Found device 2 with properties: \n",
      "pciBusID: 0000:86:00.0 name: GeForce RTX 2080 Ti computeCapability: 7.5\n",
      "coreClock: 1.545GHz coreCount: 68 deviceMemorySize: 10.76GiB deviceMemoryBandwidth: 573.69GiB/s\n",
      "2021-12-09 13:11:12.868678: I tensorflow/core/common_runtime/gpu/gpu_device.cc:1720] Found device 3 with properties: \n",
      "pciBusID: 0000:af:00.0 name: GeForce RTX 2080 Ti computeCapability: 7.5\n",
      "coreClock: 1.545GHz coreCount: 68 deviceMemorySize: 10.76GiB deviceMemoryBandwidth: 573.69GiB/s\n",
      "2021-12-09 13:11:12.868784: I tensorflow/stream_executor/platform/default/dso_loader.cc:49] Successfully opened dynamic library libcudart.so.10.1\n",
      "2021-12-09 13:11:12.868843: I tensorflow/stream_executor/platform/default/dso_loader.cc:49] Successfully opened dynamic library libcublas.so.10\n",
      "2021-12-09 13:11:12.868861: I tensorflow/stream_executor/platform/default/dso_loader.cc:49] Successfully opened dynamic library libcublasLt.so.10\n",
      "2021-12-09 13:11:12.868878: I tensorflow/stream_executor/platform/default/dso_loader.cc:49] Successfully opened dynamic library libcufft.so.10\n",
      "2021-12-09 13:11:12.868892: I tensorflow/stream_executor/platform/default/dso_loader.cc:49] Successfully opened dynamic library libcurand.so.10\n",
      "2021-12-09 13:11:12.868904: I tensorflow/stream_executor/platform/default/dso_loader.cc:49] Successfully opened dynamic library libcusolver.so.10\n",
      "2021-12-09 13:11:12.868917: I tensorflow/stream_executor/platform/default/dso_loader.cc:49] Successfully opened dynamic library libcusparse.so.10\n",
      "2021-12-09 13:11:12.868933: I tensorflow/stream_executor/platform/default/dso_loader.cc:49] Successfully opened dynamic library libcudnn.so.7\n",
      "2021-12-09 13:11:12.874096: I tensorflow/core/common_runtime/gpu/gpu_device.cc:1862] Adding visible gpu devices: 0, 1, 2, 3\n",
      "2021-12-09 13:11:12.877728: I tensorflow/core/common_runtime/gpu/gpu_device.cc:1720] Found device 0 with properties: \n",
      "pciBusID: 0000:18:00.0 name: GeForce RTX 2080 Ti computeCapability: 7.5\n",
      "coreClock: 1.545GHz coreCount: 68 deviceMemorySize: 10.76GiB deviceMemoryBandwidth: 573.69GiB/s\n",
      "2021-12-09 13:11:12.879738: I tensorflow/core/common_runtime/gpu/gpu_device.cc:1720] Found device 1 with properties: \n",
      "pciBusID: 0000:3b:00.0 name: GeForce RTX 2080 Ti computeCapability: 7.5\n",
      "coreClock: 1.545GHz coreCount: 68 deviceMemorySize: 10.76GiB deviceMemoryBandwidth: 573.69GiB/s\n",
      "2021-12-09 13:11:12.881596: I tensorflow/core/common_runtime/gpu/gpu_device.cc:1720] Found device 2 with properties: \n",
      "pciBusID: 0000:86:00.0 name: GeForce RTX 2080 Ti computeCapability: 7.5\n",
      "coreClock: 1.545GHz coreCount: 68 deviceMemorySize: 10.76GiB deviceMemoryBandwidth: 573.69GiB/s\n",
      "2021-12-09 13:11:12.883417: I tensorflow/core/common_runtime/gpu/gpu_device.cc:1720] Found device 3 with properties: \n",
      "pciBusID: 0000:af:00.0 name: GeForce RTX 2080 Ti computeCapability: 7.5\n",
      "coreClock: 1.545GHz coreCount: 68 deviceMemorySize: 10.76GiB deviceMemoryBandwidth: 573.69GiB/s\n",
      "2021-12-09 13:11:12.883528: I tensorflow/stream_executor/platform/default/dso_loader.cc:49] Successfully opened dynamic library libcudart.so.10.1\n",
      "2021-12-09 13:11:12.883602: I tensorflow/stream_executor/platform/default/dso_loader.cc:49] Successfully opened dynamic library libcublas.so.10\n",
      "2021-12-09 13:11:12.883629: I tensorflow/stream_executor/platform/default/dso_loader.cc:49] Successfully opened dynamic library libcublasLt.so.10\n",
      "2021-12-09 13:11:12.883653: I tensorflow/stream_executor/platform/default/dso_loader.cc:49] Successfully opened dynamic library libcufft.so.10\n",
      "2021-12-09 13:11:12.883680: I tensorflow/stream_executor/platform/default/dso_loader.cc:49] Successfully opened dynamic library libcurand.so.10\n",
      "2021-12-09 13:11:12.883704: I tensorflow/stream_executor/platform/default/dso_loader.cc:49] Successfully opened dynamic library libcusolver.so.10\n",
      "2021-12-09 13:11:12.883728: I tensorflow/stream_executor/platform/default/dso_loader.cc:49] Successfully opened dynamic library libcusparse.so.10\n",
      "2021-12-09 13:11:12.883754: I tensorflow/stream_executor/platform/default/dso_loader.cc:49] Successfully opened dynamic library libcudnn.so.7\n",
      "2021-12-09 13:11:12.891234: I tensorflow/core/common_runtime/gpu/gpu_device.cc:1862] Adding visible gpu devices: 0, 1, 2, 3\n",
      "2021-12-09 13:11:12.891442: I tensorflow/core/common_runtime/gpu/gpu_device.cc:1261] Device interconnect StreamExecutor with strength 1 edge matrix:\n",
      "2021-12-09 13:11:12.891456: I tensorflow/core/common_runtime/gpu/gpu_device.cc:1267]      0 1 2 3 \n",
      "2021-12-09 13:11:12.891464: I tensorflow/core/common_runtime/gpu/gpu_device.cc:1280] 0:   N N N N \n",
      "2021-12-09 13:11:12.891468: I tensorflow/core/common_runtime/gpu/gpu_device.cc:1280] 1:   N N N N \n",
      "2021-12-09 13:11:12.891471: I tensorflow/core/common_runtime/gpu/gpu_device.cc:1280] 2:   N N N N \n",
      "2021-12-09 13:11:12.891474: I tensorflow/core/common_runtime/gpu/gpu_device.cc:1280] 3:   N N N N \n",
      "2021-12-09 13:11:12.895886: I tensorflow/core/common_runtime/gpu/gpu_device.cc:1406] Created TensorFlow device (/job:localhost/replica:0/task:0/device:GPU:0 with 9000 MB memory) -> physical GPU (device: 0, name: GeForce RTX 2080 Ti, pci bus id: 0000:18:00.0, compute capability: 7.5)\n",
      "2021-12-09 13:11:12.896842: I tensorflow/core/common_runtime/gpu/gpu_device.cc:1406] Created TensorFlow device (/job:localhost/replica:0/task:0/device:GPU:1 with 9793 MB memory) -> physical GPU (device: 1, name: GeForce RTX 2080 Ti, pci bus id: 0000:3b:00.0, compute capability: 7.5)\n",
      "2021-12-09 13:11:12.897672: I tensorflow/core/common_runtime/gpu/gpu_device.cc:1406] Created TensorFlow device (/job:localhost/replica:0/task:0/device:GPU:2 with 9793 MB memory) -> physical GPU (device: 2, name: GeForce RTX 2080 Ti, pci bus id: 0000:86:00.0, compute capability: 7.5)\n",
      "2021-12-09 13:11:12.898474: I tensorflow/core/common_runtime/gpu/gpu_device.cc:1406] Created TensorFlow device (/job:localhost/replica:0/task:0/device:GPU:3 with 9793 MB memory) -> physical GPU (device: 3, name: GeForce RTX 2080 Ti, pci bus id: 0000:af:00.0, compute capability: 7.5)\n",
      "2021-12-09 13:11:12.898506: I tensorflow/compiler/jit/xla_gpu_device.cc:99] Not creating XLA devices, tf_xla_enable_xla_devices not set\n"
     ]
    }
   ],
   "source": [
    "# Build and train a model\n",
    "cnn_model = tf.keras.models.Sequential([\n",
    "    tf.keras.layers.Conv2D(filters=32, \n",
    "                           kernel_size=(3, 3),\n",
    "                           padding='SAME',\n",
    "                           activation='relu',\n",
    "                           input_shape=(28, 28, 1)),\n",
    "    tf.keras.layers.MaxPool2D((2, 2)),\n",
    "    \n",
    "    tf.keras.layers.Conv2D(filters=64, \n",
    "                           kernel_size=(3, 3), \n",
    "                           padding='SAME',\n",
    "                           activation='relu',\n",
    "                           input_shape=(14, 14, 32)),\n",
    "    tf.keras.layers.MaxPool2D((2, 2)),\n",
    "    \n",
    "    tf.keras.layers.Flatten(),\n",
    "  \n",
    "    tf.keras.layers.Dense(units=2, activation='softmax')])"
   ]
  },
  {
   "cell_type": "markdown",
   "id": "a49ead77-74ac-4ee7-8d20-81173f2b1ca8",
   "metadata": {},
   "source": [
    "Model Training\n",
    "\n",
    "- Optimizer: AdamOptimizer\n",
    "- Learning rate:  0.001 \n",
    "- Epoch:  20 "
   ]
  },
  {
   "cell_type": "code",
   "execution_count": 12,
   "id": "15683094-7080-474d-8ece-8d3424f20aa4",
   "metadata": {
    "tags": []
   },
   "outputs": [
    {
     "name": "stderr",
     "output_type": "stream",
     "text": [
      "2021-12-09 13:11:16.054308: I tensorflow/compiler/mlir/mlir_graph_optimization_pass.cc:116] None of the MLIR optimization passes are enabled (registered 2)\n",
      "2021-12-09 13:11:16.055182: I tensorflow/core/platform/profile_utils/cpu_utils.cc:112] CPU Frequency: 3100000000 Hz\n"
     ]
    },
    {
     "name": "stdout",
     "output_type": "stream",
     "text": [
      "Epoch 1/20\n"
     ]
    },
    {
     "name": "stderr",
     "output_type": "stream",
     "text": [
      "2021-12-09 13:11:16.588926: I tensorflow/stream_executor/platform/default/dso_loader.cc:49] Successfully opened dynamic library libcublas.so.10\n",
      "2021-12-09 13:11:17.145878: I tensorflow/stream_executor/platform/default/dso_loader.cc:49] Successfully opened dynamic library libcudnn.so.7\n",
      "2021-12-09 13:11:19.481433: W tensorflow/stream_executor/gpu/asm_compiler.cc:63] Running ptxas --version returned 256\n",
      "2021-12-09 13:11:19.731900: W tensorflow/stream_executor/gpu/redzone_allocator.cc:314] Internal: ptxas exited with non-zero error code 256, output: \n",
      "Relying on driver to perform ptx compilation. \n",
      "Modify $PATH to customize ptxas location.\n",
      "This message will be only logged once.\n"
     ]
    },
    {
     "name": "stdout",
     "output_type": "stream",
     "text": [
      "32/32 [==============================] - 38s 555ms/step - loss: 0.2681 - accuracy: 0.9337\n",
      "Epoch 2/20\n",
      "32/32 [==============================] - 0s 5ms/step - loss: 0.0367 - accuracy: 0.9953\n",
      "Epoch 3/20\n",
      "32/32 [==============================] - 0s 5ms/step - loss: 0.0274 - accuracy: 0.9946\n",
      "Epoch 4/20\n",
      "32/32 [==============================] - 0s 5ms/step - loss: 0.0075 - accuracy: 0.9986\n",
      "Epoch 5/20\n",
      "32/32 [==============================] - 0s 5ms/step - loss: 0.0121 - accuracy: 0.9992\n",
      "Epoch 6/20\n",
      "32/32 [==============================] - 0s 5ms/step - loss: 0.0046 - accuracy: 0.9997\n",
      "Epoch 7/20\n",
      "32/32 [==============================] - 0s 5ms/step - loss: 0.0017 - accuracy: 0.9991\n",
      "Epoch 8/20\n",
      "32/32 [==============================] - 0s 5ms/step - loss: 0.0017 - accuracy: 1.0000\n",
      "Epoch 9/20\n",
      "32/32 [==============================] - 0s 4ms/step - loss: 0.0011 - accuracy: 1.0000\n",
      "Epoch 10/20\n",
      "32/32 [==============================] - 0s 5ms/step - loss: 3.9997e-04 - accuracy: 1.0000\n",
      "Epoch 11/20\n",
      "32/32 [==============================] - 0s 5ms/step - loss: 3.8950e-04 - accuracy: 1.0000\n",
      "Epoch 12/20\n",
      "32/32 [==============================] - 0s 5ms/step - loss: 2.5360e-04 - accuracy: 1.0000\n",
      "Epoch 13/20\n",
      "32/32 [==============================] - 0s 5ms/step - loss: 4.3687e-04 - accuracy: 1.0000\n",
      "Epoch 14/20\n",
      "32/32 [==============================] - 0s 5ms/step - loss: 2.6193e-04 - accuracy: 1.0000\n",
      "Epoch 15/20\n",
      "32/32 [==============================] - 0s 5ms/step - loss: 1.2065e-04 - accuracy: 1.0000\n",
      "Epoch 16/20\n",
      "32/32 [==============================] - 0s 5ms/step - loss: 1.8575e-04 - accuracy: 1.0000\n",
      "Epoch 17/20\n",
      "32/32 [==============================] - 0s 5ms/step - loss: 2.5670e-04 - accuracy: 1.0000\n",
      "Epoch 18/20\n",
      "32/32 [==============================] - 0s 5ms/step - loss: 7.2449e-05 - accuracy: 1.0000\n",
      "Epoch 19/20\n",
      "32/32 [==============================] - 0s 4ms/step - loss: 6.7725e-05 - accuracy: 1.0000\n",
      "Epoch 20/20\n",
      "32/32 [==============================] - 0s 4ms/step - loss: 9.3604e-05 - accuracy: 1.0000\n"
     ]
    },
    {
     "data": {
      "text/plain": [
       "<tensorflow.python.keras.callbacks.History at 0x7ff230c11460>"
      ]
     },
     "execution_count": 12,
     "metadata": {},
     "output_type": "execute_result"
    }
   ],
   "source": [
    "opt = tf.keras.optimizers.Adam(learning_rate=0.001)\n",
    "cnn_model.compile(optimizer=opt,\n",
    "              loss='categorical_crossentropy',\n",
    "              metrics='accuracy')\n",
    "cnn_model.fit(train_x, train_y, epochs=20)"
   ]
  },
  {
   "cell_type": "markdown",
   "id": "4bf2c9f1-1cfe-4409-a9c7-00043b254d2f",
   "metadata": {},
   "source": [
    "Model Test\n",
    "\n",
    "- radom image test\n",
    "- one image test\n",
    "- seven image test\n",
    "\n",
    "you should calculate the test accuracy"
   ]
  },
  {
   "cell_type": "code",
   "execution_count": 13,
   "id": "0fcd10ef-5a4d-4554-93cd-1a1d60379019",
   "metadata": {},
   "outputs": [
    {
     "name": "stdout",
     "output_type": "stream",
     "text": [
      "166/166 [==============================] - 9s 54ms/step - loss: 0.0240 - accuracy: 0.9936\n"
     ]
    }
   ],
   "source": [
    "# test_dataset\n",
    "test_loss, test_acc = cnn_model.evaluate(test_x, test_y)"
   ]
  },
  {
   "cell_type": "code",
   "execution_count": 14,
   "id": "92a93df6-f224-43fa-ad69-ce6a0e18cf99",
   "metadata": {},
   "outputs": [
    {
     "name": "stdout",
     "output_type": "stream",
     "text": [
      "157/157 [==============================] - 9s 58ms/step - loss: 0.0019 - accuracy: 0.9996\n"
     ]
    }
   ],
   "source": [
    "# One image test\n",
    "one_loss, one_acc = cnn_model.evaluate(test_x[:5000], test_y[:5000])"
   ]
  },
  {
   "cell_type": "code",
   "execution_count": 15,
   "id": "75cdea5b-a722-4a52-be2b-7cd0d654b91a",
   "metadata": {},
   "outputs": [
    {
     "name": "stdout",
     "output_type": "stream",
     "text": [
      "10/10 [==============================] - 8s 891ms/step - loss: 0.3983 - accuracy: 0.8915\n"
     ]
    }
   ],
   "source": [
    "# Seven image test\n",
    "seven_loss, seven_acc = cnn_model.evaluate(test_x[5000:], test_y[5000:])"
   ]
  },
  {
   "cell_type": "markdown",
   "id": "ba3c49e7-91dd-4ebd-b539-dee8f44ceb03",
   "metadata": {},
   "source": [
    "(3) As you can see, the accuracy is low for images of seven. We would like to generate more images of seven by a GAN model to overcome the data imbalance problem. In this problem you should use convolutional layers instead of ANN layer for both a generator and a discriminator.\n",
    "\n",
    "Generator: deconvolution layer (= conv2d_transpose)\n",
    "\n",
    "- Input layer: 100\n",
    "- First deconvolution layer\n",
    "  - filter size: 7 × 7 \n",
    "  - channel:  64 \n",
    "  - stride: (1, 1) \n",
    "  - padding: 'VALID'\n",
    "\n",
    "\n",
    "- Second deconvolution layer:\n",
    "  - filter size: 4 × 4 \n",
    "  - channel: 32 \n",
    "  - stride: (2, 2) \n",
    "  - padding: 'SAME'\n",
    "\n",
    "\n",
    "- Third deconvolution layer\n",
    "  - filter size: 4 × 4 \n",
    "  - channel: 1 \n",
    "  - stride: (2, 2) \n",
    "  - pading: 'SAME'"
   ]
  },
  {
   "cell_type": "code",
   "execution_count": 16,
   "id": "4891a476-8444-4114-9be1-0a25532ab1c4",
   "metadata": {},
   "outputs": [],
   "source": [
    "# Generator\n",
    "generator = tf.keras.models.Sequential([\n",
    "    tf.keras.layers.Reshape((1, 1, 100), \n",
    "                            input_shape=(None, 100)),\n",
    "    \n",
    "    tf.keras.layers.Conv2DTranspose(filters=64, \n",
    "                                    kernel_size=(7, 7),\n",
    "                                    strides=(1, 1), \n",
    "                                    padding='VALID',\n",
    "                                    activation='relu',\n",
    "                                    input_shape=(1, 1, 100)), \n",
    "\n",
    "    tf.keras.layers.Conv2DTranspose(filters=32, \n",
    "                                    kernel_size=(4, 4),\n",
    "                                    strides=(2, 2),\n",
    "                                    padding='SAME',\n",
    "                                    activation='relu',\n",
    "                                    input_shape=(7, 7, 64)),\n",
    "    \n",
    "    tf.keras.layers.Conv2DTranspose(filters=1, \n",
    "                                    kernel_size=(4, 4),\n",
    "                                    strides=(2, 2),\n",
    "                                    padding='SAME',\n",
    "                                    activation='relu',\n",
    "                                    input_shape=(7, 7, 64))])"
   ]
  },
  {
   "cell_type": "code",
   "execution_count": 17,
   "id": "c4cfda59-f290-48aa-a709-ec007f5f68aa",
   "metadata": {},
   "outputs": [
    {
     "name": "stdout",
     "output_type": "stream",
     "text": [
      "Model: \"sequential_1\"\n",
      "_________________________________________________________________\n",
      "Layer (type)                 Output Shape              Param #   \n",
      "=================================================================\n",
      "reshape (Reshape)            (None, 1, 1, 100)         0         \n",
      "_________________________________________________________________\n",
      "conv2d_transpose (Conv2DTran (None, 7, 7, 64)          313664    \n",
      "_________________________________________________________________\n",
      "conv2d_transpose_1 (Conv2DTr (None, 14, 14, 32)        32800     \n",
      "_________________________________________________________________\n",
      "conv2d_transpose_2 (Conv2DTr (None, 28, 28, 1)         513       \n",
      "=================================================================\n",
      "Total params: 346,977\n",
      "Trainable params: 346,977\n",
      "Non-trainable params: 0\n",
      "_________________________________________________________________\n"
     ]
    }
   ],
   "source": [
    "generator.summary()"
   ]
  },
  {
   "cell_type": "markdown",
   "id": "16af3983-a83a-450c-b3e5-5581a1e8d6df",
   "metadata": {},
   "source": [
    "Discriminator: convolution layer\n",
    "\n",
    "- Input layer: 28 x 28 x 1\n",
    "- First convolution layer\n",
    "  - filter size: 3 × 3\n",
    "  - channel: 32 \n",
    "  - padding: 'SAME'\n",
    "\n",
    "\n",
    "- Second convolution layer:\n",
    "  - filter size: 3 × 3 \n",
    "  - channel: 64\n",
    "  - padding: 'SAME'\n",
    "\n",
    "\n",
    "- no polling layer"
   ]
  },
  {
   "cell_type": "code",
   "execution_count": 18,
   "id": "e49a5037-edac-4621-a86e-1f75594172e4",
   "metadata": {},
   "outputs": [],
   "source": [
    "# Discriminator\n",
    "discriminator = tf.keras.models.Sequential([\n",
    "    tf.keras.layers.Conv2D(filters=32, \n",
    "                           kernel_size=(3, 3),\n",
    "                           padding='SAME',\n",
    "                           activation='relu',\n",
    "                           input_shape=(28, 28, 1)),\n",
    "    \n",
    "    tf.keras.layers.Conv2D(filters=64, \n",
    "                           kernel_size=(3, 3),\n",
    "                           padding='SAME',\n",
    "                           activation='relu',\n",
    "                           input_shape=(14, 14, 32)),\n",
    "    \n",
    "    tf.keras.layers.Flatten(),\n",
    "  \n",
    "    tf.keras.layers.Dense(units=100, activation='relu'),\n",
    "    tf.keras.layers.Dense(units=1, activation='sigmoid')])"
   ]
  },
  {
   "cell_type": "code",
   "execution_count": 19,
   "id": "8a2ee4b6-b217-4b14-9b48-80e932e01eed",
   "metadata": {},
   "outputs": [
    {
     "name": "stdout",
     "output_type": "stream",
     "text": [
      "Model: \"sequential_2\"\n",
      "_________________________________________________________________\n",
      "Layer (type)                 Output Shape              Param #   \n",
      "=================================================================\n",
      "conv2d_2 (Conv2D)            (None, 28, 28, 32)        320       \n",
      "_________________________________________________________________\n",
      "conv2d_3 (Conv2D)            (None, 28, 28, 64)        18496     \n",
      "_________________________________________________________________\n",
      "flatten_1 (Flatten)          (None, 50176)             0         \n",
      "_________________________________________________________________\n",
      "dense_1 (Dense)              (None, 100)               5017700   \n",
      "_________________________________________________________________\n",
      "dense_2 (Dense)              (None, 1)                 101       \n",
      "=================================================================\n",
      "Total params: 5,036,617\n",
      "Trainable params: 5,036,617\n",
      "Non-trainable params: 0\n",
      "_________________________________________________________________\n"
     ]
    }
   ],
   "source": [
    "discriminator.summary()"
   ]
  },
  {
   "cell_type": "markdown",
   "id": "33fd812f-b0f0-4ef5-820c-0df977cece8a",
   "metadata": {},
   "source": [
    "Training\n",
    "\n",
    "- D_LR: 0.00004\n",
    "- G_LR: 0.00008\n",
    "- Max iteration: 5500\n",
    "- Optimizer: AdamOptimizer"
   ]
  },
  {
   "cell_type": "code",
   "execution_count": 20,
   "id": "c4aaecda-6616-406b-b628-f925c5132aed",
   "metadata": {},
   "outputs": [],
   "source": [
    "discriminator.compile(optimizer=tf.keras.optimizers.Adam(learning_rate=0.00004), \n",
    "                      loss='binary_crossentropy')"
   ]
  },
  {
   "cell_type": "code",
   "execution_count": 21,
   "id": "c1b9cf21-c0bd-47db-b887-ee9f71e55169",
   "metadata": {},
   "outputs": [
    {
     "name": "stdout",
     "output_type": "stream",
     "text": [
      "WARNING:tensorflow:Model was constructed with shape (None, None, 100) for input KerasTensor(type_spec=TensorSpec(shape=(None, None, 100), dtype=tf.float32, name='reshape_input'), name='reshape_input', description=\"created by layer 'reshape_input'\"), but it was called on an input with incompatible shape (None, 100).\n"
     ]
    }
   ],
   "source": [
    "# Combined model\n",
    "combined_input = tf.keras.layers.Input(shape=(100))\n",
    "generated = generator(combined_input)\n",
    "discriminator.trainable = False\n",
    "combined_output = discriminator(generated)\n",
    "\n",
    "combined = tf.keras.models.Model(inputs=combined_input, outputs=combined_output)"
   ]
  },
  {
   "cell_type": "code",
   "execution_count": 22,
   "id": "505f25f5-3b63-4ea7-bae8-80fddcdc5db4",
   "metadata": {},
   "outputs": [
    {
     "name": "stdout",
     "output_type": "stream",
     "text": [
      "Model: \"model\"\n",
      "_________________________________________________________________\n",
      "Layer (type)                 Output Shape              Param #   \n",
      "=================================================================\n",
      "input_1 (InputLayer)         [(None, 100)]             0         \n",
      "_________________________________________________________________\n",
      "sequential_1 (Sequential)    (None, 28, 28, 1)         346977    \n",
      "_________________________________________________________________\n",
      "sequential_2 (Sequential)    (None, 1)                 5036617   \n",
      "=================================================================\n",
      "Total params: 5,383,594\n",
      "Trainable params: 346,977\n",
      "Non-trainable params: 5,036,617\n",
      "_________________________________________________________________\n"
     ]
    }
   ],
   "source": [
    "combined.summary()"
   ]
  },
  {
   "cell_type": "code",
   "execution_count": 23,
   "id": "4e8f0ea6-7249-41ea-8dc8-062eb55b4598",
   "metadata": {},
   "outputs": [],
   "source": [
    "combined.compile(optimizer=tf.keras.optimizers.Adam(learning_rate=0.00008), \n",
    "                 loss='binary_crossentropy')"
   ]
  },
  {
   "cell_type": "code",
   "execution_count": 24,
   "id": "7c651e80-62e5-4e3e-826f-8249927c96a5",
   "metadata": {},
   "outputs": [],
   "source": [
    "def make_noise(samples):\n",
    "    return np.random.normal(0, 1, [samples, 100])\n",
    "\n",
    "def plot_generated_images(generator, samples=3):\n",
    "    noise = make_noise(samples)\n",
    "    \n",
    "    generated_images = generator.predict(noise)\n",
    "    generated_images = generated_images.reshape(samples, 28, 28)\n",
    "    \n",
    "    for i in range(samples):\n",
    "        plt.subplot(1, samples, i+1)\n",
    "        plt.imshow(generated_images[i], 'gray', interpolation='nearest')\n",
    "        plt.axis('off')\n",
    "        plt.tight_layout()\n",
    "        \n",
    "    plt.show()"
   ]
  },
  {
   "cell_type": "code",
   "execution_count": 25,
   "id": "1a536806-90a9-4387-b060-d64e379d6e92",
   "metadata": {},
   "outputs": [
    {
     "name": "stdout",
     "output_type": "stream",
     "text": [
      "WARNING:tensorflow:Model was constructed with shape (None, None, 100) for input KerasTensor(type_spec=TensorSpec(shape=(None, None, 100), dtype=tf.float32, name='reshape_input'), name='reshape_input', description=\"created by layer 'reshape_input'\"), but it was called on an input with incompatible shape (None, 100).\n",
      "WARNING:tensorflow:Model was constructed with shape (None, None, 100) for input KerasTensor(type_spec=TensorSpec(shape=(None, None, 100), dtype=tf.float32, name='reshape_input'), name='reshape_input', description=\"created by layer 'reshape_input'\"), but it was called on an input with incompatible shape (5, 100).\n",
      "WARNING:tensorflow:Model was constructed with shape (None, None, 100) for input KerasTensor(type_spec=TensorSpec(shape=(None, None, 100), dtype=tf.float32, name='reshape_input'), name='reshape_input', description=\"created by layer 'reshape_input'\"), but it was called on an input with incompatible shape (5, 100).\n",
      "Iteration: 0\n",
      "Discriminator Loss: 1.3920872211456299\n",
      "Generator Loss: 0.6932193040847778\n"
     ]
    },
    {
     "data": {
      "image/png": "[encoded data removed]",
      "text/plain": [
       "<Figure size 432x288 with 3 Axes>"
      ]
     },
     "metadata": {
      "needs_background": "light"
     },
     "output_type": "display_data"
    },
    {
     "name": "stdout",
     "output_type": "stream",
     "text": [
      "Iteration: 500\n",
      "Discriminator Loss: 0.02885674498975277\n",
      "Generator Loss: 8.37802505493164\n"
     ]
    },
    {
     "data": {
      "image/png": "[encoded data removed]",
      "text/plain": [
       "<Figure size 432x288 with 3 Axes>"
      ]
     },
     "metadata": {
      "needs_background": "light"
     },
     "output_type": "display_data"
    },
    {
     "name": "stdout",
     "output_type": "stream",
     "text": [
      "Iteration: 1000\n",
      "Discriminator Loss: 0.01626079430570826\n",
      "Generator Loss: 8.438737869262695\n"
     ]
    },
    {
     "data": {
      "image/png": "[encoded data removed]",
      "text/plain": [
       "<Figure size 432x288 with 3 Axes>"
      ]
     },
     "metadata": {
      "needs_background": "light"
     },
     "output_type": "display_data"
    },
    {
     "name": "stdout",
     "output_type": "stream",
     "text": [
      "Iteration: 1500\n",
      "Discriminator Loss: 0.12157605931861326\n",
      "Generator Loss: 6.538941383361816\n"
     ]
    },
    {
     "data": {
      "image/png": "[encoded data removed]",
      "text/plain": [
       "<Figure size 432x288 with 3 Axes>"
      ]
     },
     "metadata": {
      "needs_background": "light"
     },
     "output_type": "display_data"
    },
    {
     "name": "stdout",
     "output_type": "stream",
     "text": [
      "Iteration: 2000\n",
      "Discriminator Loss: 0.038133337162435055\n",
      "Generator Loss: 6.366779804229736\n"
     ]
    },
    {
     "data": {
      "image/png": "[encoded data removed]",
      "text/plain": [
       "<Figure size 432x288 with 3 Axes>"
      ]
     },
     "metadata": {
      "needs_background": "light"
     },
     "output_type": "display_data"
    },
    {
     "name": "stdout",
     "output_type": "stream",
     "text": [
      "Iteration: 2500\n",
      "Discriminator Loss: 0.02683158405125141\n",
      "Generator Loss: 5.128226280212402\n"
     ]
    },
    {
     "data": {
      "image/png": "[encoded data removed]",
      "text/plain": [
       "<Figure size 432x288 with 3 Axes>"
      ]
     },
     "metadata": {
      "needs_background": "light"
     },
     "output_type": "display_data"
    },
    {
     "name": "stdout",
     "output_type": "stream",
     "text": [
      "Iteration: 3000\n",
      "Discriminator Loss: 0.02471302915364504\n",
      "Generator Loss: 4.68800687789917\n"
     ]
    },
    {
     "data": {
      "image/png": "[encoded data removed]",
      "text/plain": [
       "<Figure size 432x288 with 3 Axes>"
      ]
     },
     "metadata": {
      "needs_background": "light"
     },
     "output_type": "display_data"
    },
    {
     "name": "stdout",
     "output_type": "stream",
     "text": [
      "Iteration: 3500\n",
      "Discriminator Loss: 0.013490641955286264\n",
      "Generator Loss: 5.689648628234863\n"
     ]
    },
    {
     "data": {
      "image/png": "[encoded data removed]",
      "text/plain": [
       "<Figure size 432x288 with 3 Axes>"
      ]
     },
     "metadata": {
      "needs_background": "light"
     },
     "output_type": "display_data"
    },
    {
     "name": "stdout",
     "output_type": "stream",
     "text": [
      "Iteration: 4000\n",
      "Discriminator Loss: 0.02978332748170942\n",
      "Generator Loss: 7.075987339019775\n"
     ]
    },
    {
     "data": {
      "image/png": "[encoded data removed]",
      "text/plain": [
       "<Figure size 432x288 with 3 Axes>"
      ]
     },
     "metadata": {
      "needs_background": "light"
     },
     "output_type": "display_data"
    },
    {
     "name": "stdout",
     "output_type": "stream",
     "text": [
      "Iteration: 4500\n",
      "Discriminator Loss: 0.008924286521505564\n",
      "Generator Loss: 7.835171699523926\n"
     ]
    },
    {
     "data": {
      "image/png": "[encoded data removed]",
      "text/plain": [
       "<Figure size 432x288 with 3 Axes>"
      ]
     },
     "metadata": {
      "needs_background": "light"
     },
     "output_type": "display_data"
    },
    {
     "name": "stdout",
     "output_type": "stream",
     "text": [
      "Iteration: 5000\n",
      "Discriminator Loss: 0.01404539094073698\n",
      "Generator Loss: 6.611810207366943\n"
     ]
    },
    {
     "data": {
      "image/png": "[encoded data removed]",
      "text/plain": [
       "<Figure size 432x288 with 3 Axes>"
      ]
     },
     "metadata": {
      "needs_background": "light"
     },
     "output_type": "display_data"
    }
   ],
   "source": [
    "n_iter = 5500\n",
    "batch_size = 5\n",
    "\n",
    "fake = np.zeros(batch_size)\n",
    "real = np.ones(batch_size)\n",
    "\n",
    "for i in range(n_iter):\n",
    "    # Train Discriminator\n",
    "    noise = make_noise(batch_size)\n",
    "    generated_images = generator.predict(noise)\n",
    "\n",
    "    idx = np.random.randint(0, train_x[1000:].shape[0], batch_size)\n",
    "    real_images = train_x[1000:][idx]\n",
    "\n",
    "    D_loss_real = discriminator.train_on_batch(real_images, real)\n",
    "    D_loss_fake = discriminator.train_on_batch(generated_images, fake)\n",
    "    D_loss = D_loss_real + D_loss_fake\n",
    "    \n",
    "    # Train Generator\n",
    "    noise = make_noise(batch_size)    \n",
    "    G_loss = combined.train_on_batch(noise, real)\n",
    "    \n",
    "    if i % 500 == 0:\n",
    "        print('Iteration:', i)\n",
    "        print('Discriminator Loss:', D_loss)\n",
    "        print('Generator Loss:', G_loss)\n",
    "\n",
    "        plot_generated_images(generator)"
   ]
  },
  {
   "cell_type": "markdown",
   "id": "f50327c3-1e76-401e-a2ab-878a93094611",
   "metadata": {},
   "source": [
    "Generated Images\n",
    "\n",
    "- Convert generated image to binary image\n",
    "- original one images:original seven images + generated fake seven images = 1:1"
   ]
  },
  {
   "cell_type": "code",
   "execution_count": 26,
   "id": "6c2ad889-250c-4b18-a0ef-f544e460cbe7",
   "metadata": {},
   "outputs": [],
   "source": [
    "# generated data\n",
    "# N = len(one) - len(seven)\n",
    "def generate_data(generator, samples):\n",
    "    noise = make_noise(samples)\n",
    "    \n",
    "    generated_images = generator.predict(noise)\n",
    "    generated_images = generated_images.reshape(samples, 28, 28, 1)\n",
    "    \n",
    "    return generated_images"
   ]
  },
  {
   "cell_type": "code",
   "execution_count": 27,
   "id": "1ff967c5-edbc-4c16-97ab-c974b59357cd",
   "metadata": {},
   "outputs": [
    {
     "data": {
      "text/plain": [
       "((1000, 784), (5, 784))"
      ]
     },
     "execution_count": 27,
     "metadata": {},
     "output_type": "execute_result"
    }
   ],
   "source": [
    "one_train_x.shape, seven_train_x.shape"
   ]
  },
  {
   "cell_type": "code",
   "execution_count": 28,
   "id": "ac61a113-d26f-4e2a-8662-4d40d7826adf",
   "metadata": {},
   "outputs": [],
   "source": [
    "N = len(one_train_x) - len(seven_train_x) # 995개의 가짜 7 이미지를 생성\n",
    "\n",
    "fake_seven_x = generate_data(generator, N)\n",
    "fake_seven_y = np.tile([0, 1], N).reshape(-1, 2)"
   ]
  },
  {
   "cell_type": "code",
   "execution_count": 29,
   "id": "c5536b87-5b7b-449f-b198-e3dc88420ecf",
   "metadata": {},
   "outputs": [
    {
     "data": {
      "text/plain": [
       "((995, 28, 28, 1), (995, 2))"
      ]
     },
     "execution_count": 29,
     "metadata": {},
     "output_type": "execute_result"
    }
   ],
   "source": [
    "fake_seven_x.shape, fake_seven_y.shape"
   ]
  },
  {
   "cell_type": "code",
   "execution_count": 36,
   "id": "33a481c2-8d9f-422b-8d49-1efc9b220875",
   "metadata": {},
   "outputs": [
    {
     "data": {
      "image/png": "[encoded data removed]",
      "text/plain": [
       "<Figure size 432x288 with 1 Axes>"
      ]
     },
     "metadata": {
      "needs_background": "light"
     },
     "output_type": "display_data"
    }
   ],
   "source": [
    "# Randomly plot one generated image among N\n",
    "plt.imshow(fake_seven_x[np.random.randint(N)].reshape(-1, 28), 'gray')\n",
    "plt.show()"
   ]
  },
  {
   "cell_type": "markdown",
   "id": "70386cf4-f1f8-4d1d-ab84-a60e196516b7",
   "metadata": {},
   "source": [
    "(4) Train the CNN model again using the original and generated (or augmented) data.\n",
    "\n",
    "- stack the generated data and original train data of seven\n",
    "- define new train data by putting new seven train and one train data altogether\n",
    "- define new train label\n",
    "- use the same CNN structure"
   ]
  },
  {
   "cell_type": "code",
   "execution_count": 37,
   "id": "a0e0fca8-a6d2-4902-a3bc-1f384bcc23f3",
   "metadata": {},
   "outputs": [],
   "source": [
    "# stack the generated data and original train data of seven\n",
    "# define new train data by putting new seven train and one train data altogether\n",
    "new_train_x = np.vstack([train_x, fake_seven_x])\n",
    "new_train_y = np.vstack([train_y, fake_seven_y])"
   ]
  },
  {
   "cell_type": "code",
   "execution_count": 38,
   "id": "09635fac-d463-431c-b324-35d22c3c9708",
   "metadata": {},
   "outputs": [
    {
     "name": "stdout",
     "output_type": "stream",
     "text": [
      "new_train_data:\t(2000, 28, 28, 1) (2000, 2)\n"
     ]
    }
   ],
   "source": [
    "print('new_train_data:\\t{} {}'.format(new_train_x.shape, new_train_y.shape))"
   ]
  },
  {
   "cell_type": "code",
   "execution_count": 39,
   "id": "f87938a6-da2c-4d7a-8352-908e73782fe0",
   "metadata": {},
   "outputs": [
    {
     "name": "stdout",
     "output_type": "stream",
     "text": [
      "Epoch 1/20\n",
      "63/63 [==============================] - 19s 299ms/step - loss: 0.0216 - accuracy: 0.9960\n",
      "Epoch 2/20\n",
      "63/63 [==============================] - 0s 6ms/step - loss: 0.0029 - accuracy: 0.9990\n",
      "Epoch 3/20\n",
      "63/63 [==============================] - 0s 6ms/step - loss: 1.9901e-04 - accuracy: 1.0000\n",
      "Epoch 4/20\n",
      "63/63 [==============================] - 0s 6ms/step - loss: 9.2667e-05 - accuracy: 1.0000\n",
      "Epoch 5/20\n",
      "63/63 [==============================] - 0s 6ms/step - loss: 6.4232e-05 - accuracy: 1.0000\n",
      "Epoch 6/20\n",
      "63/63 [==============================] - 0s 6ms/step - loss: 5.2067e-05 - accuracy: 1.0000\n",
      "Epoch 7/20\n",
      "63/63 [==============================] - 0s 6ms/step - loss: 4.4899e-05 - accuracy: 1.0000\n",
      "Epoch 8/20\n",
      "63/63 [==============================] - 0s 6ms/step - loss: 3.9014e-05 - accuracy: 1.0000\n",
      "Epoch 9/20\n",
      "63/63 [==============================] - 0s 6ms/step - loss: 3.4160e-05 - accuracy: 1.0000\n",
      "Epoch 10/20\n",
      "63/63 [==============================] - 0s 6ms/step - loss: 2.8948e-05 - accuracy: 1.0000\n",
      "Epoch 11/20\n",
      "63/63 [==============================] - 0s 6ms/step - loss: 2.6481e-05 - accuracy: 1.0000\n",
      "Epoch 12/20\n",
      "63/63 [==============================] - 0s 6ms/step - loss: 2.3816e-05 - accuracy: 1.0000\n",
      "Epoch 13/20\n",
      "63/63 [==============================] - 0s 6ms/step - loss: 2.1187e-05 - accuracy: 1.0000\n",
      "Epoch 14/20\n",
      "63/63 [==============================] - 0s 6ms/step - loss: 1.9933e-05 - accuracy: 1.0000\n",
      "Epoch 15/20\n",
      "63/63 [==============================] - 0s 6ms/step - loss: 1.7991e-05 - accuracy: 1.0000\n",
      "Epoch 16/20\n",
      "63/63 [==============================] - 0s 6ms/step - loss: 1.6261e-05 - accuracy: 1.0000\n",
      "Epoch 17/20\n",
      "63/63 [==============================] - 0s 6ms/step - loss: 1.5212e-05 - accuracy: 1.0000\n",
      "Epoch 18/20\n",
      "63/63 [==============================] - 0s 6ms/step - loss: 1.3763e-05 - accuracy: 1.0000\n",
      "Epoch 19/20\n",
      "63/63 [==============================] - 0s 6ms/step - loss: 1.3024e-05 - accuracy: 1.0000\n",
      "Epoch 20/20\n",
      "63/63 [==============================] - 0s 6ms/step - loss: 1.2058e-05 - accuracy: 1.0000\n"
     ]
    },
    {
     "data": {
      "text/plain": [
       "<tensorflow.python.keras.callbacks.History at 0x7ff1c857e4c0>"
      ]
     },
     "execution_count": 39,
     "metadata": {},
     "output_type": "execute_result"
    }
   ],
   "source": [
    "tf.keras.backend.clear_session()\n",
    "cnn_model.fit(new_train_x, new_train_y, epochs=20)"
   ]
  },
  {
   "cell_type": "markdown",
   "id": "640b9d2c-39fe-4bef-9d27-e5170142472b",
   "metadata": {},
   "source": [
    "- test\n",
    "  - random image test\n",
    "  - one image test\n",
    "  - seven image test"
   ]
  },
  {
   "cell_type": "markdown",
   "id": "50866896-caf3-4859-b211-0762f7c20ea1",
   "metadata": {},
   "source": [
    "Evaluate again with the test dataset that was first evaluated with CNN\n",
    "\n"
   ]
  },
  {
   "cell_type": "code",
   "execution_count": 40,
   "id": "8b466a87-1558-412b-a47a-5901d1d63fac",
   "metadata": {},
   "outputs": [
    {
     "name": "stdout",
     "output_type": "stream",
     "text": [
      "166/166 [==============================] - 1s 3ms/step - loss: 0.0395 - accuracy: 0.9943\n"
     ]
    }
   ],
   "source": [
    "# test_dataset\n",
    "test_loss, test_acc = cnn_model.evaluate(test_x, test_y)"
   ]
  },
  {
   "cell_type": "code",
   "execution_count": 41,
   "id": "4cd1adb4-4958-46e6-bc1b-efe8aaae7867",
   "metadata": {},
   "outputs": [
    {
     "name": "stdout",
     "output_type": "stream",
     "text": [
      "157/157 [==============================] - 1s 3ms/step - loss: 0.0213 - accuracy: 0.9976\n"
     ]
    }
   ],
   "source": [
    "# one image test\n",
    "one_loss, one_acc = cnn_model.evaluate(test_x[:5000], test_y[:5000])"
   ]
  },
  {
   "cell_type": "code",
   "execution_count": 42,
   "id": "e77598c2-e3fd-472e-bf99-b2a0a026641b",
   "metadata": {},
   "outputs": [
    {
     "name": "stdout",
     "output_type": "stream",
     "text": [
      "10/10 [==============================] - 0s 4ms/step - loss: 0.3486 - accuracy: 0.9390\n"
     ]
    }
   ],
   "source": [
    "# seven image test\n",
    "seven_loss, seven_acc = cnn_model.evaluate(test_x[5000:], test_y[5000:])"
   ]
  },
  {
   "cell_type": "markdown",
   "id": "8b3e7723-8b2a-4462-989d-1344a0acb3e9",
   "metadata": {},
   "source": [
    "## Problem 2: LSTM with TensorFlow\n",
    "- In this problem, you will make a LSTM model to predict the half of an MNIST image using the other half.\n",
    "- You will split an MNIST image into 28 pieces.\n",
    "- MNIST is 28 x 28 image. The model predicts a piece of 1 x 28 image.\n",
    "- First, 14 x 28 image will be feeded into a model as time series, then the model predict the last 14 x 28 image, recursively."
   ]
  },
  {
   "cell_type": "markdown",
   "id": "38c00e73-e933-44d5-98df-1db780cb9656",
   "metadata": {},
   "source": [
    "<img src='./lstm_1.png' width=\"800\" height=\"200\">"
   ]
  },
  {
   "cell_type": "markdown",
   "id": "03fb2e19-d1f6-4618-b929-277082cc0d52",
   "metadata": {},
   "source": [
    "(1) Load MNIST Data\n",
    "\n",
    "- Download MNIST data from the tensorflow tutorial example"
   ]
  },
  {
   "cell_type": "code",
   "execution_count": 43,
   "id": "02479480-ca6a-4030-a85d-37b190497d1b",
   "metadata": {},
   "outputs": [],
   "source": [
    "mnist = tf.keras.datasets.mnist\n",
    "\n",
    "(train_x, train_y), (test_x, test_y) = mnist.load_data()\n",
    "\n",
    "train_x, test_x = train_x / 255.0, test_x / 255.0\n",
    "\n",
    "train_x = train_x.reshape(-1, 28, 28)\n",
    "test_x = test_x.reshape(-1, 28, 28)"
   ]
  },
  {
   "cell_type": "code",
   "execution_count": 44,
   "id": "b5dc92a9-a1c5-4a3a-ae24-ac516305a0e0",
   "metadata": {},
   "outputs": [
    {
     "name": "stdout",
     "output_type": "stream",
     "text": [
      "train_x: (60000, 28, 28)\n",
      "test_x: (10000, 28, 28)\n"
     ]
    }
   ],
   "source": [
    "print('train_x: {}\\ntest_x: {}'.format(train_x.shape, test_x.shape))"
   ]
  },
  {
   "cell_type": "markdown",
   "id": "186c3d10-0818-4acb-b5e4-a17f98c335db",
   "metadata": {},
   "source": [
    "(2) Randomly plot a data with its label"
   ]
  },
  {
   "cell_type": "code",
   "execution_count": 45,
   "id": "926b414e-e077-478b-8362-3d10a55827fc",
   "metadata": {},
   "outputs": [
    {
     "data": {
      "image/png": "[encoded data removed]",
      "text/plain": [
       "<Figure size 432x288 with 1 Axes>"
      ]
     },
     "metadata": {
      "needs_background": "light"
     },
     "output_type": "display_data"
    }
   ],
   "source": [
    "rand_idx = np.random.randint(len(train_x))\n",
    "\n",
    "plt.imshow(train_x[rand_idx], 'gray')\n",
    "plt.title(\"Label: {}\".format(train_y[rand_idx]))\n",
    "plt.axis('off')\n",
    "\n",
    "plt.show()"
   ]
  },
  {
   "cell_type": "markdown",
   "id": "ef9ec26f-e0b0-4c9a-ac9e-5afd2688f7e3",
   "metadata": {},
   "source": [
    "(3) Define LSTM Structure"
   ]
  },
  {
   "cell_type": "markdown",
   "id": "be04a7f4-6706-45a9-a72c-ab35d02387c8",
   "metadata": {},
   "source": [
    "<img src='./lstm_2.png' width=\"800\" height=\"200\">"
   ]
  },
  {
   "cell_type": "code",
   "execution_count": 47,
   "id": "d10fafb2-bbe4-49fb-8a38-569e7ca0d1da",
   "metadata": {
    "tags": []
   },
   "outputs": [],
   "source": [
    "n_step = 14\n",
    "n_input = 28\n",
    "\n",
    "# LSTM shape\n",
    "n_lstm1 = 10\n",
    "n_lstm2 = 10\n",
    "\n",
    "# fully connected\n",
    "n_hidden = 100\n",
    "n_output = 28"
   ]
  },
  {
   "cell_type": "code",
   "execution_count": 48,
   "id": "3aeca68e-410f-4b7a-a80d-012fd4fd2afc",
   "metadata": {
    "scrolled": true,
    "tags": []
   },
   "outputs": [],
   "source": [
    "lstm_network = tf.keras.models.Sequential([\n",
    "    tf.keras.layers.Input(shape=(n_step, n_input)),\n",
    "    tf.keras.layers.LSTM(n_lstm1, return_sequences=True),\n",
    "    tf.keras.layers.LSTM(n_lstm2),\n",
    "    tf.keras.layers.Dense(n_hidden),\n",
    "    tf.keras.layers.Dense(n_output)])"
   ]
  },
  {
   "cell_type": "code",
   "execution_count": 49,
   "id": "c0eb9a33-ab20-4f18-bac5-4b8a099b5bab",
   "metadata": {},
   "outputs": [
    {
     "name": "stdout",
     "output_type": "stream",
     "text": [
      "Model: \"sequential\"\n",
      "_________________________________________________________________\n",
      "Layer (type)                 Output Shape              Param #   \n",
      "=================================================================\n",
      "lstm (LSTM)                  (None, 14, 10)            1560      \n",
      "_________________________________________________________________\n",
      "lstm_1 (LSTM)                (None, 10)                840       \n",
      "_________________________________________________________________\n",
      "dense (Dense)                (None, 100)               1100      \n",
      "_________________________________________________________________\n",
      "dense_1 (Dense)              (None, 28)                2828      \n",
      "=================================================================\n",
      "Total params: 6,328\n",
      "Trainable params: 6,328\n",
      "Non-trainable params: 0\n",
      "_________________________________________________________________\n"
     ]
    }
   ],
   "source": [
    "lstm_network.summary()"
   ]
  },
  {
   "cell_type": "markdown",
   "id": "a2c9392e-9a4f-4f32-aefb-4e8709402682",
   "metadata": {},
   "source": [
    "(4) Define Cost, Initializer and Optimizer Loss\n",
    "\n",
    "- Regression: Squared loss\n",
    "\n",
    "<img src='./lstm_3.png' width=\"200\" height=\"100\">"
   ]
  },
  {
   "cell_type": "markdown",
   "id": "641bc938-47b9-472f-bea3-2194dd6da205",
   "metadata": {},
   "source": [
    "Initializer\n",
    "- Initialize all the empty variables\n",
    "\n",
    "Optimizer\n",
    "- AdamOptimizer: the most popular optimizer"
   ]
  },
  {
   "cell_type": "code",
   "execution_count": 50,
   "id": "7d43a36a-f683-489e-9899-6912b0abe95d",
   "metadata": {},
   "outputs": [],
   "source": [
    "lstm_network.compile(optimizer=tf.keras.optimizers.Adam(),\n",
    "                     loss=tf.keras.losses.MeanSquaredError())"
   ]
  },
  {
   "cell_type": "markdown",
   "id": "c046d800-e7cf-4777-9885-71d76d32a234",
   "metadata": {},
   "source": [
    "(5) Define optimization configuration and then optimize\n",
    "\n",
    "Highly recommand to use GPU or Colab."
   ]
  },
  {
   "cell_type": "code",
   "execution_count": 51,
   "id": "a965edf8-11c0-4c54-be3d-55274693fb2b",
   "metadata": {},
   "outputs": [],
   "source": [
    "def make_batch(data, size=50, seed=1207):\n",
    "    np.random.seed(seed)\n",
    "    random_indices = np.random.choice(len(data), size, replace=False)\n",
    "    random_train = data[random_indices,]\n",
    "    \n",
    "    return random_train"
   ]
  },
  {
   "cell_type": "code",
   "execution_count": 53,
   "id": "a5b14539-80dc-4851-a5fc-be3a590b6af3",
   "metadata": {
    "scrolled": true,
    "tags": []
   },
   "outputs": [
    {
     "name": "stdout",
     "output_type": "stream",
     "text": [
      "Iteration: 0\tMSE_Loss: 0.0028738968539983034\n",
      "Iteration: 5\tMSE_Loss: 0.0010584882693365216\n",
      "Iteration: 10\tMSE_Loss: 0.0007151655736379325\n",
      "Iteration: 15\tMSE_Loss: 0.0007429532706737518\n",
      "Iteration: 20\tMSE_Loss: 0.0007776379934512079\n",
      "Iteration: 25\tMSE_Loss: 0.0007343785837292671\n",
      "Iteration: 30\tMSE_Loss: 0.0006292552570812404\n",
      "Iteration: 35\tMSE_Loss: 0.0005137105472385883\n",
      "Iteration: 40\tMSE_Loss: 0.00039782203384675086\n",
      "Iteration: 45\tMSE_Loss: 0.0003238289791624993\n",
      "Iteration: 50\tMSE_Loss: 0.00028380710864439607\n",
      "Iteration: 55\tMSE_Loss: 0.00024279743956867605\n",
      "Iteration: 60\tMSE_Loss: 0.00025910866679623723\n",
      "Iteration: 65\tMSE_Loss: 0.00022751910728402436\n",
      "Iteration: 70\tMSE_Loss: 0.0002465243451297283\n",
      "Iteration: 75\tMSE_Loss: 0.00023259904992301017\n",
      "Iteration: 80\tMSE_Loss: 0.00026687479112297297\n",
      "Iteration: 85\tMSE_Loss: 0.0003110299294348806\n",
      "Iteration: 90\tMSE_Loss: 0.0003306402068119496\n",
      "Iteration: 95\tMSE_Loss: 0.0003674388863146305\n",
      "Iteration: 100\tMSE_Loss: 0.00034632833558134735\n",
      "Iteration: 105\tMSE_Loss: 0.0003982814378105104\n",
      "Iteration: 110\tMSE_Loss: 0.000369423272786662\n",
      "Iteration: 115\tMSE_Loss: 0.00034793466329574585\n"
     ]
    },
    {
     "ename": "KeyboardInterrupt",
     "evalue": "",
     "output_type": "error",
     "traceback": [
      "\u001b[0;31m---------------------------------------------------------------------------\u001b[0m",
      "\u001b[0;31mKeyboardInterrupt\u001b[0m                         Traceback (most recent call last)",
      "\u001b[0;32m/tmp/ipykernel_76366/1106046123.py\u001b[0m in \u001b[0;36m<module>\u001b[0;34m\u001b[0m\n\u001b[1;32m      7\u001b[0m     \u001b[0;32mfor\u001b[0m \u001b[0mj\u001b[0m \u001b[0;32min\u001b[0m \u001b[0mrange\u001b[0m\u001b[0;34m(\u001b[0m\u001b[0mbatch_size\u001b[0m\u001b[0;34m)\u001b[0m\u001b[0;34m:\u001b[0m\u001b[0;34m\u001b[0m\u001b[0;34m\u001b[0m\u001b[0m\n\u001b[1;32m      8\u001b[0m         \u001b[0;32mfor\u001b[0m \u001b[0mn\u001b[0m \u001b[0;32min\u001b[0m \u001b[0mrange\u001b[0m\u001b[0;34m(\u001b[0m\u001b[0mn_step\u001b[0m\u001b[0;34m)\u001b[0m\u001b[0;34m:\u001b[0m\u001b[0;34m\u001b[0m\u001b[0;34m\u001b[0m\u001b[0m\n\u001b[0;32m----> 9\u001b[0;31m             loss = lstm_network.train_on_batch(\n\u001b[0m\u001b[1;32m     10\u001b[0m                 \u001b[0mbatch_imgs\u001b[0m\u001b[0;34m[\u001b[0m\u001b[0mj\u001b[0m\u001b[0;34m,\u001b[0m \u001b[0mn\u001b[0m\u001b[0;34m:\u001b[0m\u001b[0mn\u001b[0m\u001b[0;34m+\u001b[0m\u001b[0mn_step\u001b[0m\u001b[0;34m]\u001b[0m\u001b[0;34m.\u001b[0m\u001b[0mreshape\u001b[0m\u001b[0;34m(\u001b[0m\u001b[0;34m-\u001b[0m\u001b[0;36m1\u001b[0m\u001b[0;34m,\u001b[0m \u001b[0;36m14\u001b[0m\u001b[0;34m,\u001b[0m \u001b[0;36m28\u001b[0m\u001b[0;34m)\u001b[0m\u001b[0;34m,\u001b[0m\u001b[0;34m\u001b[0m\u001b[0;34m\u001b[0m\u001b[0m\n\u001b[1;32m     11\u001b[0m                 batch_imgs[j, n+n_step].reshape(-1, 1, 28))\n",
      "\u001b[0;32m~/anaconda3/envs/workflow_lstm/lib/python3.8/site-packages/tensorflow/python/keras/engine/training.py\u001b[0m in \u001b[0;36mtrain_on_batch\u001b[0;34m(self, x, y, sample_weight, class_weight, reset_metrics, return_dict)\u001b[0m\n\u001b[1;32m   1725\u001b[0m                                                     class_weight)\n\u001b[1;32m   1726\u001b[0m       \u001b[0mself\u001b[0m\u001b[0;34m.\u001b[0m\u001b[0mtrain_function\u001b[0m \u001b[0;34m=\u001b[0m \u001b[0mself\u001b[0m\u001b[0;34m.\u001b[0m\u001b[0mmake_train_function\u001b[0m\u001b[0;34m(\u001b[0m\u001b[0;34m)\u001b[0m\u001b[0;34m\u001b[0m\u001b[0;34m\u001b[0m\u001b[0m\n\u001b[0;32m-> 1727\u001b[0;31m       \u001b[0mlogs\u001b[0m \u001b[0;34m=\u001b[0m \u001b[0mself\u001b[0m\u001b[0;34m.\u001b[0m\u001b[0mtrain_function\u001b[0m\u001b[0;34m(\u001b[0m\u001b[0miterator\u001b[0m\u001b[0;34m)\u001b[0m\u001b[0;34m\u001b[0m\u001b[0;34m\u001b[0m\u001b[0m\n\u001b[0m\u001b[1;32m   1728\u001b[0m \u001b[0;34m\u001b[0m\u001b[0m\n\u001b[1;32m   1729\u001b[0m     \u001b[0;32mif\u001b[0m \u001b[0mreset_metrics\u001b[0m\u001b[0;34m:\u001b[0m\u001b[0;34m\u001b[0m\u001b[0;34m\u001b[0m\u001b[0m\n",
      "\u001b[0;32m~/anaconda3/envs/workflow_lstm/lib/python3.8/site-packages/tensorflow/python/eager/def_function.py\u001b[0m in \u001b[0;36m__call__\u001b[0;34m(self, *args, **kwds)\u001b[0m\n\u001b[1;32m    826\u001b[0m     \u001b[0mtracing_count\u001b[0m \u001b[0;34m=\u001b[0m \u001b[0mself\u001b[0m\u001b[0;34m.\u001b[0m\u001b[0mexperimental_get_tracing_count\u001b[0m\u001b[0;34m(\u001b[0m\u001b[0;34m)\u001b[0m\u001b[0;34m\u001b[0m\u001b[0;34m\u001b[0m\u001b[0m\n\u001b[1;32m    827\u001b[0m     \u001b[0;32mwith\u001b[0m \u001b[0mtrace\u001b[0m\u001b[0;34m.\u001b[0m\u001b[0mTrace\u001b[0m\u001b[0;34m(\u001b[0m\u001b[0mself\u001b[0m\u001b[0;34m.\u001b[0m\u001b[0m_name\u001b[0m\u001b[0;34m)\u001b[0m \u001b[0;32mas\u001b[0m \u001b[0mtm\u001b[0m\u001b[0;34m:\u001b[0m\u001b[0;34m\u001b[0m\u001b[0;34m\u001b[0m\u001b[0m\n\u001b[0;32m--> 828\u001b[0;31m       \u001b[0mresult\u001b[0m \u001b[0;34m=\u001b[0m \u001b[0mself\u001b[0m\u001b[0;34m.\u001b[0m\u001b[0m_call\u001b[0m\u001b[0;34m(\u001b[0m\u001b[0;34m*\u001b[0m\u001b[0margs\u001b[0m\u001b[0;34m,\u001b[0m \u001b[0;34m**\u001b[0m\u001b[0mkwds\u001b[0m\u001b[0;34m)\u001b[0m\u001b[0;34m\u001b[0m\u001b[0;34m\u001b[0m\u001b[0m\n\u001b[0m\u001b[1;32m    829\u001b[0m       \u001b[0mcompiler\u001b[0m \u001b[0;34m=\u001b[0m \u001b[0;34m\"xla\"\u001b[0m \u001b[0;32mif\u001b[0m \u001b[0mself\u001b[0m\u001b[0;34m.\u001b[0m\u001b[0m_experimental_compile\u001b[0m \u001b[0;32melse\u001b[0m \u001b[0;34m\"nonXla\"\u001b[0m\u001b[0;34m\u001b[0m\u001b[0;34m\u001b[0m\u001b[0m\n\u001b[1;32m    830\u001b[0m       \u001b[0mnew_tracing_count\u001b[0m \u001b[0;34m=\u001b[0m \u001b[0mself\u001b[0m\u001b[0;34m.\u001b[0m\u001b[0mexperimental_get_tracing_count\u001b[0m\u001b[0;34m(\u001b[0m\u001b[0;34m)\u001b[0m\u001b[0;34m\u001b[0m\u001b[0;34m\u001b[0m\u001b[0m\n",
      "\u001b[0;32m~/anaconda3/envs/workflow_lstm/lib/python3.8/site-packages/tensorflow/python/eager/def_function.py\u001b[0m in \u001b[0;36m_call\u001b[0;34m(self, *args, **kwds)\u001b[0m\n\u001b[1;32m    853\u001b[0m       \u001b[0;31m# In this case we have created variables on the first call, so we run the\u001b[0m\u001b[0;34m\u001b[0m\u001b[0;34m\u001b[0m\u001b[0;34m\u001b[0m\u001b[0m\n\u001b[1;32m    854\u001b[0m       \u001b[0;31m# defunned version which is guaranteed to never create variables.\u001b[0m\u001b[0;34m\u001b[0m\u001b[0;34m\u001b[0m\u001b[0;34m\u001b[0m\u001b[0m\n\u001b[0;32m--> 855\u001b[0;31m       \u001b[0;32mreturn\u001b[0m \u001b[0mself\u001b[0m\u001b[0;34m.\u001b[0m\u001b[0m_stateless_fn\u001b[0m\u001b[0;34m(\u001b[0m\u001b[0;34m*\u001b[0m\u001b[0margs\u001b[0m\u001b[0;34m,\u001b[0m \u001b[0;34m**\u001b[0m\u001b[0mkwds\u001b[0m\u001b[0;34m)\u001b[0m  \u001b[0;31m# pylint: disable=not-callable\u001b[0m\u001b[0;34m\u001b[0m\u001b[0;34m\u001b[0m\u001b[0m\n\u001b[0m\u001b[1;32m    856\u001b[0m     \u001b[0;32melif\u001b[0m \u001b[0mself\u001b[0m\u001b[0;34m.\u001b[0m\u001b[0m_stateful_fn\u001b[0m \u001b[0;32mis\u001b[0m \u001b[0;32mnot\u001b[0m \u001b[0;32mNone\u001b[0m\u001b[0;34m:\u001b[0m\u001b[0;34m\u001b[0m\u001b[0;34m\u001b[0m\u001b[0m\n\u001b[1;32m    857\u001b[0m       \u001b[0;31m# Release the lock early so that multiple threads can perform the call\u001b[0m\u001b[0;34m\u001b[0m\u001b[0;34m\u001b[0m\u001b[0;34m\u001b[0m\u001b[0m\n",
      "\u001b[0;32m~/anaconda3/envs/workflow_lstm/lib/python3.8/site-packages/tensorflow/python/eager/function.py\u001b[0m in \u001b[0;36m__call__\u001b[0;34m(self, *args, **kwargs)\u001b[0m\n\u001b[1;32m   2940\u001b[0m       (graph_function,\n\u001b[1;32m   2941\u001b[0m        filtered_flat_args) = self._maybe_define_function(args, kwargs)\n\u001b[0;32m-> 2942\u001b[0;31m     return graph_function._call_flat(\n\u001b[0m\u001b[1;32m   2943\u001b[0m         filtered_flat_args, captured_inputs=graph_function.captured_inputs)  # pylint: disable=protected-access\n\u001b[1;32m   2944\u001b[0m \u001b[0;34m\u001b[0m\u001b[0m\n",
      "\u001b[0;32m~/anaconda3/envs/workflow_lstm/lib/python3.8/site-packages/tensorflow/python/eager/function.py\u001b[0m in \u001b[0;36m_call_flat\u001b[0;34m(self, args, captured_inputs, cancellation_manager)\u001b[0m\n\u001b[1;32m   1916\u001b[0m         and executing_eagerly):\n\u001b[1;32m   1917\u001b[0m       \u001b[0;31m# No tape is watching; skip to running the function.\u001b[0m\u001b[0;34m\u001b[0m\u001b[0;34m\u001b[0m\u001b[0;34m\u001b[0m\u001b[0m\n\u001b[0;32m-> 1918\u001b[0;31m       return self._build_call_outputs(self._inference_function.call(\n\u001b[0m\u001b[1;32m   1919\u001b[0m           ctx, args, cancellation_manager=cancellation_manager))\n\u001b[1;32m   1920\u001b[0m     forward_backward = self._select_forward_and_backward_functions(\n",
      "\u001b[0;32m~/anaconda3/envs/workflow_lstm/lib/python3.8/site-packages/tensorflow/python/eager/function.py\u001b[0m in \u001b[0;36mcall\u001b[0;34m(self, ctx, args, cancellation_manager)\u001b[0m\n\u001b[1;32m    553\u001b[0m       \u001b[0;32mwith\u001b[0m \u001b[0m_InterpolateFunctionError\u001b[0m\u001b[0;34m(\u001b[0m\u001b[0mself\u001b[0m\u001b[0;34m)\u001b[0m\u001b[0;34m:\u001b[0m\u001b[0;34m\u001b[0m\u001b[0;34m\u001b[0m\u001b[0m\n\u001b[1;32m    554\u001b[0m         \u001b[0;32mif\u001b[0m \u001b[0mcancellation_manager\u001b[0m \u001b[0;32mis\u001b[0m \u001b[0;32mNone\u001b[0m\u001b[0;34m:\u001b[0m\u001b[0;34m\u001b[0m\u001b[0;34m\u001b[0m\u001b[0m\n\u001b[0;32m--> 555\u001b[0;31m           outputs = execute.execute(\n\u001b[0m\u001b[1;32m    556\u001b[0m               \u001b[0mstr\u001b[0m\u001b[0;34m(\u001b[0m\u001b[0mself\u001b[0m\u001b[0;34m.\u001b[0m\u001b[0msignature\u001b[0m\u001b[0;34m.\u001b[0m\u001b[0mname\u001b[0m\u001b[0;34m)\u001b[0m\u001b[0;34m,\u001b[0m\u001b[0;34m\u001b[0m\u001b[0;34m\u001b[0m\u001b[0m\n\u001b[1;32m    557\u001b[0m               \u001b[0mnum_outputs\u001b[0m\u001b[0;34m=\u001b[0m\u001b[0mself\u001b[0m\u001b[0;34m.\u001b[0m\u001b[0m_num_outputs\u001b[0m\u001b[0;34m,\u001b[0m\u001b[0;34m\u001b[0m\u001b[0;34m\u001b[0m\u001b[0m\n",
      "\u001b[0;32m~/anaconda3/envs/workflow_lstm/lib/python3.8/site-packages/tensorflow/python/eager/execute.py\u001b[0m in \u001b[0;36mquick_execute\u001b[0;34m(op_name, num_outputs, inputs, attrs, ctx, name)\u001b[0m\n\u001b[1;32m     57\u001b[0m   \u001b[0;32mtry\u001b[0m\u001b[0;34m:\u001b[0m\u001b[0;34m\u001b[0m\u001b[0;34m\u001b[0m\u001b[0m\n\u001b[1;32m     58\u001b[0m     \u001b[0mctx\u001b[0m\u001b[0;34m.\u001b[0m\u001b[0mensure_initialized\u001b[0m\u001b[0;34m(\u001b[0m\u001b[0;34m)\u001b[0m\u001b[0;34m\u001b[0m\u001b[0;34m\u001b[0m\u001b[0m\n\u001b[0;32m---> 59\u001b[0;31m     tensors = pywrap_tfe.TFE_Py_Execute(ctx._handle, device_name, op_name,\n\u001b[0m\u001b[1;32m     60\u001b[0m                                         inputs, attrs, num_outputs)\n\u001b[1;32m     61\u001b[0m   \u001b[0;32mexcept\u001b[0m \u001b[0mcore\u001b[0m\u001b[0;34m.\u001b[0m\u001b[0m_NotOkStatusException\u001b[0m \u001b[0;32mas\u001b[0m \u001b[0me\u001b[0m\u001b[0;34m:\u001b[0m\u001b[0;34m\u001b[0m\u001b[0;34m\u001b[0m\u001b[0m\n",
      "\u001b[0;31mKeyboardInterrupt\u001b[0m: "
     ]
    }
   ],
   "source": [
    "n_iter = 150\n",
    "n_prt = 5\n",
    "batch_size = 50\n",
    "\n",
    "for i in range(n_iter):\n",
    "    batch_imgs = make_batch(train_x, size=batch_size)\n",
    "    for j in range(batch_size):\n",
    "        for n in range(n_step):\n",
    "            loss = lstm_network.train_on_batch(\n",
    "                batch_imgs[j, n:n+n_step].reshape(-1, 14, 28),\n",
    "                batch_imgs[j, n+n_step].reshape(-1, 1, 28))\n",
    "\n",
    "    if i % n_prt == 0:\n",
    "        print('Iteration:', i, end='\\t')\n",
    "        print('MSE_Loss:', loss)"
   ]
  },
  {
   "cell_type": "markdown",
   "id": "8e641ce7-9595-4163-b9f9-e0359fc2a8c5",
   "metadata": {},
   "source": [
    "(6) Test or Evaluate\n",
    "\n",
    "- Predict the MNIST image\n",
    "- MNIST is 28 x 28 image. The model predicts a piece of 1 x 28 image.\n",
    "- First, 14 x 28 image will be feeded into a model, then the model predict the last 14 x 28 image, recursively."
   ]
  },
  {
   "cell_type": "code",
   "execution_count": 54,
   "id": "f8ce4cda-3e5b-4a0e-89d7-1b971e1641ef",
   "metadata": {
    "tags": []
   },
   "outputs": [],
   "source": [
    "def generate(data):\n",
    "    test_data = data.copy()\n",
    "    gen_signal = []\n",
    "    for i in range(n_step):\n",
    "        test_pred = lstm_network.predict(test_data)\n",
    "        gen_signal.append(test_pred.ravel())\n",
    "\n",
    "        test_data = np.concatenate([test_data[:, 1:, :], \n",
    "                                    test_pred[:, np.newaxis, :]], axis=1)\n",
    "\n",
    "    gen_signal = np.concatenate(gen_signal)\n",
    "    generated_image = np.vstack([data.reshape(-1, 28), gen_signal.reshape(-1, 28)])\n",
    "    \n",
    "    return generated_image"
   ]
  },
  {
   "cell_type": "code",
   "execution_count": 58,
   "id": "976e13d9-6316-453d-893c-deb57e767a98",
   "metadata": {},
   "outputs": [
    {
     "data": {
      "image/png": "[encoded data removed]",
      "text/plain": [
       "<Figure size 864x1440 with 15 Axes>"
      ]
     },
     "metadata": {
      "needs_background": "light"
     },
     "output_type": "display_data"
    }
   ],
   "source": [
    "N_rows = 5\n",
    "test_indexes = np.random.randint(0, test_x.shape[0], N_rows)\n",
    "\n",
    "original_imgs = test_x\n",
    "input_imgs = test_x[:, :14, :]\n",
    "generated_imgs = [generate(test_x[index, :14, :].reshape(-1, n_step, 28)) \n",
    "                  for index in test_indexes]\n",
    "\n",
    "fig, axes = plt.subplots(N_rows, 3, figsize=(12, 20))\n",
    "for i, j in enumerate(test_indexes):\n",
    "    axes[i, 0].imshow(original_imgs[j].reshape(-1, 28), 'gray', interpolation='nearest')\n",
    "    axes[i, 0].set_title('Original Img')\n",
    "    axes[i, 0].axis('off')\n",
    "\n",
    "    axes[i, 1].imshow(input_imgs[j].reshape(-1, 28), 'gray', interpolation='nearest')\n",
    "    axes[i, 1].set_title('Input')\n",
    "    axes[i, 1].axis('off')\n",
    "\n",
    "    axes[i, 2].imshow(generated_imgs[i].reshape(-1, 28), 'gray', interpolation='nearest')\n",
    "    axes[i, 2].set_title('Generated Img')\n",
    "    axes[i, 2].axis('off')\n",
    "\n",
    "plt.show()"
   ]
  },
  {
   "cell_type": "code",
   "execution_count": null,
   "id": "24683501-6cf3-4339-b011-bcaef1babfcb",
   "metadata": {},
   "outputs": [],
   "source": []
  }
 ],
 "metadata": {
  "kernelspec": {
   "display_name": "Python [conda env:workflow_lstm]",
   "language": "python",
   "name": "conda-env-workflow_lstm-py"
  },
  "language_info": {
   "codemirror_mode": {
    "name": "ipython",
    "version": 3
   },
   "file_extension": ".py",
   "mimetype": "text/x-python",
   "name": "python",
   "nbconvert_exporter": "python",
   "pygments_lexer": "ipython3",
   "version": "3.8.0"
  }
 },
 "nbformat": 4,
 "nbformat_minor": 5
}
