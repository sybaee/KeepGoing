{
 "cells": [
  {
   "cell_type": "markdown",
   "metadata": {},
   "source": [
    "### Problem 1: Understanding Backpropagation"
   ]
  },
  {
   "cell_type": "markdown",
   "metadata": {},
   "source": [
    "<img src='figures/fig_1.png' width=\"700\" height=\"300\">"
   ]
  },
  {
   "cell_type": "markdown",
   "metadata": {},
   "source": [
    "### Step 1: Forward Propagation"
   ]
  },
  {
   "cell_type": "markdown",
   "metadata": {},
   "source": [
    "(1) [hand written] Write and calculate  𝑧1 ,  𝑧2 ,  ℎ1 ,  ℎ2 ,  𝑧3 ,  𝑧4 ,  𝜎1 ,  𝜎2 , and  𝐸total  of \"forward\" propagation."
   ]
  },
  {
   "cell_type": "code",
   "execution_count": null,
   "metadata": {},
   "outputs": [],
   "source": [
    "import math\n",
    "\n",
    "def sigmoid(x):\n",
    "    return 1 / (1 + math.exp(-x))\n",
    "\n",
    "LR = 0.9\n",
    "x1 = 0.2; x2 = 0.3\n",
    "\n",
    "w1 = 0.3; w2 = 0.25\n",
    "w3 = 0.4; w4 = 0.3\n",
    "w5 = 0.5; w6 = 0.4\n",
    "w7 = 0.7; w8 = 0.8\n",
    "\n",
    "True1 = 0.4; True2 = 0.6"
   ]
  },
  {
   "cell_type": "code",
   "execution_count": 2,
   "metadata": {},
   "outputs": [
    {
     "name": "stdout",
     "output_type": "stream",
     "text": [
      "z1:\t 0.3 * 0.2 + 0.25 * 0.3 = 0.135\n",
      "z2:\t 0.4 * 0.2 + 0.3 * 0.3 = 0.17\n",
      "h1:\t sigmoid(0.135) = 0.5336988354329009\n",
      "h2:\t sigmoid(0.17) = 0.542397940774351\n",
      "z3:\t 0.5 * 0.5336988354329009 + 0.4 * 0.542397940774351 = 0.4838085940261908\n",
      "z4:\t 0.7 * 0.5336988354329009 + 0.8 * 0.542397940774351 = 0.8075075374225114\n",
      "sig1:\t sigmoid(0.4838085940261908) = 0.6186468145681012\n",
      "sig2:\t sigmoid(0.8075075374225114) = 0.6915781214702564\n",
      "E_total: 0.02809649092639934\n"
     ]
    }
   ],
   "source": [
    "z1 = w1*x1 + w2*x2\n",
    "print('z1:\\t {} * {} + {} * {} = {}'.format(w1, x1, w2, x2, z1))\n",
    "\n",
    "z2 = w3*x1 + w4*x2\n",
    "print('z2:\\t {} * {} + {} * {} = {}'.format(w3, x1, w4, x2, z2))\n",
    "\n",
    "h1 = sigmoid(z1)\n",
    "print('h1:\\t sigmoid({}) = {}'.format(z1, h1))\n",
    "\n",
    "h2 = sigmoid(z2)\n",
    "print('h2:\\t sigmoid({}) = {}'.format(z2, h2))\n",
    "\n",
    "z3 = w5*h1 + w6*h2\n",
    "print('z3:\\t {} * {} + {} * {} = {}'.format(w5, h1, w6, h2, z3))\n",
    "\n",
    "z4 = w7*h1 + w8*h2\n",
    "print('z4:\\t {} * {} + {} * {} = {}'.format(w7, h1, w8, h2, z4))\n",
    "\n",
    "sig1 = sigmoid(z3)\n",
    "print('sig1:\\t sigmoid({}) = {}'.format(z3, sig1))\n",
    "\n",
    "sig2 = sigmoid(z4)\n",
    "print('sig2:\\t sigmoid({}) = {}'.format(z4, sig2))\n",
    "\n",
    "E_total = 1/2 * (True1- sig1)**2 + 1/2 * (True2 - sig2)**2\n",
    "print('E_total: {}'.format(E_total))"
   ]
  },
  {
   "cell_type": "markdown",
   "metadata": {},
   "source": [
    "<img src='figures/answer_1.jpg' width=\"1000\" height=\"300\">"
   ]
  },
  {
   "cell_type": "markdown",
   "metadata": {},
   "source": [
    "### Step 2: BackPropagation 1"
   ]
  },
  {
   "cell_type": "markdown",
   "metadata": {},
   "source": [
    "<img src='figures/fig_5.png' width=\"700\" height=\"300\">"
   ]
  },
  {
   "cell_type": "markdown",
   "metadata": {},
   "source": [
    "(2) [hand written] update  𝜔5 ,  𝜔6 ,  𝜔7 ,  𝜔8   →   𝜔5+ ,  𝜔6+ ,  𝜔7+ ,  𝜔8+  of back-propagation."
   ]
  },
  {
   "cell_type": "code",
   "execution_count": 3,
   "metadata": {},
   "outputs": [
    {
     "name": "stdout",
     "output_type": "stream",
     "text": [
      "w5p:\t 0.47522280843466186 = 0.5 - 0.9 * 0.027530212850375706\n",
      "w6p:\t 0.3748189488322377 = 0.4 - 0.9 * 0.027978945741958097\n",
      "w7p:\t 0.6906175357369874 = 0.7 - 0.9 * 0.010424960292236172\n",
      "w8p:\t 0.7904646048336998 = 0.8 - 0.9 * 0.010594883518111373\n"
     ]
    }
   ],
   "source": [
    "dw5 = (sig1 - True1) * sig1 * (1 - sig1) * h1\n",
    "w5p = w5 - 0.9*dw5\n",
    "print('w5p:\\t {} = {} - 0.9 * {}'.format(w5p, w5, dw5))\n",
    "\n",
    "dw6 = (sig1 - True1) * sig1 * (1 - sig1) * h2\n",
    "w6p = w6 - 0.9*dw6\n",
    "print('w6p:\\t {} = {} - 0.9 * {}'.format(w6p, w6, dw6))\n",
    "\n",
    "dw7 = (sig2 - True2) * sig2 * (1 - sig2) * h1\n",
    "w7p = w7 - 0.9*dw7\n",
    "print('w7p:\\t {} = {} - 0.9 * {}'.format(w7p, w7, dw7))\n",
    "\n",
    "dw8 = (sig2 - True2) * sig2 * (1 - sig2) * h2\n",
    "w8p = w8 - 0.9*dw8\n",
    "print('w8p:\\t {} = {} - 0.9 * {}'.format(w8p, w8, dw8))"
   ]
  },
  {
   "cell_type": "markdown",
   "metadata": {},
   "source": [
    "<img src='figures/answer_2.jpg' width=\"1000\" height=\"300\">"
   ]
  },
  {
   "cell_type": "markdown",
   "metadata": {},
   "source": [
    "### Step 3: BackPropagation 2"
   ]
  },
  {
   "cell_type": "markdown",
   "metadata": {},
   "source": [
    "<img src='figures/fig_2.png' width=\"700\" height=\"300\">"
   ]
  },
  {
   "cell_type": "markdown",
   "metadata": {},
   "source": [
    "(3) [hand written] update  𝜔1 ,  𝜔2 ,  𝜔3 ,  𝜔4   →   𝜔1+ ,  𝜔2+ ,  𝜔3+ ,  𝜔4+  of back-propagation."
   ]
  },
  {
   "cell_type": "code",
   "execution_count": 4,
   "metadata": {},
   "outputs": [
    {
     "name": "stdout",
     "output_type": "stream",
     "text": [
      "w1p:\t 0.29823212911010877 = 0.3 - 0.9 * 0.0019643009887679998\n",
      "w2p:\t 0.2473481936651632 = 0.25 - 0.9 * 0.002946451483152\n",
      "w3p:\t 0.3983800212963926 = 0.4 - 0.9 * 0.001799976337341603\n",
      "w4p:\t 0.2975700319445888 = 0.3 - 0.9 * 0.0026999645060124043\n"
     ]
    }
   ],
   "source": [
    "dE1 = (sig1 - True1) * sig1 * (1 - sig1) * w5\n",
    "dE2 = (sig2 - True2) * sig2 * (1 - sig2) * w7\n",
    "\n",
    "dw1 = (dE1 + dE2) * (h1 * (1 - h1)) * x1\n",
    "w1p = w1 - LR*dw1\n",
    "print('w1p:\\t {} = {} - 0.9 * {}'.format(w1p, w1, dw1))\n",
    "\n",
    "dw2 = (dE1 + dE2) * (h1 * (1 - h1)) * x2\n",
    "w2p = w2 - LR*dw2\n",
    "print('w2p:\\t {} = {} - 0.9 * {}'.format(w2p, w2, dw2))\n",
    "\n",
    "dE1 = (sig1 - True1) * sig1 * (1 - sig1) * w6\n",
    "dE2 = (sig2 - True2) * sig2 * (1 - sig2) * w8\n",
    "\n",
    "dw3 = (dE1 + dE2) * (h2 * (1 - h2)) * x1\n",
    "w3p = w3 - LR*dw3\n",
    "print('w3p:\\t {} = {} - 0.9 * {}'.format(w3p, w3, dw3))\n",
    "\n",
    "dw4 = (dE1 + dE2) * (h2 * (1 - h2)) * x2\n",
    "w4p = w4 - LR*dw4\n",
    "print('w4p:\\t {} = {} - 0.9 * {}'.format(w4p, w4, dw4))"
   ]
  },
  {
   "cell_type": "markdown",
   "metadata": {},
   "source": [
    "<img src='figures/answer_3.jpg' width=\"1000\" height=\"300\">"
   ]
  },
  {
   "cell_type": "markdown",
   "metadata": {},
   "source": [
    "<img src='figures/answer_4.jpg' width=\"1000\" height=\"300\">"
   ]
  },
  {
   "cell_type": "markdown",
   "metadata": {},
   "source": [
    "### Step 4: Check the Result for Weight Update"
   ]
  },
  {
   "cell_type": "markdown",
   "metadata": {},
   "source": [
    "<img src='figures/fig_3.png' width=\"700\" height=\"300\">"
   ]
  },
  {
   "cell_type": "markdown",
   "metadata": {},
   "source": [
    "(4) [hand written] Write and calculate  𝐸total  with the updated weights, and compare it to the previous error."
   ]
  },
  {
   "cell_type": "code",
   "execution_count": 5,
   "metadata": {},
   "outputs": [
    {
     "name": "stdout",
     "output_type": "stream",
     "text": [
      "z1p:\t 0.29823212911010877 * 0.2 + 0.2473481936651632 * 0.3 = 0.1338508839215707\n",
      "z2p:\t 0.3983800212963926 * 0.2 + 0.2975700319445888 * 0.3 = 0.16894701384265515\n",
      "h1p:\t sigmoid(0.1338508839215707) = 0.533412850319756\n",
      "h2p:\t sigmoid(0.16894701384265515) = 0.5421365754231773\n",
      "z3p:\t 0.47522280843466186 * 0.533412850319756 + 0.3748189488322377 * 0.5421365754231773 = 0.4569268854425441\n",
      "z4p:\t 0.6906175357369874 * 0.533412850319756 + 0.7904646048336998 * 0.5421365754231773 = 0.7969240420760495\n",
      "sig1p:\t sigmoid(0.4569268854425441) = 0.6122848952367109\n",
      "sig2p:\t sigmoid(0.7969240420760495) = 0.6893161197048738\n",
      "E_totalp: 0.026521122992398338\n"
     ]
    }
   ],
   "source": [
    "z1p = w1p*x1 + w2p*x2\n",
    "print('z1p:\\t {} * {} + {} * {} = {}'.format(w1p, x1, w2p, x2, z1p))\n",
    "\n",
    "z2p = w3p*x1 + w4p*x2\n",
    "print('z2p:\\t {} * {} + {} * {} = {}'.format(w3p, x1, w4p, x2, z2p))\n",
    "\n",
    "h1p = sigmoid(z1p)\n",
    "print('h1p:\\t sigmoid({}) = {}'.format(z1p, h1p))\n",
    "\n",
    "h2p = sigmoid(z2p)\n",
    "print('h2p:\\t sigmoid({}) = {}'.format(z2p, h2p))\n",
    "\n",
    "z3p = w5p*h1 + w6p*h2\n",
    "print('z3p:\\t {} * {} + {} * {} = {}'.format(w5p, h1p, w6p, h2p, z3p))\n",
    "\n",
    "z4p = w7p*h1p + w8p*h2p\n",
    "print('z4p:\\t {} * {} + {} * {} = {}'.format(w7p, h1p, w8p, h2p, z4p))\n",
    "\n",
    "sig1p = sigmoid(z3p)\n",
    "print('sig1p:\\t sigmoid({}) = {}'.format(z3p, sig1p))\n",
    "\n",
    "sig2p = sigmoid(z4p)\n",
    "print('sig2p:\\t sigmoid({}) = {}'.format(z4p, sig2p))\n",
    "\n",
    "E_totalp = 1/2 * (True1- sig1p)**2 + 1/2 * (True2 - sig2p)**2\n",
    "print('E_totalp: {}'.format(E_totalp))"
   ]
  },
  {
   "cell_type": "markdown",
   "metadata": {},
   "source": [
    "<img src='figures/answer_5.jpg' width=\"1000\" height=\"300\">"
   ]
  },
  {
   "cell_type": "code",
   "execution_count": 6,
   "metadata": {},
   "outputs": [
    {
     "data": {
      "text/plain": [
       "True"
      ]
     },
     "execution_count": 6,
     "metadata": {},
     "output_type": "execute_result"
    }
   ],
   "source": [
    "E_totalp < E_total"
   ]
  },
  {
   "cell_type": "code",
   "execution_count": null,
   "metadata": {},
   "outputs": [],
   "source": [
    "'''\n",
    "updated E_total is less than E_total.\n",
    "'''"
   ]
  },
  {
   "cell_type": "markdown",
   "metadata": {},
   "source": [
    "### Problem 2: Multi-Layer Perceptron"
   ]
  },
  {
   "cell_type": "markdown",
   "metadata": {},
   "source": [
    "You will classify 4 points into 2 classes using MLP.\n",
    "\n",
    "Plot the given data first.\n",
    "\n",
    "(0) Start with importing modules.\n",
    "\n",
    "&nbsp;&nbsp;&nbsp;&nbsp;The lectures are conducted using tensorflow 1, but recently, tensorflow 2 is used a lot, so you can choose between tensorflow 1 and 2, and then solve the problems.\n",
    "\n",
    "&nbsp;&nbsp;&nbsp;&nbsp;If you run !pip install tensorflow, then tensorflow 2 is installed. To run tensorflow 1, execute the cell below."
   ]
  },
  {
   "cell_type": "code",
   "execution_count": 7,
   "metadata": {},
   "outputs": [
    {
     "name": "stdout",
     "output_type": "stream",
     "text": [
      "WARNING:tensorflow:From C:\\ProgramData\\Anaconda3\\lib\\site-packages\\tensorflow\\python\\compat\\v2_compat.py:96: disable_resource_variables (from tensorflow.python.ops.variable_scope) is deprecated and will be removed in a future version.\n",
      "Instructions for updating:\n",
      "non-resource variables are not supported in the long term\n"
     ]
    }
   ],
   "source": [
    "import numpy as np\n",
    "\n",
    "# if you want to use tensorflow 1\n",
    "import tensorflow.compat.v1 as tf\n",
    "tf.disable_v2_behavior()"
   ]
  },
  {
   "cell_type": "code",
   "execution_count": 8,
   "metadata": {},
   "outputs": [
    {
     "data": {
      "image/png": "[encoded data removed]",
      "text/plain": [
       "<Figure size 720x504 with 1 Axes>"
      ]
     },
     "metadata": {
      "needs_background": "light"
     },
     "output_type": "display_data"
    }
   ],
   "source": [
    "import warnings\n",
    "warnings.filterwarnings('ignore')\n",
    "\n",
    "import numpy as np\n",
    "import matplotlib.pyplot as plt\n",
    "%matplotlib inline\n",
    "\n",
    "x_data = np.array([[0, 0], [1, 1], [0, 1], [1, 0]], dtype=np.float32)\n",
    "y_data = np.array([[0], [0], [1], [1]], dtype=np.float32)\n",
    "\n",
    "plt.figure(figsize=(10, 7))\n",
    "plt.scatter(x_data[:2, 0], x_data[:2, 1], marker='+', s=100, label='A')\n",
    "plt.scatter(x_data[2:, 0], x_data[2:, 1], marker='x', s=100, label='B')\n",
    "plt.xlim([-1, 2]); plt.ylim([-1, 2])\n",
    "plt.grid(alpha=0.15); plt.legend();\n",
    "plt.show()"
   ]
  },
  {
   "cell_type": "markdown",
   "metadata": {},
   "source": [
    "(1) Design a perceptron model which has a single layer, and train it to show the accuracy."
   ]
  },
  {
   "cell_type": "code",
   "execution_count": 9,
   "metadata": {},
   "outputs": [],
   "source": [
    "# Tensorflow 1\n",
    "tf.reset_default_graph()"
   ]
  },
  {
   "cell_type": "code",
   "execution_count": 10,
   "metadata": {},
   "outputs": [
    {
     "name": "stdout",
     "output_type": "stream",
     "text": [
      "iter: 0, loss: 0.7757846713066101\n",
      "iter: 2000, loss: 0.6936824321746826\n",
      "iter: 4000, loss: 0.6932581663131714\n",
      "iter: 6000, loss: 0.6931701898574829\n",
      "iter: 8000, loss: 0.6931519508361816\n",
      "iter: 10000, loss: 0.6931481957435608\n",
      "iter: 12000, loss: 0.6931474208831787\n",
      "iter: 14000, loss: 0.6931471824645996\n",
      "iter: 16000, loss: 0.6931472420692444\n",
      "iter: 18000, loss: 0.6931471824645996\n",
      "iter: 20000, loss: 0.6931471824645996\n",
      "\n",
      "Accuracy:0.75\n",
      "\n",
      "W: [[-7.645689e-05]\n",
      " [-7.623434e-05]]\n",
      "b: [9.0566384e-05]\n"
     ]
    }
   ],
   "source": [
    "def build_model(x, weights, biases):   \n",
    "    output = tf.add(tf.matmul(x, weights['output']), biases['output'])\n",
    "    return output\n",
    "\n",
    "n_input, n_output = 2, 1\n",
    "train_X, train_y = x_data, y_data\n",
    "\n",
    "LR, n_iter, n_prt = 0.01, 20001, 2000  \n",
    "\n",
    "weights = {'output': tf.Variable(\n",
    "    tf.random_normal([n_input, n_output], stddev=1))}\n",
    "biases = {'output': tf.Variable(\n",
    "    tf.random_normal([n_output], stddev=1))}\n",
    "\n",
    "x = tf.placeholder(tf.float32, [None, n_input])\n",
    "y = tf.placeholder(tf.float32, [None, n_output])\n",
    "\n",
    "pred = build_model(x, weights, biases)\n",
    "loss = tf.nn.sigmoid_cross_entropy_with_logits(logits=pred, labels=y) # single layer\n",
    "loss = tf.reduce_mean(loss)\n",
    "\n",
    "optm = tf.train.GradientDescentOptimizer(LR).minimize(loss)\n",
    "init = tf.global_variables_initializer()\n",
    "\n",
    "y_hat = tf.cast((tf.sigmoid(pred) > 0.5), dtype=tf.float32)\n",
    "accuracy = tf.reduce_mean(tf.cast(tf.equal(y, y_hat), dtype=tf.float32))\n",
    "\n",
    "loss_record = []\n",
    "with tf.Session() as sess:\n",
    "    sess.run(init)\n",
    "    for epoch in range(n_iter):\n",
    "        sess.run(optm, feed_dict = {x: train_X,  y: train_y})     \n",
    "        if epoch % n_prt == 0:\n",
    "            loss_val, acc_val = sess.run([loss, accuracy], \n",
    "                                         feed_dict={x: train_X,  y: train_y})\n",
    "            loss_record.append(loss_val)\n",
    "            print(\"iter: {}, loss: {}\".format(\n",
    "                epoch, loss_record[int(epoch / n_prt)]))\n",
    "\n",
    "    print('\\nAccuracy:{}\\n'.format(acc_val))\n",
    "    \n",
    "    w_hat = sess.run(weights['output'])\n",
    "    b_hat = sess.run(biases['output'])\n",
    "    print('W: {}'.format(w_hat))\n",
    "    print('b: {}'.format(b_hat))"
   ]
  },
  {
   "cell_type": "code",
   "execution_count": 12,
   "metadata": {},
   "outputs": [
    {
     "data": {
      "image/png": "[encoded data removed]",
      "text/plain": [
       "<Figure size 720x504 with 1 Axes>"
      ]
     },
     "metadata": {
      "needs_background": "light"
     },
     "output_type": "display_data"
    }
   ],
   "source": [
    "x1 = np.arange(-1, 2, 0.01).reshape(-1, 1)\n",
    "x2 = - w_hat[0,0] / w_hat[1,0] * x1 - b_hat[0] / w_hat[1,0]\n",
    "\n",
    "plt.figure(figsize=(10, 7))\n",
    "plt.plot(x1, x2, 'black', linewidth=2, label='Linear classifier')\n",
    "plt.plot(x_data [:2, 0], x_data[:2, 1], '+', label='A', markersize=12)\n",
    "plt.plot(x_data[2:, 0], x_data[2:, 1], 'x', label='B', markersize=12)\n",
    "plt.title('Single and Linear Classifier', size=20)\n",
    "plt.xlabel('$x_1$', fontsize=15)\n",
    "plt.ylabel('$x_2$', fontsize=15)\n",
    "plt.xlim([-1, 2]); plt.ylim([-1, 2])\n",
    "plt.grid(alpha=0.15); plt.legend(fontsize=12)\n",
    "plt.show()"
   ]
  },
  {
   "cell_type": "markdown",
   "metadata": {},
   "source": [
    "(3) What is the highest accuracy you can get?\n",
    "\n",
    "Discuss about the result. Write on the below cell using ''' string '''.\n",
    "\n",
    "You can use both Korean or English"
   ]
  },
  {
   "cell_type": "code",
   "execution_count": null,
   "metadata": {},
   "outputs": [],
   "source": [
    "'''\n",
    "For XOR problem, we can get 0.75 accuracy as the highest.\n",
    "Because there is no way to seperate two dataset \n",
    "with a perceptron model which has a \"single\" layer.\n",
    "Like the above graph, even if B data points are concentrated in one place, \n",
    "it has no choice but to include one A data point or vice versa.\n",
    "'''"
   ]
  },
  {
   "cell_type": "markdown",
   "metadata": {},
   "source": [
    "(4) Design a perceptron model which has 2 layers, and train it to show the accuracy.\n",
    "\n",
    "&nbsp;&nbsp;&nbsp;&nbsp;Hidden layer: sigmoid function"
   ]
  },
  {
   "cell_type": "code",
   "execution_count": 13,
   "metadata": {},
   "outputs": [
    {
     "name": "stdout",
     "output_type": "stream",
     "text": [
      "[[1. 0.]\n",
      " [1. 0.]\n",
      " [0. 1.]\n",
      " [0. 1.]]\n"
     ]
    }
   ],
   "source": [
    "from sklearn.preprocessing import OneHotEncoder\n",
    "\n",
    "train_X, train_y = x_data, y_data\n",
    "\n",
    "ohe = OneHotEncoder(handle_unknown='ignore')\n",
    "train_y = ohe.fit_transform(train_y).toarray()\n",
    "print(train_y)"
   ]
  },
  {
   "cell_type": "code",
   "execution_count": 15,
   "metadata": {},
   "outputs": [
    {
     "name": "stdout",
     "output_type": "stream",
     "text": [
      "iter: 0, loss: 0.7530676126480103\n",
      "iter: 1000, loss: 0.6857329607009888\n",
      "iter: 2000, loss: 0.6456977128982544\n",
      "iter: 3000, loss: 0.5833820700645447\n",
      "iter: 4000, loss: 0.5387174487113953\n",
      "iter: 5000, loss: 0.5020411610603333\n",
      "iter: 6000, loss: 0.3265094757080078\n",
      "iter: 7000, loss: 0.11642337590456009\n",
      "iter: 8000, loss: 0.06001214310526848\n",
      "iter: 9000, loss: 0.03928087651729584\n",
      "iter: 10000, loss: 0.028906937688589096\n",
      "iter: 11000, loss: 0.02275640331208706\n",
      "iter: 12000, loss: 0.01871078833937645\n",
      "iter: 13000, loss: 0.01585763320326805\n",
      "iter: 14000, loss: 0.013742289505898952\n",
      "iter: 15000, loss: 0.01211398933082819\n",
      "iter: 16000, loss: 0.010823410004377365\n",
      "iter: 17000, loss: 0.009776213206350803\n",
      "iter: 18000, loss: 0.008910194039344788\n",
      "iter: 19000, loss: 0.008182359859347343\n",
      "iter: 20000, loss: 0.007562439423054457\n",
      "\n",
      "Accuracy:1.0\n",
      "\n",
      "W: [[-5.4623566  6.029056 ]\n",
      " [-6.0922036  5.67234  ]]\n",
      "b: [ 3.5359256 -2.1779704]\n"
     ]
    }
   ],
   "source": [
    "def build_model(x, weights, biases):\n",
    "    hidden = tf.add(tf.matmul(x, weights['hidden']), biases['hidden'])\n",
    "    hidden = tf.nn.sigmoid(hidden)\n",
    "    \n",
    "    output = tf.add(tf.matmul(hidden, weights['output']), biases['output'])  \n",
    "    return output\n",
    "\n",
    "n_input, n_hidden, n_output = 2, 2, 2\n",
    "LR, n_iter, n_prt = 0.05, 20001, 1000 \n",
    "\n",
    "weights = {'hidden': tf.Variable(tf.random_normal([n_input, n_hidden], stddev=1)),\n",
    "           'output': tf.Variable(tf.random_normal([n_hidden, n_output], stddev=1))}\n",
    "biases = {'hidden': tf.Variable(tf.random_normal([n_hidden], stddev=1)),\n",
    "          'output': tf.Variable(tf.random_normal([n_output], stddev=1))}\n",
    "\n",
    "x = tf.placeholder(tf.float32, [None, n_input])\n",
    "y = tf.placeholder(tf.float32, [None, n_output])\n",
    "\n",
    "pred = build_model(x, weights, biases)\n",
    "loss = tf.nn.softmax_cross_entropy_with_logits(logits=pred, labels=y)\n",
    "loss = tf.reduce_mean(loss)\n",
    "\n",
    "optm = tf.train.GradientDescentOptimizer(LR).minimize(loss)\n",
    "\n",
    "init = tf.global_variables_initializer()\n",
    "\n",
    "y_hat = tf.cast((tf.sigmoid(pred) > 0.5), dtype=tf.float32)\n",
    "accuracy = tf.reduce_mean(tf.cast(tf.equal(y, y_hat), dtype=tf.float32))\n",
    "\n",
    "loss_record = []\n",
    "with tf.Session() as sess:\n",
    "    sess.run(init)\n",
    "    for epoch in range(n_iter):\n",
    "        sess.run(optm, feed_dict={x: train_X,  y: train_y})     \n",
    "        if epoch % n_prt == 0:\n",
    "            loss_val, acc_val = sess.run([loss, accuracy], \n",
    "                                         feed_dict={x: train_X,  y: train_y})\n",
    "            loss_record.append(loss_val)\n",
    "            print(\"iter: {}, loss: {}\".format(\n",
    "                epoch, loss_record[int(epoch / n_prt)]))\n",
    "\n",
    "    print('\\nAccuracy:{}\\n'.format(acc_val))        \n",
    "\n",
    "    w_hat = sess.run(weights)\n",
    "    b_hat = sess.run(biases)\n",
    "    print('W: {}'.format(w_hat['output']))\n",
    "    print('b: {}'.format(b_hat['output']))"
   ]
  },
  {
   "cell_type": "code",
   "execution_count": 16,
   "metadata": {},
   "outputs": [
    {
     "data": {
      "image/png": "[encoded data removed]",
      "text/plain": [
       "<Figure size 720x504 with 1 Axes>"
      ]
     },
     "metadata": {
      "needs_background": "light"
     },
     "output_type": "display_data"
    }
   ],
   "source": [
    "x1 = np.arange(-1, 2, 0.01).reshape(-1, 1)\n",
    "x2 = - w_hat['hidden'][0, 0] / w_hat['hidden'][1, 0] * x1 \\\n",
    "     - b_hat['hidden'][0] / w_hat['hidden'][1, 0]\n",
    "x3 = - w_hat['hidden'][0, 1] / w_hat['hidden'][1, 1] * x1 \\\n",
    "     - b_hat['hidden'][1] / w_hat['hidden'][1, 1]\n",
    "\n",
    "plt.figure(figsize=(10, 7))\n",
    "plt.plot(x1, x2, 'black', linewidth=2, label='Linear classifier 1',)\n",
    "plt.plot(x1, x3, 'g', linewidth=2, label='Linear classifier 2')\n",
    "plt.plot(x_data [:2, 0], x_data[:2, 1], '+', label='A', markersize=12)\n",
    "plt.plot(x_data[2:, 0], x_data[2:, 1], 'x', label='B', markersize=12)\n",
    "plt.title('Double and Linear Classifier', size=20)\n",
    "plt.xlabel('$x_1$', fontsize=15)\n",
    "plt.ylabel('$x_2$', fontsize=15)\n",
    "plt.xlim([-1, 2]); plt.ylim([-1, 2])\n",
    "plt.grid(alpha=0.15); plt.legend(fontsize=12)\n",
    "plt.show()"
   ]
  },
  {
   "cell_type": "markdown",
   "metadata": {
    "tags": []
   },
   "source": [
    "### Problem 3: ANN Regression"
   ]
  },
  {
   "cell_type": "markdown",
   "metadata": {},
   "source": [
    "In this problem, you are asked to use TensorFlow to implement the linear regression algorithm.\n",
    "\n",
    "By doing this, we hope that you are getting familiar with the syntax of TensorFlow."
   ]
  },
  {
   "cell_type": "code",
   "execution_count": 17,
   "metadata": {},
   "outputs": [
    {
     "data": {
      "image/png": "[encoded data removed]",
      "text/plain": [
       "<Figure size 720x504 with 1 Axes>"
      ]
     },
     "metadata": {
      "needs_background": "light"
     },
     "output_type": "display_data"
    }
   ],
   "source": [
    "# Data Generation\n",
    "m =  500\n",
    "\n",
    "data_x = np.linspace(-3, 3, m)\n",
    "data_y = 0.8*data_x + 2 + np.random.randn(m)*0.3\n",
    " \n",
    "plt.figure(figsize = (10, 7))    \n",
    "plt.plot(data_x, data_y, '.')\n",
    "plt.xlabel('x', fontsize=15)\n",
    "plt.ylabel('y', fontsize=15)\n",
    "plt.grid(alpha=0.15)\n",
    "plt.axis('equal')\n",
    "plt.show()"
   ]
  },
  {
   "cell_type": "markdown",
   "metadata": {},
   "source": [
    "<img src='figures/fig_4.png' width=\"700\" height=\"300\">"
   ]
  },
  {
   "cell_type": "markdown",
   "metadata": {},
   "source": [
    "(1) Define the AI model.\n",
    "\n",
    "&nbsp;&nbsp;&nbsp;&nbsp;n_batch = 10\n",
    "\n",
    "&nbsp;&nbsp;&nbsp;&nbsp;n_iter = 2500 (n_epoch = 250)\n",
    "\n",
    "&nbsp;&nbsp;&nbsp;&nbsp;n_prt = 250"
   ]
  },
  {
   "cell_type": "code",
   "execution_count": 18,
   "metadata": {},
   "outputs": [],
   "source": [
    "tf.reset_default_graph()"
   ]
  },
  {
   "cell_type": "code",
   "execution_count": 19,
   "metadata": {},
   "outputs": [],
   "source": [
    "# we provide 'next_batch function' for your convenience (for tensorflow 1)\n",
    "def next_batch(x, y, n_batch):\n",
    "    m = x.shape[0]\n",
    "    idx = np.random.randint(0, m, n_batch)\n",
    "    x_train, y_train = x[idx].reshape(-1, 1), y[idx].reshape(-1, 1)\n",
    "    \n",
    "    return x_train, y_train"
   ]
  },
  {
   "cell_type": "code",
   "execution_count": 20,
   "metadata": {},
   "outputs": [
    {
     "name": "stdout",
     "output_type": "stream",
     "text": [
      "iter: 0\n",
      "Cost: 5.399777412414551\n",
      "iter: 250\n",
      "Cost: 1.2857964038848877\n",
      "iter: 500\n",
      "Cost: 0.5546541810035706\n",
      "iter: 750\n",
      "Cost: 0.4245028495788574\n",
      "iter: 1000\n",
      "Cost: 0.13951516151428223\n",
      "iter: 1250\n",
      "Cost: 0.10255225002765656\n",
      "iter: 1500\n",
      "Cost: 0.07585237920284271\n",
      "iter: 1750\n",
      "Cost: 0.08703108131885529\n",
      "iter: 2000\n",
      "Cost: 0.13830775022506714\n",
      "iter: 2250\n",
      "Cost: 0.10350097715854645\n"
     ]
    }
   ],
   "source": [
    "def build_model(x, weights, biases):   \n",
    "    output = tf.add(tf.matmul(x, weights['output']), biases['output'])\n",
    "    return output\n",
    "\n",
    "data_x, data_y = data_x.reshape(-1, 1), data_y.reshape(-1, 1)\n",
    "train_X, train_y = data_x, data_y\n",
    "\n",
    "LR = 0.001\n",
    "n_input, n_output = 1, 1\n",
    "n_batch, n_iter, n_prt = 10, 2500, 250\n",
    "\n",
    "weights = {'output': tf.Variable(\n",
    "    tf.random_normal([n_input, n_output], stddev=0.1))}\n",
    "biases = {'output': tf.Variable(\n",
    "    tf.random_normal([n_output], stddev=0.1))}\n",
    "\n",
    "x = tf.placeholder(tf.float32, [None, n_input])\n",
    "y = tf.placeholder(tf.float32, [None, n_output])\n",
    "\n",
    "pred = build_model(x, weights, biases)\n",
    "loss = tf.square(pred - y)\n",
    "loss = tf.reduce_mean(loss)\n",
    "\n",
    "optm = tf.train.GradientDescentOptimizer(LR).minimize(loss)\n",
    "init = tf.global_variables_initializer()\n",
    "\n",
    "loss_record = []\n",
    "with tf.Session() as sess:\n",
    "    sess.run(init)\n",
    "    for epoch in range(n_iter):\n",
    "        train_x, train_y = next_batch(data_x, data_y, n_batch)\n",
    "        sess.run(optm, feed_dict = {x: train_x,  y: train_y})     \n",
    "        if epoch % n_prt == 0:\n",
    "            loss_record.append(sess.run(loss, feed_dict={x: train_x,  y: train_y}))\n",
    "            print(\"iter: {}\\nCost: {}\".format(\n",
    "                epoch, loss_record[int(epoch / n_prt)]))\n",
    "            \n",
    "    w_hat = sess.run(weights)\n",
    "    b_hat = sess.run(biases)"
   ]
  },
  {
   "cell_type": "markdown",
   "metadata": {},
   "source": [
    "(2) Define the weight and bias"
   ]
  },
  {
   "cell_type": "code",
   "execution_count": 21,
   "metadata": {},
   "outputs": [
    {
     "name": "stdout",
     "output_type": "stream",
     "text": [
      "w_hat: 0.7986181974411011\n",
      "b_hat: 1.9897398948669434\n"
     ]
    }
   ],
   "source": [
    "# w_hat and b_hat were obtained from the above\n",
    "w_val = w_hat['output'][0][0]\n",
    "b_val = b_hat['output'][0]\n",
    "\n",
    "print('w_hat: {}'.format(w_val))\n",
    "print('b_hat: {}'.format(b_val))"
   ]
  },
  {
   "cell_type": "markdown",
   "metadata": {},
   "source": [
    "(3) Plot the linear regression"
   ]
  },
  {
   "cell_type": "code",
   "execution_count": 22,
   "metadata": {},
   "outputs": [
    {
     "data": {
      "image/png": "[encoded data removed]",
      "text/plain": [
       "<Figure size 720x504 with 1 Axes>"
      ]
     },
     "metadata": {
      "needs_background": "light"
     },
     "output_type": "display_data"
    }
   ],
   "source": [
    "xp = np.arange(-3, 3, 0.1).reshape(-1, 1)\n",
    "yp = w_val * xp + b_val\n",
    "\n",
    "plt.figure(figsize = (10, 7))    \n",
    "plt.plot(data_x, data_y, 'o', markersize=3)\n",
    "plt.plot(xp, yp, 'r')\n",
    "plt.title('ANN Linear Regression', fontsize=20)\n",
    "plt.xlabel('x', fontsize=15)\n",
    "plt.ylabel('y', fontsize=15)\n",
    "plt.grid(alpha=0.15)\n",
    "plt.axis('equal')\n",
    "plt.show()"
   ]
  },
  {
   "cell_type": "code",
   "execution_count": null,
   "metadata": {},
   "outputs": [],
   "source": []
  }
 ],
 "metadata": {
  "kernelspec": {
   "display_name": "Python 3",
   "language": "python",
   "name": "python3"
  },
  "language_info": {
   "codemirror_mode": {
    "name": "ipython",
    "version": 3
   },
   "file_extension": ".py",
   "mimetype": "text/x-python",
   "name": "python",
   "nbconvert_exporter": "python",
   "pygments_lexer": "ipython3",
   "version": "3.7.6"
  }
 },
 "nbformat": 4,
 "nbformat_minor": 5
}
