{
 "cells": [
  {
   "cell_type": "code",
   "execution_count": 1,
   "id": "1152c6b1",
   "metadata": {},
   "outputs": [],
   "source": [
    "import numpy as np\n",
    "import tensorflow as tf\n",
    "\n",
    "from tensorflow.keras.utils import to_categorical\n",
    "from tensorflow.examples.tutorials.mnist import input_data\n",
    "from sklearn.model_selection import train_test_split\n",
    "\n",
    "import matplotlib.pyplot as plt\n",
    "%matplotlib inline\n",
    "\n",
    "import warnings\n",
    "warnings.filterwarnings('ignore')"
   ]
  },
  {
   "cell_type": "code",
   "execution_count": 2,
   "id": "ef85d8f8",
   "metadata": {},
   "outputs": [
    {
     "name": "stdout",
     "output_type": "stream",
     "text": [
      "1.15.0\n"
     ]
    }
   ],
   "source": [
    "print(tf.__version__)"
   ]
  },
  {
   "cell_type": "markdown",
   "id": "cebcf546",
   "metadata": {
    "tags": []
   },
   "source": [
    "## 1. Load the MNIST dataset"
   ]
  },
  {
   "cell_type": "markdown",
   "id": "775d852f",
   "metadata": {},
   "source": [
    "  * Divide the dataset into 3 splits with the ratios of train : val : test = 5 : 1 : 1 (10 pt)"
   ]
  },
  {
   "cell_type": "code",
   "execution_count": 4,
   "id": "ea88aed5",
   "metadata": {},
   "outputs": [
    {
     "name": "stdout",
     "output_type": "stream",
     "text": [
      "Train data shape: (50000, 784), (50000, 10)\n",
      "Valid data shape: (10000, 784), (10000, 10)\n",
      "Test data shape: (10000, 784), (10000, 10)\n"
     ]
    }
   ],
   "source": [
    "(train_images, train_labels), (test_images, test_labels) = tf.keras.datasets.mnist.load_data()\n",
    "train_images = train_images.reshape(train_images.shape[0], 28*28)\n",
    "test_images = test_images.reshape(test_images.shape[0], 28*28)\n",
    "\n",
    "# print('Train data shape: {}, {}'.format(train_images.shape, train_labels.shape))\n",
    "# print('Test data shape: {}, {}'.format(test_images.shape, test_labels.shape))\n",
    "\n",
    "X_train, X_valid, y_train, y_valid = train_test_split(train_images, train_labels,\n",
    "                                                      test_size=1/6, random_state=1207)\n",
    "\n",
    "y_train = to_categorical(y_train, num_classes=10)\n",
    "y_valid = to_categorical(y_valid, num_classes=10)\n",
    "X_test, y_test = test_images, to_categorical(test_labels, num_classes=10)\n",
    "\n",
    "print('Train data shape: {}, {}'.format(X_train.shape, y_train.shape))\n",
    "print('Valid data shape: {}, {}'.format(X_valid.shape, y_valid.shape))\n",
    "print('Test data shape: {}, {}'.format(X_test.shape, y_test.shape))"
   ]
  },
  {
   "cell_type": "markdown",
   "id": "dc24a00f",
   "metadata": {
    "tags": []
   },
   "source": [
    "## 2. Train a model on the MNIST dataset"
   ]
  },
  {
   "cell_type": "markdown",
   "id": "fd45a317",
   "metadata": {},
   "source": [
    "   * For all your training results, plot the training and validation curve and report the test accuracy"
   ]
  },
  {
   "cell_type": "markdown",
   "id": "0f434ccf",
   "metadata": {},
   "source": [
    "#### 2.1 Create the base model with 2-layer MLP (10 pt)"
   ]
  },
  {
   "cell_type": "code",
   "execution_count": 5,
   "id": "1ab6e2e1-fc44-4cfb-a5cd-12ca972317d1",
   "metadata": {},
   "outputs": [],
   "source": [
    "def next_batch(n_batch, data, labels):\n",
    "    idx = np.arange(0, len(data))\n",
    "    np.random.shuffle(idx)\n",
    "    idx = idx[:n_batch]\n",
    "    \n",
    "    data_shuffle = data[idx]\n",
    "    labels_shuffle = labels[idx]\n",
    "\n",
    "    return data_shuffle, labels_shuffle"
   ]
  },
  {
   "cell_type": "code",
   "execution_count": 24,
   "id": "dc1154bf-feab-4903-9b34-4fbf5ba8e17f",
   "metadata": {},
   "outputs": [],
   "source": [
    "def run_session(params):\n",
    "    def build_model(x, weights, biases):\n",
    "        nonlocal layer_num\n",
    "\n",
    "        hidden = tf.add(tf.matmul(x, weights['hidden']), biases['hidden'])\n",
    "        hidden_final = tf.nn.relu(hidden)\n",
    "\n",
    "        if layer_num == 3:\n",
    "            hidden_middle = tf.add(tf.matmul(hidden_final, \n",
    "                                             weights['hidden_middle']), \n",
    "                                             biases['hidden_middle'])\n",
    "            hidden_final = tf.nn.relu(hidden_middle)\n",
    "\n",
    "        output = tf.add(tf.matmul(hidden_final, weights['output']), biases['output'])\n",
    "\n",
    "        return output\n",
    "\n",
    "    layer_num = len(params['n_hiddens']) + 1\n",
    "    \n",
    "    n_input, n_output = params['n_input'], params['n_output']\n",
    "    LR, n_batch = params['LR'], params['n_batch']\n",
    "    n_iter, n_prt = params['n_iter'], params['n_prt']\n",
    "    \n",
    "    n_hidden = params['n_hiddens']['n_hidden']\n",
    "    \n",
    "    weights = {'hidden': tf.Variable(tf.random.normal([n_input, n_hidden], stddev=0.05))}\n",
    "    biases = {'hidden': tf.Variable(tf.random.normal([n_hidden], stddev=0.05)),\n",
    "              'output': tf.Variable(tf.random.normal([n_output], stddev=0.05))}\n",
    "    if layer_num == 2:\n",
    "        weights['output'] = tf.Variable(tf.random.normal([n_hidden, n_output], stddev=0.05))\n",
    "        \n",
    "    if layer_num == 3:\n",
    "        n_hidden_middle = params['n_hiddens']['n_hidden_middle']\n",
    "        \n",
    "        weights['hidden_middle'] = tf.Variable(\n",
    "            tf.random.normal([n_hidden, n_hidden_middle], stddev=0.05))\n",
    "        weights['output'] = tf.Variable(\n",
    "            tf.random.normal([n_hidden_middle, n_output], stddev=0.05))\n",
    "        biases['hidden_middle'] = tf.Variable(\n",
    "            tf.random.normal([n_hidden_middle], stddev=0.05))\n",
    "    \n",
    "    x = tf.compat.v1.placeholder(tf.float32, [None, n_input])\n",
    "    y = tf.compat.v1.placeholder(tf.float32, [None, n_output])\n",
    "\n",
    "    pred = build_model(x, weights, biases)\n",
    "    loss = tf.nn.softmax_cross_entropy_with_logits_v2(logits=pred, labels=y)\n",
    "    loss = tf.reduce_mean(loss)\n",
    "\n",
    "    optm = tf.compat.v1.train.AdamOptimizer(LR).minimize(loss)\n",
    "    init = tf.compat.v1.global_variables_initializer()\n",
    "\n",
    "    loss_record_train = []\n",
    "    loss_record_valid = []\n",
    "    with tf.compat.v1.Session() as sess:\n",
    "        sess.run(init)\n",
    "        for epoch in range(n_iter):\n",
    "            train_x, train_y = next_batch(n_batch, X_train, y_train)\n",
    "            sess.run(optm, feed_dict={x: train_x, y: train_y}) \n",
    "\n",
    "            if epoch % n_prt == 0:\n",
    "                valid_x, valid_y = next_batch(n_batch, X_valid, y_valid)\n",
    "                c1 = sess.run(loss, feed_dict={x: train_x, y: train_y})\n",
    "                c2 = sess.run(loss, feed_dict={x: valid_x, y: valid_y})\n",
    "                loss_record_train.append(c1)\n",
    "                loss_record_valid.append(c2)\n",
    "                print ('Iter: {} \\tCost: {}'.format(epoch, c1))\n",
    "\n",
    "        #test accuracy\n",
    "        test_x, test_y = X_test, y_test\n",
    "        \n",
    "        my_pred = sess.run(pred, feed_dict={x: test_x})\n",
    "        my_pred = np.argmax(my_pred, axis=1)\n",
    "        labels = np.argmax(test_y, axis=1)\n",
    "\n",
    "        test_acc = np.mean(np.equal(my_pred, labels))\n",
    "        if 'base' in params_dict:\n",
    "            print('\\n\\n{} Test Accuracy: {}% (base: {}%)'.format(\n",
    "                params['comment'], round(test_acc*100, 4), round(params['base']*100, 4)))\n",
    "        else:\n",
    "            print('\\n\\n{} Test Accuracy: {}%'.format(\n",
    "                params['comment'], round(test_acc*100, 4)))\n",
    "        \n",
    "    return test_acc, loss_record_train, loss_record_valid"
   ]
  },
  {
   "cell_type": "markdown",
   "id": "7dd6a1f5",
   "metadata": {},
   "source": [
    "#### 2.2 Train the base model (10 pt)"
   ]
  },
  {
   "cell_type": "code",
   "execution_count": 16,
   "id": "58155608-99d6-4b7e-ac8b-4ebbdfa3f505",
   "metadata": {},
   "outputs": [],
   "source": [
    "def plot_loss(loss_record_train, loss_record_test, title):\n",
    "    n_prt = params_dict['n_prt']\n",
    "    \n",
    "    plt.figure(figsize=(10, 6))\n",
    "    plt.plot(np.arange(len(loss_record_train))*n_prt,\n",
    "             loss_record_train, label='Train')\n",
    "    plt.plot(np.arange(len(loss_record_test))*n_prt, \n",
    "             loss_record_test, label='Valid')\n",
    "    plt.xlabel('Iteration', fontsize=15)\n",
    "    plt.ylabel('Loss', fontsize=15)\n",
    "    plt.ylim([0, np.max(loss_record_train)])\n",
    "    plt.legend(fontsize=12)\n",
    "    plt.title('{} Model Loss'.format(title), fontsize=18)\n",
    "    plt.grid()\n",
    "    plt.show()"
   ]
  },
  {
   "cell_type": "code",
   "execution_count": 25,
   "id": "89782acf-eef0-4868-8d44-051c73c6c7d3",
   "metadata": {
    "scrolled": true,
    "tags": []
   },
   "outputs": [
    {
     "name": "stderr",
     "output_type": "stream",
     "text": [
      "2021-10-26 10:12:14.159209: I tensorflow/core/common_runtime/gpu/gpu_device.cc:1618] Found device 0 with properties: \n",
      "name: GeForce RTX 2080 Ti major: 7 minor: 5 memoryClockRate(GHz): 1.545\n",
      "pciBusID: 0000:18:00.0\n",
      "2021-10-26 10:12:14.160123: I tensorflow/core/common_runtime/gpu/gpu_device.cc:1618] Found device 1 with properties: \n",
      "name: GeForce RTX 2080 Ti major: 7 minor: 5 memoryClockRate(GHz): 1.545\n",
      "pciBusID: 0000:3b:00.0\n",
      "2021-10-26 10:12:14.161068: I tensorflow/core/common_runtime/gpu/gpu_device.cc:1618] Found device 2 with properties: \n",
      "name: GeForce RTX 2080 Ti major: 7 minor: 5 memoryClockRate(GHz): 1.545\n",
      "pciBusID: 0000:86:00.0\n",
      "2021-10-26 10:12:14.161950: I tensorflow/core/common_runtime/gpu/gpu_device.cc:1618] Found device 3 with properties: \n",
      "name: GeForce RTX 2080 Ti major: 7 minor: 5 memoryClockRate(GHz): 1.545\n",
      "pciBusID: 0000:af:00.0\n",
      "2021-10-26 10:12:14.162012: I tensorflow/stream_executor/platform/default/dso_loader.cc:44] Successfully opened dynamic library libcudart.so.10.0\n",
      "2021-10-26 10:12:14.162027: I tensorflow/stream_executor/platform/default/dso_loader.cc:44] Successfully opened dynamic library libcublas.so.10.0\n",
      "2021-10-26 10:12:14.162040: I tensorflow/stream_executor/platform/default/dso_loader.cc:44] Successfully opened dynamic library libcufft.so.10.0\n",
      "2021-10-26 10:12:14.162051: I tensorflow/stream_executor/platform/default/dso_loader.cc:44] Successfully opened dynamic library libcurand.so.10.0\n",
      "2021-10-26 10:12:14.162064: I tensorflow/stream_executor/platform/default/dso_loader.cc:44] Successfully opened dynamic library libcusolver.so.10.0\n",
      "2021-10-26 10:12:14.162076: I tensorflow/stream_executor/platform/default/dso_loader.cc:44] Successfully opened dynamic library libcusparse.so.10.0\n",
      "2021-10-26 10:12:14.162091: I tensorflow/stream_executor/platform/default/dso_loader.cc:44] Successfully opened dynamic library libcudnn.so.7\n",
      "2021-10-26 10:12:14.168038: I tensorflow/core/common_runtime/gpu/gpu_device.cc:1746] Adding visible gpu devices: 0, 1, 2, 3\n",
      "2021-10-26 10:12:14.168098: I tensorflow/core/common_runtime/gpu/gpu_device.cc:1159] Device interconnect StreamExecutor with strength 1 edge matrix:\n",
      "2021-10-26 10:12:14.168106: I tensorflow/core/common_runtime/gpu/gpu_device.cc:1165]      0 1 2 3 \n",
      "2021-10-26 10:12:14.168110: I tensorflow/core/common_runtime/gpu/gpu_device.cc:1178] 0:   N N N N \n",
      "2021-10-26 10:12:14.168114: I tensorflow/core/common_runtime/gpu/gpu_device.cc:1178] 1:   N N N N \n",
      "2021-10-26 10:12:14.168117: I tensorflow/core/common_runtime/gpu/gpu_device.cc:1178] 2:   N N N N \n",
      "2021-10-26 10:12:14.168120: I tensorflow/core/common_runtime/gpu/gpu_device.cc:1178] 3:   N N N N \n",
      "2021-10-26 10:12:14.171759: I tensorflow/core/common_runtime/gpu/gpu_device.cc:1304] Created TensorFlow device (/job:localhost/replica:0/task:0/device:GPU:0 with 4561 MB memory) -> physical GPU (device: 0, name: GeForce RTX 2080 Ti, pci bus id: 0000:18:00.0, compute capability: 7.5)\n",
      "2021-10-26 10:12:14.172618: I tensorflow/core/common_runtime/gpu/gpu_device.cc:1304] Created TensorFlow device (/job:localhost/replica:0/task:0/device:GPU:1 with 9357 MB memory) -> physical GPU (device: 1, name: GeForce RTX 2080 Ti, pci bus id: 0000:3b:00.0, compute capability: 7.5)\n",
      "2021-10-26 10:12:14.173508: I tensorflow/core/common_runtime/gpu/gpu_device.cc:1304] Created TensorFlow device (/job:localhost/replica:0/task:0/device:GPU:2 with 10320 MB memory) -> physical GPU (device: 2, name: GeForce RTX 2080 Ti, pci bus id: 0000:86:00.0, compute capability: 7.5)\n",
      "2021-10-26 10:12:14.174412: I tensorflow/core/common_runtime/gpu/gpu_device.cc:1304] Created TensorFlow device (/job:localhost/replica:0/task:0/device:GPU:3 with 10320 MB memory) -> physical GPU (device: 3, name: GeForce RTX 2080 Ti, pci bus id: 0000:af:00.0, compute capability: 7.5)\n"
     ]
    },
    {
     "name": "stdout",
     "output_type": "stream",
     "text": [
      "Iter: 0 \tCost: 63.36830139160156\n",
      "Iter: 250 \tCost: 6.07767391204834\n",
      "Iter: 500 \tCost: 2.6130728721618652\n",
      "Iter: 750 \tCost: 1.5449105501174927\n",
      "Iter: 1000 \tCost: 1.8308589458465576\n",
      "Iter: 1250 \tCost: 0.5474734902381897\n",
      "Iter: 1500 \tCost: 1.8602664470672607\n",
      "Iter: 1750 \tCost: 0.16835136711597443\n",
      "Iter: 2000 \tCost: 0.4368812143802643\n",
      "Iter: 2250 \tCost: 0.6342354416847229\n",
      "Iter: 2500 \tCost: 1.0397969484329224\n",
      "Iter: 2750 \tCost: 0.9325671195983887\n",
      "Iter: 3000 \tCost: 0.19165006279945374\n",
      "Iter: 3250 \tCost: 1.0289379358291626\n",
      "Iter: 3500 \tCost: 0.23266319930553436\n",
      "Iter: 3750 \tCost: 1.1156151294708252\n",
      "Iter: 4000 \tCost: 0.49432751536369324\n",
      "Iter: 4250 \tCost: 0.056169480085372925\n",
      "Iter: 4500 \tCost: 0.3431268334388733\n",
      "Iter: 4750 \tCost: 0.14511661231517792\n",
      "\n",
      "\n",
      "Base Test Accuracy: 92.99%\n"
     ]
    }
   ],
   "source": [
    "params_dict  = {\n",
    "    'n_input': 784, 'n_hiddens': {'n_hidden': 100},\n",
    "    'n_output': 10, 'LR': 0.0001, 'comment': 'Base',\n",
    "    'n_batch': 50, 'n_iter': 5000, 'n_prt': 250\n",
    "}\n",
    "\n",
    "base_test_acc, base_loss_record_train, base_loss_record_valid = run_session(params_dict)"
   ]
  },
  {
   "cell_type": "code",
   "execution_count": 26,
   "id": "5a253d9e-21eb-4ec0-a2fd-06066bd9a0a1",
   "metadata": {},
   "outputs": [
    {
     "data": {
      "image/png": "[encoded data removed]",
      "text/plain": [
       "<Figure size 720x432 with 1 Axes>"
      ]
     },
     "metadata": {
      "needs_background": "light"
     },
     "output_type": "display_data"
    }
   ],
   "source": [
    "plot_loss(base_loss_record_train, base_loss_record_valid, params_dict['comment'])"
   ]
  },
  {
   "cell_type": "markdown",
   "id": "e0b31d53",
   "metadata": {},
   "source": [
    "#### 2.3 Try to improve your model by tuning the hyperparameters for each case (10 pt)"
   ]
  },
  {
   "cell_type": "markdown",
   "id": "ef811e8e-98fb-45dd-bfde-51e62ff355e7",
   "metadata": {},
   "source": [
    " * the number of hidden layers\n",
    " * the number of hidden nodes\n",
    " * the number of epochs\n",
    " * learning rate"
   ]
  },
  {
   "cell_type": "markdown",
   "id": "7e4bbf42",
   "metadata": {},
   "source": [
    "##### 2.3.1 The Number of Hidden Layers"
   ]
  },
  {
   "cell_type": "code",
   "execution_count": 27,
   "id": "e0b3580d-2e62-4748-b2fb-a8219dfd5676",
   "metadata": {
    "scrolled": true,
    "tags": []
   },
   "outputs": [
    {
     "name": "stderr",
     "output_type": "stream",
     "text": [
      "2021-10-26 10:12:34.528223: I tensorflow/core/common_runtime/gpu/gpu_device.cc:1618] Found device 0 with properties: \n",
      "name: GeForce RTX 2080 Ti major: 7 minor: 5 memoryClockRate(GHz): 1.545\n",
      "pciBusID: 0000:18:00.0\n",
      "2021-10-26 10:12:34.529108: I tensorflow/core/common_runtime/gpu/gpu_device.cc:1618] Found device 1 with properties: \n",
      "name: GeForce RTX 2080 Ti major: 7 minor: 5 memoryClockRate(GHz): 1.545\n",
      "pciBusID: 0000:3b:00.0\n",
      "2021-10-26 10:12:34.529997: I tensorflow/core/common_runtime/gpu/gpu_device.cc:1618] Found device 2 with properties: \n",
      "name: GeForce RTX 2080 Ti major: 7 minor: 5 memoryClockRate(GHz): 1.545\n",
      "pciBusID: 0000:86:00.0\n",
      "2021-10-26 10:12:34.530873: I tensorflow/core/common_runtime/gpu/gpu_device.cc:1618] Found device 3 with properties: \n",
      "name: GeForce RTX 2080 Ti major: 7 minor: 5 memoryClockRate(GHz): 1.545\n",
      "pciBusID: 0000:af:00.0\n",
      "2021-10-26 10:12:34.530941: I tensorflow/stream_executor/platform/default/dso_loader.cc:44] Successfully opened dynamic library libcudart.so.10.0\n",
      "2021-10-26 10:12:34.530956: I tensorflow/stream_executor/platform/default/dso_loader.cc:44] Successfully opened dynamic library libcublas.so.10.0\n",
      "2021-10-26 10:12:34.530969: I tensorflow/stream_executor/platform/default/dso_loader.cc:44] Successfully opened dynamic library libcufft.so.10.0\n",
      "2021-10-26 10:12:34.530980: I tensorflow/stream_executor/platform/default/dso_loader.cc:44] Successfully opened dynamic library libcurand.so.10.0\n",
      "2021-10-26 10:12:34.530994: I tensorflow/stream_executor/platform/default/dso_loader.cc:44] Successfully opened dynamic library libcusolver.so.10.0\n",
      "2021-10-26 10:12:34.531006: I tensorflow/stream_executor/platform/default/dso_loader.cc:44] Successfully opened dynamic library libcusparse.so.10.0\n",
      "2021-10-26 10:12:34.531020: I tensorflow/stream_executor/platform/default/dso_loader.cc:44] Successfully opened dynamic library libcudnn.so.7\n",
      "2021-10-26 10:12:34.537012: I tensorflow/core/common_runtime/gpu/gpu_device.cc:1746] Adding visible gpu devices: 0, 1, 2, 3\n",
      "2021-10-26 10:12:34.537074: I tensorflow/core/common_runtime/gpu/gpu_device.cc:1159] Device interconnect StreamExecutor with strength 1 edge matrix:\n",
      "2021-10-26 10:12:34.537081: I tensorflow/core/common_runtime/gpu/gpu_device.cc:1165]      0 1 2 3 \n",
      "2021-10-26 10:12:34.537086: I tensorflow/core/common_runtime/gpu/gpu_device.cc:1178] 0:   N N N N \n",
      "2021-10-26 10:12:34.537089: I tensorflow/core/common_runtime/gpu/gpu_device.cc:1178] 1:   N N N N \n",
      "2021-10-26 10:12:34.537092: I tensorflow/core/common_runtime/gpu/gpu_device.cc:1178] 2:   N N N N \n",
      "2021-10-26 10:12:34.537095: I tensorflow/core/common_runtime/gpu/gpu_device.cc:1178] 3:   N N N N \n",
      "2021-10-26 10:12:34.540694: I tensorflow/core/common_runtime/gpu/gpu_device.cc:1304] Created TensorFlow device (/job:localhost/replica:0/task:0/device:GPU:0 with 4561 MB memory) -> physical GPU (device: 0, name: GeForce RTX 2080 Ti, pci bus id: 0000:18:00.0, compute capability: 7.5)\n",
      "2021-10-26 10:12:34.541548: I tensorflow/core/common_runtime/gpu/gpu_device.cc:1304] Created TensorFlow device (/job:localhost/replica:0/task:0/device:GPU:1 with 9357 MB memory) -> physical GPU (device: 1, name: GeForce RTX 2080 Ti, pci bus id: 0000:3b:00.0, compute capability: 7.5)\n",
      "2021-10-26 10:12:34.542430: I tensorflow/core/common_runtime/gpu/gpu_device.cc:1304] Created TensorFlow device (/job:localhost/replica:0/task:0/device:GPU:2 with 10320 MB memory) -> physical GPU (device: 2, name: GeForce RTX 2080 Ti, pci bus id: 0000:86:00.0, compute capability: 7.5)\n",
      "2021-10-26 10:12:34.543323: I tensorflow/core/common_runtime/gpu/gpu_device.cc:1304] Created TensorFlow device (/job:localhost/replica:0/task:0/device:GPU:3 with 10320 MB memory) -> physical GPU (device: 3, name: GeForce RTX 2080 Ti, pci bus id: 0000:af:00.0, compute capability: 7.5)\n"
     ]
    },
    {
     "name": "stdout",
     "output_type": "stream",
     "text": [
      "Iter: 0 \tCost: 21.232471466064453\n",
      "Iter: 250 \tCost: 1.5176571607589722\n",
      "Iter: 500 \tCost: 0.3295581340789795\n",
      "Iter: 750 \tCost: 0.9062109589576721\n",
      "Iter: 1000 \tCost: 0.052352115511894226\n",
      "Iter: 1250 \tCost: 0.34715092182159424\n",
      "Iter: 1500 \tCost: 0.40489909052848816\n",
      "Iter: 1750 \tCost: 0.26443013548851013\n",
      "Iter: 2000 \tCost: 0.3303273022174835\n",
      "Iter: 2250 \tCost: 0.04214254766702652\n",
      "Iter: 2500 \tCost: 0.29804110527038574\n",
      "Iter: 2750 \tCost: 0.1299251765012741\n",
      "Iter: 3000 \tCost: 0.17965461313724518\n",
      "Iter: 3250 \tCost: 0.2236468493938446\n",
      "Iter: 3500 \tCost: 0.11681129783391953\n",
      "Iter: 3750 \tCost: 0.08348716795444489\n",
      "Iter: 4000 \tCost: 0.028101520612835884\n",
      "Iter: 4250 \tCost: 0.05754183605313301\n",
      "Iter: 4500 \tCost: 0.16212411224842072\n",
      "Iter: 4750 \tCost: 0.013159137219190598\n",
      "\n",
      "\n",
      "2 Hidden Layers Test Accuracy: 94.27% (base: 92.99%)\n"
     ]
    }
   ],
   "source": [
    "params_dict  = {\n",
    "    'n_input': 784, 'n_hiddens': {'n_hidden': 100, 'n_hidden_middle': 100},\n",
    "    'n_output': 10, 'LR': 0.0001, 'comment': '2 Hidden Layers',\n",
    "    'n_batch': 50, 'n_iter': 5000, 'n_prt': 250, 'base': base_test_acc\n",
    "}\n",
    "\n",
    "hly_test_acc, hly_loss_record_train, hly_loss_record_valid = run_session(params_dict)"
   ]
  },
  {
   "cell_type": "code",
   "execution_count": 28,
   "id": "2d991696-2015-40ec-9edb-162fa742ba6e",
   "metadata": {},
   "outputs": [
    {
     "data": {
      "image/png": "[encoded data removed]",
      "text/plain": [
       "<Figure size 720x432 with 1 Axes>"
      ]
     },
     "metadata": {
      "needs_background": "light"
     },
     "output_type": "display_data"
    }
   ],
   "source": [
    "plot_loss(hly_loss_record_train, hly_loss_record_valid, params_dict['comment'])"
   ]
  },
  {
   "cell_type": "markdown",
   "id": "689e1ff8",
   "metadata": {
    "tags": []
   },
   "source": [
    "##### 2.3.2 The Number of Hidden Nodes"
   ]
  },
  {
   "cell_type": "code",
   "execution_count": 29,
   "id": "b3632eee-4acb-4c41-8237-80cde7777f2b",
   "metadata": {
    "scrolled": true,
    "tags": []
   },
   "outputs": [
    {
     "name": "stderr",
     "output_type": "stream",
     "text": [
      "2021-10-26 10:12:59.643147: I tensorflow/core/common_runtime/gpu/gpu_device.cc:1618] Found device 0 with properties: \n",
      "name: GeForce RTX 2080 Ti major: 7 minor: 5 memoryClockRate(GHz): 1.545\n",
      "pciBusID: 0000:18:00.0\n",
      "2021-10-26 10:12:59.644060: I tensorflow/core/common_runtime/gpu/gpu_device.cc:1618] Found device 1 with properties: \n",
      "name: GeForce RTX 2080 Ti major: 7 minor: 5 memoryClockRate(GHz): 1.545\n",
      "pciBusID: 0000:3b:00.0\n",
      "2021-10-26 10:12:59.644983: I tensorflow/core/common_runtime/gpu/gpu_device.cc:1618] Found device 2 with properties: \n",
      "name: GeForce RTX 2080 Ti major: 7 minor: 5 memoryClockRate(GHz): 1.545\n",
      "pciBusID: 0000:86:00.0\n",
      "2021-10-26 10:12:59.645907: I tensorflow/core/common_runtime/gpu/gpu_device.cc:1618] Found device 3 with properties: \n",
      "name: GeForce RTX 2080 Ti major: 7 minor: 5 memoryClockRate(GHz): 1.545\n",
      "pciBusID: 0000:af:00.0\n",
      "2021-10-26 10:12:59.645970: I tensorflow/stream_executor/platform/default/dso_loader.cc:44] Successfully opened dynamic library libcudart.so.10.0\n",
      "2021-10-26 10:12:59.645984: I tensorflow/stream_executor/platform/default/dso_loader.cc:44] Successfully opened dynamic library libcublas.so.10.0\n",
      "2021-10-26 10:12:59.645997: I tensorflow/stream_executor/platform/default/dso_loader.cc:44] Successfully opened dynamic library libcufft.so.10.0\n",
      "2021-10-26 10:12:59.646008: I tensorflow/stream_executor/platform/default/dso_loader.cc:44] Successfully opened dynamic library libcurand.so.10.0\n",
      "2021-10-26 10:12:59.646020: I tensorflow/stream_executor/platform/default/dso_loader.cc:44] Successfully opened dynamic library libcusolver.so.10.0\n",
      "2021-10-26 10:12:59.646033: I tensorflow/stream_executor/platform/default/dso_loader.cc:44] Successfully opened dynamic library libcusparse.so.10.0\n",
      "2021-10-26 10:12:59.646046: I tensorflow/stream_executor/platform/default/dso_loader.cc:44] Successfully opened dynamic library libcudnn.so.7\n",
      "2021-10-26 10:12:59.652060: I tensorflow/core/common_runtime/gpu/gpu_device.cc:1746] Adding visible gpu devices: 0, 1, 2, 3\n",
      "2021-10-26 10:12:59.652120: I tensorflow/core/common_runtime/gpu/gpu_device.cc:1159] Device interconnect StreamExecutor with strength 1 edge matrix:\n",
      "2021-10-26 10:12:59.652128: I tensorflow/core/common_runtime/gpu/gpu_device.cc:1165]      0 1 2 3 \n",
      "2021-10-26 10:12:59.652132: I tensorflow/core/common_runtime/gpu/gpu_device.cc:1178] 0:   N N N N \n",
      "2021-10-26 10:12:59.652135: I tensorflow/core/common_runtime/gpu/gpu_device.cc:1178] 1:   N N N N \n",
      "2021-10-26 10:12:59.652138: I tensorflow/core/common_runtime/gpu/gpu_device.cc:1178] 2:   N N N N \n",
      "2021-10-26 10:12:59.652141: I tensorflow/core/common_runtime/gpu/gpu_device.cc:1178] 3:   N N N N \n",
      "2021-10-26 10:12:59.655699: I tensorflow/core/common_runtime/gpu/gpu_device.cc:1304] Created TensorFlow device (/job:localhost/replica:0/task:0/device:GPU:0 with 4561 MB memory) -> physical GPU (device: 0, name: GeForce RTX 2080 Ti, pci bus id: 0000:18:00.0, compute capability: 7.5)\n",
      "2021-10-26 10:12:59.656561: I tensorflow/core/common_runtime/gpu/gpu_device.cc:1304] Created TensorFlow device (/job:localhost/replica:0/task:0/device:GPU:1 with 9357 MB memory) -> physical GPU (device: 1, name: GeForce RTX 2080 Ti, pci bus id: 0000:3b:00.0, compute capability: 7.5)\n",
      "2021-10-26 10:12:59.657446: I tensorflow/core/common_runtime/gpu/gpu_device.cc:1304] Created TensorFlow device (/job:localhost/replica:0/task:0/device:GPU:2 with 10320 MB memory) -> physical GPU (device: 2, name: GeForce RTX 2080 Ti, pci bus id: 0000:86:00.0, compute capability: 7.5)\n",
      "2021-10-26 10:12:59.659548: I tensorflow/core/common_runtime/gpu/gpu_device.cc:1304] Created TensorFlow device (/job:localhost/replica:0/task:0/device:GPU:3 with 10320 MB memory) -> physical GPU (device: 3, name: GeForce RTX 2080 Ti, pci bus id: 0000:af:00.0, compute capability: 7.5)\n"
     ]
    },
    {
     "name": "stdout",
     "output_type": "stream",
     "text": [
      "Iter: 0 \tCost: 182.18821716308594\n",
      "Iter: 250 \tCost: 3.6084704399108887\n",
      "Iter: 500 \tCost: 5.920363903045654\n",
      "Iter: 750 \tCost: 8.819222450256348\n",
      "Iter: 1000 \tCost: 0.5173323750495911\n",
      "Iter: 1250 \tCost: 2.711751699447632\n",
      "Iter: 1500 \tCost: 0.1471887081861496\n",
      "Iter: 1750 \tCost: 3.2671029567718506\n",
      "Iter: 2000 \tCost: 0.687856912612915\n",
      "Iter: 2250 \tCost: 2.486597776412964\n",
      "Iter: 2500 \tCost: 2.2511789798736572\n",
      "Iter: 2750 \tCost: 0.0\n",
      "Iter: 3000 \tCost: 0.18688902258872986\n",
      "Iter: 3250 \tCost: 0.4778578579425812\n",
      "Iter: 3500 \tCost: 1.875960350036621\n",
      "Iter: 3750 \tCost: 0.0\n",
      "Iter: 4000 \tCost: 0.0\n",
      "Iter: 4250 \tCost: 0.737323522567749\n",
      "Iter: 4500 \tCost: 0.05271199718117714\n",
      "Iter: 4750 \tCost: 0.697866678237915\n",
      "\n",
      "\n",
      "1000 Hidden Nodes Test Accuracy: 94.87% (base: 92.99%)\n"
     ]
    }
   ],
   "source": [
    "params_dict  = {\n",
    "    'n_input': 784, 'n_hiddens': {'n_hidden': 1000},\n",
    "    'n_output': 10, 'LR': 0.0001, 'comment': '1000 Hidden Nodes',\n",
    "    'n_batch': 50, 'n_iter': 5000, 'n_prt': 250, 'base': base_test_acc\n",
    "}\n",
    "\n",
    "hnd_test_acc, hnd_loss_record_train, hnd_loss_record_valid = run_session(params_dict)"
   ]
  },
  {
   "cell_type": "code",
   "execution_count": 30,
   "id": "24485424-1674-4e5d-8722-2591b11eb8b9",
   "metadata": {},
   "outputs": [
    {
     "data": {
      "image/png": "[encoded data removed]",
      "text/plain": [
       "<Figure size 720x432 with 1 Axes>"
      ]
     },
     "metadata": {
      "needs_background": "light"
     },
     "output_type": "display_data"
    }
   ],
   "source": [
    "plot_loss(hnd_loss_record_train, hnd_loss_record_valid, params_dict['comment'])"
   ]
  },
  {
   "cell_type": "markdown",
   "id": "3b86ed34",
   "metadata": {},
   "source": [
    "##### 2.3.3 The Number of Epochs"
   ]
  },
  {
   "cell_type": "code",
   "execution_count": 31,
   "id": "bfdc47f2-50b1-4f3c-b29b-3de7bbcd28c6",
   "metadata": {
    "scrolled": true,
    "tags": []
   },
   "outputs": [
    {
     "name": "stderr",
     "output_type": "stream",
     "text": [
      "2021-10-26 10:13:14.899498: I tensorflow/core/common_runtime/gpu/gpu_device.cc:1618] Found device 0 with properties: \n",
      "name: GeForce RTX 2080 Ti major: 7 minor: 5 memoryClockRate(GHz): 1.545\n",
      "pciBusID: 0000:18:00.0\n",
      "2021-10-26 10:13:14.900424: I tensorflow/core/common_runtime/gpu/gpu_device.cc:1618] Found device 1 with properties: \n",
      "name: GeForce RTX 2080 Ti major: 7 minor: 5 memoryClockRate(GHz): 1.545\n",
      "pciBusID: 0000:3b:00.0\n",
      "2021-10-26 10:13:14.901311: I tensorflow/core/common_runtime/gpu/gpu_device.cc:1618] Found device 2 with properties: \n",
      "name: GeForce RTX 2080 Ti major: 7 minor: 5 memoryClockRate(GHz): 1.545\n",
      "pciBusID: 0000:86:00.0\n",
      "2021-10-26 10:13:14.902191: I tensorflow/core/common_runtime/gpu/gpu_device.cc:1618] Found device 3 with properties: \n",
      "name: GeForce RTX 2080 Ti major: 7 minor: 5 memoryClockRate(GHz): 1.545\n",
      "pciBusID: 0000:af:00.0\n",
      "2021-10-26 10:13:14.902252: I tensorflow/stream_executor/platform/default/dso_loader.cc:44] Successfully opened dynamic library libcudart.so.10.0\n",
      "2021-10-26 10:13:14.902268: I tensorflow/stream_executor/platform/default/dso_loader.cc:44] Successfully opened dynamic library libcublas.so.10.0\n",
      "2021-10-26 10:13:14.902282: I tensorflow/stream_executor/platform/default/dso_loader.cc:44] Successfully opened dynamic library libcufft.so.10.0\n",
      "2021-10-26 10:13:14.902293: I tensorflow/stream_executor/platform/default/dso_loader.cc:44] Successfully opened dynamic library libcurand.so.10.0\n",
      "2021-10-26 10:13:14.902305: I tensorflow/stream_executor/platform/default/dso_loader.cc:44] Successfully opened dynamic library libcusolver.so.10.0\n",
      "2021-10-26 10:13:14.902317: I tensorflow/stream_executor/platform/default/dso_loader.cc:44] Successfully opened dynamic library libcusparse.so.10.0\n",
      "2021-10-26 10:13:14.902332: I tensorflow/stream_executor/platform/default/dso_loader.cc:44] Successfully opened dynamic library libcudnn.so.7\n",
      "2021-10-26 10:13:14.908254: I tensorflow/core/common_runtime/gpu/gpu_device.cc:1746] Adding visible gpu devices: 0, 1, 2, 3\n",
      "2021-10-26 10:13:14.908314: I tensorflow/core/common_runtime/gpu/gpu_device.cc:1159] Device interconnect StreamExecutor with strength 1 edge matrix:\n",
      "2021-10-26 10:13:14.908322: I tensorflow/core/common_runtime/gpu/gpu_device.cc:1165]      0 1 2 3 \n",
      "2021-10-26 10:13:14.908326: I tensorflow/core/common_runtime/gpu/gpu_device.cc:1178] 0:   N N N N \n",
      "2021-10-26 10:13:14.908329: I tensorflow/core/common_runtime/gpu/gpu_device.cc:1178] 1:   N N N N \n",
      "2021-10-26 10:13:14.908332: I tensorflow/core/common_runtime/gpu/gpu_device.cc:1178] 2:   N N N N \n",
      "2021-10-26 10:13:14.908335: I tensorflow/core/common_runtime/gpu/gpu_device.cc:1178] 3:   N N N N \n",
      "2021-10-26 10:13:14.911874: I tensorflow/core/common_runtime/gpu/gpu_device.cc:1304] Created TensorFlow device (/job:localhost/replica:0/task:0/device:GPU:0 with 4561 MB memory) -> physical GPU (device: 0, name: GeForce RTX 2080 Ti, pci bus id: 0000:18:00.0, compute capability: 7.5)\n",
      "2021-10-26 10:13:14.912686: I tensorflow/core/common_runtime/gpu/gpu_device.cc:1304] Created TensorFlow device (/job:localhost/replica:0/task:0/device:GPU:1 with 9357 MB memory) -> physical GPU (device: 1, name: GeForce RTX 2080 Ti, pci bus id: 0000:3b:00.0, compute capability: 7.5)\n",
      "2021-10-26 10:13:14.913548: I tensorflow/core/common_runtime/gpu/gpu_device.cc:1304] Created TensorFlow device (/job:localhost/replica:0/task:0/device:GPU:2 with 10320 MB memory) -> physical GPU (device: 2, name: GeForce RTX 2080 Ti, pci bus id: 0000:86:00.0, compute capability: 7.5)\n",
      "2021-10-26 10:13:14.914406: I tensorflow/core/common_runtime/gpu/gpu_device.cc:1304] Created TensorFlow device (/job:localhost/replica:0/task:0/device:GPU:3 with 10320 MB memory) -> physical GPU (device: 3, name: GeForce RTX 2080 Ti, pci bus id: 0000:af:00.0, compute capability: 7.5)\n"
     ]
    },
    {
     "name": "stdout",
     "output_type": "stream",
     "text": [
      "Iter: 0 \tCost: 56.174705505371094\n",
      "Iter: 250 \tCost: 2.918362617492676\n",
      "Iter: 500 \tCost: 1.121809959411621\n",
      "Iter: 750 \tCost: 0.535000205039978\n",
      "Iter: 1000 \tCost: 1.1829437017440796\n",
      "Iter: 1250 \tCost: 0.7297961711883545\n",
      "Iter: 1500 \tCost: 0.3661690950393677\n",
      "Iter: 1750 \tCost: 0.708204984664917\n",
      "Iter: 2000 \tCost: 0.1762978583574295\n",
      "Iter: 2250 \tCost: 1.3955966234207153\n",
      "Iter: 2500 \tCost: 0.3134075403213501\n",
      "Iter: 2750 \tCost: 1.4138433933258057\n",
      "Iter: 3000 \tCost: 0.7354017496109009\n",
      "Iter: 3250 \tCost: 0.11722704768180847\n",
      "Iter: 3500 \tCost: 0.4121323823928833\n",
      "Iter: 3750 \tCost: 0.26272761821746826\n",
      "Iter: 4000 \tCost: 0.11783650517463684\n",
      "Iter: 4250 \tCost: 1.0686137676239014\n",
      "Iter: 4500 \tCost: 0.45244160294532776\n",
      "Iter: 4750 \tCost: 0.179764524102211\n",
      "Iter: 5000 \tCost: 0.15935347974300385\n",
      "Iter: 5250 \tCost: 0.4817124903202057\n",
      "Iter: 5500 \tCost: 0.3251492977142334\n",
      "Iter: 5750 \tCost: 0.20883823931217194\n",
      "Iter: 6000 \tCost: 0.2730213701725006\n",
      "Iter: 6250 \tCost: 0.16686385869979858\n",
      "Iter: 6500 \tCost: 0.4321432113647461\n",
      "Iter: 6750 \tCost: 0.19472211599349976\n",
      "Iter: 7000 \tCost: 0.19278164207935333\n",
      "Iter: 7250 \tCost: 0.1776510626077652\n",
      "Iter: 7500 \tCost: 0.7894905209541321\n",
      "Iter: 7750 \tCost: 0.22584867477416992\n",
      "Iter: 8000 \tCost: 0.02386196330189705\n",
      "Iter: 8250 \tCost: 0.2189113199710846\n",
      "Iter: 8500 \tCost: 0.08666867017745972\n",
      "Iter: 8750 \tCost: 0.4620519280433655\n",
      "Iter: 9000 \tCost: 0.02468074858188629\n",
      "Iter: 9250 \tCost: 0.1505323201417923\n",
      "Iter: 9500 \tCost: 0.047822896391153336\n",
      "Iter: 9750 \tCost: 0.007096375338733196\n",
      "\n",
      "\n",
      "10000 Iteration Test Accuracy: 94.91% (base: 92.99%)\n"
     ]
    }
   ],
   "source": [
    "params_dict  = {\n",
    "    'n_input': 784, 'n_hiddens': {'n_hidden': 100},\n",
    "    'n_output': 10, 'LR': 0.0001, 'comment': '10000 Iteration',\n",
    "    'n_batch': 50, 'n_iter': 10000, 'n_prt': 250, 'base': base_test_acc\n",
    "}\n",
    "\n",
    "iter_test_acc, iter_loss_record_train, iter_loss_record_valid = run_session(params_dict)"
   ]
  },
  {
   "cell_type": "code",
   "execution_count": 32,
   "id": "779bde5b-96be-4d75-a963-97375ed06f22",
   "metadata": {},
   "outputs": [
    {
     "data": {
      "image/png": "[encoded data removed]",
      "text/plain": [
       "<Figure size 720x432 with 1 Axes>"
      ]
     },
     "metadata": {
      "needs_background": "light"
     },
     "output_type": "display_data"
    }
   ],
   "source": [
    "plot_loss(iter_loss_record_train, iter_loss_record_valid, params_dict['comment'])"
   ]
  },
  {
   "cell_type": "markdown",
   "id": "a908943a-59ea-4bcc-a679-5d531f54adc1",
   "metadata": {},
   "source": [
    "##### 2.3.4 Learning Rate"
   ]
  },
  {
   "cell_type": "code",
   "execution_count": 35,
   "id": "db67ab05-9c1c-4db4-bbb8-f93efde78426",
   "metadata": {
    "scrolled": true,
    "tags": []
   },
   "outputs": [
    {
     "name": "stderr",
     "output_type": "stream",
     "text": [
      "2021-10-26 10:14:08.118020: I tensorflow/core/common_runtime/gpu/gpu_device.cc:1618] Found device 0 with properties: \n",
      "name: GeForce RTX 2080 Ti major: 7 minor: 5 memoryClockRate(GHz): 1.545\n",
      "pciBusID: 0000:18:00.0\n",
      "2021-10-26 10:14:08.118898: I tensorflow/core/common_runtime/gpu/gpu_device.cc:1618] Found device 1 with properties: \n",
      "name: GeForce RTX 2080 Ti major: 7 minor: 5 memoryClockRate(GHz): 1.545\n",
      "pciBusID: 0000:3b:00.0\n",
      "2021-10-26 10:14:08.119770: I tensorflow/core/common_runtime/gpu/gpu_device.cc:1618] Found device 2 with properties: \n",
      "name: GeForce RTX 2080 Ti major: 7 minor: 5 memoryClockRate(GHz): 1.545\n",
      "pciBusID: 0000:86:00.0\n",
      "2021-10-26 10:14:08.120586: I tensorflow/core/common_runtime/gpu/gpu_device.cc:1618] Found device 3 with properties: \n",
      "name: GeForce RTX 2080 Ti major: 7 minor: 5 memoryClockRate(GHz): 1.545\n",
      "pciBusID: 0000:af:00.0\n",
      "2021-10-26 10:14:08.120638: I tensorflow/stream_executor/platform/default/dso_loader.cc:44] Successfully opened dynamic library libcudart.so.10.0\n",
      "2021-10-26 10:14:08.120647: I tensorflow/stream_executor/platform/default/dso_loader.cc:44] Successfully opened dynamic library libcublas.so.10.0\n",
      "2021-10-26 10:14:08.120655: I tensorflow/stream_executor/platform/default/dso_loader.cc:44] Successfully opened dynamic library libcufft.so.10.0\n",
      "2021-10-26 10:14:08.120663: I tensorflow/stream_executor/platform/default/dso_loader.cc:44] Successfully opened dynamic library libcurand.so.10.0\n",
      "2021-10-26 10:14:08.120671: I tensorflow/stream_executor/platform/default/dso_loader.cc:44] Successfully opened dynamic library libcusolver.so.10.0\n",
      "2021-10-26 10:14:08.120679: I tensorflow/stream_executor/platform/default/dso_loader.cc:44] Successfully opened dynamic library libcusparse.so.10.0\n",
      "2021-10-26 10:14:08.120689: I tensorflow/stream_executor/platform/default/dso_loader.cc:44] Successfully opened dynamic library libcudnn.so.7\n",
      "2021-10-26 10:14:08.125893: I tensorflow/core/common_runtime/gpu/gpu_device.cc:1746] Adding visible gpu devices: 0, 1, 2, 3\n",
      "2021-10-26 10:14:08.125946: I tensorflow/core/common_runtime/gpu/gpu_device.cc:1159] Device interconnect StreamExecutor with strength 1 edge matrix:\n",
      "2021-10-26 10:14:08.125953: I tensorflow/core/common_runtime/gpu/gpu_device.cc:1165]      0 1 2 3 \n",
      "2021-10-26 10:14:08.125958: I tensorflow/core/common_runtime/gpu/gpu_device.cc:1178] 0:   N N N N \n",
      "2021-10-26 10:14:08.125960: I tensorflow/core/common_runtime/gpu/gpu_device.cc:1178] 1:   N N N N \n",
      "2021-10-26 10:14:08.125962: I tensorflow/core/common_runtime/gpu/gpu_device.cc:1178] 2:   N N N N \n",
      "2021-10-26 10:14:08.125965: I tensorflow/core/common_runtime/gpu/gpu_device.cc:1178] 3:   N N N N \n",
      "2021-10-26 10:14:08.129209: I tensorflow/core/common_runtime/gpu/gpu_device.cc:1304] Created TensorFlow device (/job:localhost/replica:0/task:0/device:GPU:0 with 4561 MB memory) -> physical GPU (device: 0, name: GeForce RTX 2080 Ti, pci bus id: 0000:18:00.0, compute capability: 7.5)\n",
      "2021-10-26 10:14:08.129936: I tensorflow/core/common_runtime/gpu/gpu_device.cc:1304] Created TensorFlow device (/job:localhost/replica:0/task:0/device:GPU:1 with 9357 MB memory) -> physical GPU (device: 1, name: GeForce RTX 2080 Ti, pci bus id: 0000:3b:00.0, compute capability: 7.5)\n",
      "2021-10-26 10:14:08.130705: I tensorflow/core/common_runtime/gpu/gpu_device.cc:1304] Created TensorFlow device (/job:localhost/replica:0/task:0/device:GPU:2 with 10320 MB memory) -> physical GPU (device: 2, name: GeForce RTX 2080 Ti, pci bus id: 0000:86:00.0, compute capability: 7.5)\n",
      "2021-10-26 10:14:08.131466: I tensorflow/core/common_runtime/gpu/gpu_device.cc:1304] Created TensorFlow device (/job:localhost/replica:0/task:0/device:GPU:3 with 10320 MB memory) -> physical GPU (device: 3, name: GeForce RTX 2080 Ti, pci bus id: 0000:af:00.0, compute capability: 7.5)\n"
     ]
    },
    {
     "name": "stdout",
     "output_type": "stream",
     "text": [
      "Iter: 0 \tCost: 36.887786865234375\n",
      "Iter: 250 \tCost: 0.65044766664505\n",
      "Iter: 500 \tCost: 0.6540930271148682\n",
      "Iter: 750 \tCost: 0.3125479221343994\n",
      "Iter: 1000 \tCost: 0.4072936177253723\n",
      "Iter: 1250 \tCost: 0.3689382076263428\n",
      "Iter: 1500 \tCost: 0.24013414978981018\n",
      "Iter: 1750 \tCost: 0.025305628776550293\n",
      "Iter: 2000 \tCost: 0.13098323345184326\n",
      "Iter: 2250 \tCost: 0.06545703113079071\n",
      "Iter: 2500 \tCost: 0.09139660000801086\n",
      "Iter: 2750 \tCost: 0.198481947183609\n",
      "Iter: 3000 \tCost: 0.16957950592041016\n",
      "Iter: 3250 \tCost: 0.08506514877080917\n",
      "Iter: 3500 \tCost: 0.08809150010347366\n",
      "Iter: 3750 \tCost: 0.05956299602985382\n",
      "Iter: 4000 \tCost: 0.07606115192174911\n",
      "Iter: 4250 \tCost: 0.06839440017938614\n",
      "Iter: 4500 \tCost: 0.07694429904222488\n",
      "Iter: 4750 \tCost: 0.07797285169363022\n",
      "\n",
      "\n",
      "0.01 Learning Rate Test Accuracy: 94.77% (base: 92.99%)\n"
     ]
    }
   ],
   "source": [
    "params_dict  = {\n",
    "    'n_input': 784, 'n_hiddens': {'n_hidden': 100},\n",
    "    'n_output': 10, 'LR': 0.001, 'comment': '0.01 Learning Rate',\n",
    "    'n_batch': 50, 'n_iter': 5000, 'n_prt': 250, 'base': base_test_acc\n",
    "}\n",
    "\n",
    "lr_test_acc, lr_loss_record_train, lr_loss_record_valid = run_session(params_dict)"
   ]
  },
  {
   "cell_type": "code",
   "execution_count": 36,
   "id": "cb6fba9b-d2fb-4a4b-9187-97a24d06cfaa",
   "metadata": {},
   "outputs": [
    {
     "data": {
      "image/png": "[encoded data removed]",
      "text/plain": [
       "<Figure size 720x432 with 1 Axes>"
      ]
     },
     "metadata": {
      "needs_background": "light"
     },
     "output_type": "display_data"
    }
   ],
   "source": [
    "plot_loss(lr_loss_record_train, lr_loss_record_valid, params_dict['comment'])"
   ]
  },
  {
   "cell_type": "markdown",
   "id": "e4d5bd1c",
   "metadata": {},
   "source": [
    "#### 2.4 Discuss the results (20 pt)\n",
    "\n",
    " * you can use either Microsoft Word or markdown"
   ]
  },
  {
   "cell_type": "markdown",
   "id": "466ac0da-8ba2-4aab-9900-0a6574b5c898",
   "metadata": {},
   "source": [
    "##### 2.4.1 The Number of Hidden Layers"
   ]
  },
  {
   "cell_type": "code",
   "execution_count": 37,
   "id": "d4746deb-52cb-418f-b18a-96bbc1bf7902",
   "metadata": {},
   "outputs": [
    {
     "name": "stdout",
     "output_type": "stream",
     "text": [
      "2 Hidden Layers Test Accuracy: 94.27% (base: 92.99%)\n"
     ]
    }
   ],
   "source": [
    "print('{} Test Accuracy: {}% (base: {}%)'.format(\n",
    "      '2 Hidden Layers', round(hly_test_acc*100, 4), round(base_test_acc*100, 4)))"
   ]
  },
  {
   "cell_type": "markdown",
   "id": "5f00a26e-6897-47ce-9909-e3b3b92e14fd",
   "metadata": {},
   "source": [
    "With increasing hidden layers from 1 to 2, I got higher test accuracy than base one like the above.\n",
    "It's simply understood because nonlinear classifier in original space \n",
    "could be handled with multi layers separating them linearly in z space.\n",
    "However, there's always a risk to put many layers which may lead to overfitting."
   ]
  },
  {
   "cell_type": "markdown",
   "id": "5da294bd-b685-4f42-9973-3101254977c6",
   "metadata": {},
   "source": [
    "##### 2.4.2 The Number of Hidden Nodes"
   ]
  },
  {
   "cell_type": "code",
   "execution_count": 38,
   "id": "b6cdc957-f5ee-446a-8254-e22351b25088",
   "metadata": {},
   "outputs": [
    {
     "name": "stdout",
     "output_type": "stream",
     "text": [
      "1000 Hidden Nodes Test Accuracy: 94.87% (base: 92.99%)\n"
     ]
    }
   ],
   "source": [
    "print('{} Test Accuracy: {}% (base: {}%)'.format(\n",
    "      '1000 Hidden Nodes', round(hnd_test_acc*100, 4), round(base_test_acc*100, 4)))"
   ]
  },
  {
   "cell_type": "markdown",
   "id": "5e785400-0c5d-44a4-850f-bc57950b5b7c",
   "metadata": {},
   "source": [
    "With increasing hidden layer's nodes from 100 to 1000, I got higher test accuracy than base one like the above. It's basically because of the concept of the hidden layer.\n",
    "The hidden layer learns a representation so that the data gets linearly separable.\n",
    "The more neurons in hidden layers, the more multiple linear classification boundaries."
   ]
  },
  {
   "cell_type": "markdown",
   "id": "fd209789-3031-4d73-b432-f31b82445dec",
   "metadata": {},
   "source": [
    "##### 2.4.3 The Number of Epochs"
   ]
  },
  {
   "cell_type": "code",
   "execution_count": 39,
   "id": "51411c8f-af41-4c6d-99ce-a5de0f83354e",
   "metadata": {},
   "outputs": [
    {
     "name": "stdout",
     "output_type": "stream",
     "text": [
      "10000 Iteration Test Accuracy: 94.91% (base: 92.99%)\n"
     ]
    }
   ],
   "source": [
    "print('{} Test Accuracy: {}% (base: {}%)'.format(\n",
    "      '10000 Iteration', round(iter_test_acc*100, 4), round(base_test_acc*100, 4)))"
   ]
  },
  {
   "cell_type": "markdown",
   "id": "23d55798-6796-4b5e-be4e-9a3c51b59c70",
   "metadata": {},
   "source": [
    "With increasing iteration from 5000 to 10000, I got higher test accuracy than base one like the above.\n",
    "The more the number of iterations, the better learning and the higher test accuracy.\n",
    "However, there're a tradeoff with the cost of calculating weights and biases and a risk of overfitting."
   ]
  },
  {
   "cell_type": "markdown",
   "id": "a4d8156d-4d88-43b6-9a39-b4d507413f6d",
   "metadata": {},
   "source": [
    "##### 2.4.4 Learning Rate"
   ]
  },
  {
   "cell_type": "code",
   "execution_count": 40,
   "id": "764feb5d-eb44-447d-aff8-586cc50c8bc1",
   "metadata": {},
   "outputs": [
    {
     "name": "stdout",
     "output_type": "stream",
     "text": [
      "0.01 Iteration Test Accuracy: 94.77% (base: 92.99%)\n"
     ]
    }
   ],
   "source": [
    "print('{} Test Accuracy: {}% (base: {}%)'.format(\n",
    "      '0.01 Iteration', round(lr_test_acc*100, 4), round(base_test_acc*100, 4)))"
   ]
  },
  {
   "cell_type": "markdown",
   "id": "631a7dfa-0b0b-488b-8267-49f082ebc152",
   "metadata": {},
   "source": [
    "With chaning learning rate from 0.0001 to 0.001, I got higher test accuracy than base one like the above.\n",
    "It did not get underfitting making divergence which I can say 0.01 is the optimal learning rate."
   ]
  },
  {
   "cell_type": "markdown",
   "id": "224ea7a0",
   "metadata": {
    "tags": []
   },
   "source": [
    "### 3. Improve your model\n",
    "\n",
    " <strong>※ For all your training results, plot the training and validation curve and report the test accuracy</strong>\n",
    "\n",
    "#### 3.1 Try to improve your model by following modifications for each case (use your base model) (20 pt)\n",
    "\n",
    "* Add dropout\n",
    "* Apply data augmentation (visualize the augmented data)\n",
    "* Change the optimizer\n",
    "* Use learning rate scheduler\n",
    "* Add regularization"
   ]
  },
  {
   "cell_type": "code",
   "execution_count": 58,
   "id": "7b63d618-05ef-4392-bf56-12bf0010dae0",
   "metadata": {},
   "outputs": [],
   "source": [
    "def run_session(params):\n",
    "    def build_model(x, weights, biases, p):\n",
    "        nonlocal layer_num\n",
    "\n",
    "        hidden = tf.add(tf.matmul(x, weights['hidden']), biases['hidden'])\n",
    "        hidden_final = tf.nn.relu(hidden)\n",
    "        if p != 0:\n",
    "            hidden_final = tf.nn.dropout(hidden_final, rate=p)\n",
    "        \n",
    "        if layer_num == 3:\n",
    "            hidden_middle = tf.add(tf.matmul(hidden_final, \n",
    "                                             weights['hidden_middle']), \n",
    "                                             biases['hidden_middle'])\n",
    "            hidden_final = tf.nn.relu(hidden_middle)\n",
    "            if p != 0:\n",
    "                hidden_final = tf.nn.dropout(hidden_final, rate=p)\n",
    "\n",
    "        output = tf.add(tf.matmul(hidden_final, weights['output']), biases['output'])\n",
    "\n",
    "        return output\n",
    "\n",
    "    layer_num = len(params['n_hiddens']) + 1\n",
    "    \n",
    "    n_input, n_output = params['n_input'], params['n_output']\n",
    "    LR, n_batch = params['LR'], params['n_batch']\n",
    "    n_iter, n_prt = params['n_iter'], params['n_prt']\n",
    "    \n",
    "    n_hidden = params['n_hiddens']['n_hidden']\n",
    "    \n",
    "    weights = {'hidden': tf.Variable(tf.random.normal([n_input, n_hidden], stddev=0.05))}\n",
    "    biases = {'hidden': tf.Variable(tf.random_normal([n_hidden], stddev=0.05)),\n",
    "              'output': tf.Variable(tf.random_normal([n_output], stddev=0.05))}\n",
    "    if layer_num == 2:\n",
    "        weights['output'] = tf.Variable(tf.random.normal([n_hidden, n_output], stddev=0.05))\n",
    "        \n",
    "    if layer_num == 3:\n",
    "        n_hidden_middle = params['n_hiddens']['n_hidden_middle']\n",
    "        \n",
    "        weights['hidden_middle'] = tf.Variable(\n",
    "            tf.random.normal([n_hidden, n_hidden_middle], stddev=0.05))\n",
    "        weights['output'] = tf.Variable(\n",
    "            tf.random.normal([n_hidden_middle, n_output], stddev=0.05))\n",
    "        biases['hidden_middle'] = tf.Variable(\n",
    "            tf.random_normal([n_hidden_middle], stddev=0.05))\n",
    "    \n",
    "    p_rate = params['dropout'] if 'dropout' in params else 0\n",
    "        \n",
    "    p = tf.placeholder(tf.float32)    \n",
    "    x = tf.compat.v1.placeholder(tf.float32, [None, n_input])\n",
    "    y = tf.compat.v1.placeholder(tf.float32, [None, n_output])\n",
    "\n",
    "    pred = build_model(x, weights, biases, p_rate)\n",
    "    loss = tf.nn.softmax_cross_entropy_with_logits_v2(logits=pred, labels=y)\n",
    "    loss = tf.reduce_mean(loss)\n",
    "    \n",
    "    if 'reg' in params:\n",
    "        _lambda = params['reg']\n",
    "        \n",
    "        reg_1 = tf.reduce_mean(tf.square(weights['hidden']))\n",
    "        reg_2 = tf.reduce_mean(tf.square(weights['output'])) \n",
    "        reg_3 = tf.reduce_mean(tf.square(biases['hidden'])) \n",
    "        reg_4 = tf.reduce_mean(tf.square(biases['output']))\n",
    "        # add all weights and multiply by lambda\n",
    "        loss = tf.reduce_mean(loss + _lambda*(reg_1 + reg_2 + reg_3 + reg_4))\n",
    "\n",
    "    if 'optm' in params:\n",
    "        optm = tf.compat.v1.train.AdagradOptimizer(LR).minimize(loss)\n",
    "    \n",
    "    elif 'schd' in params:\n",
    "        global_step = tf.Variable(0, trainable=False)\n",
    "        starter_learning_rate = 0.001\n",
    "        LR = tf.compat.v1.train.exponential_decay(starter_learning_rate,\n",
    "                                                  global_step, 50, 0.96, \n",
    "                                                  staircase=True)\n",
    "        optm = tf.compat.v1.train.AdamOptimizer(LR).minimize(loss, global_step=global_step)\n",
    "    \n",
    "    else:\n",
    "        optm = tf.compat.v1.train.AdamOptimizer(LR).minimize(loss)\n",
    "    init = tf.compat.v1.global_variables_initializer()\n",
    "\n",
    "    loss_record_train = []\n",
    "    loss_record_valid = []\n",
    "    with tf.compat.v1.Session() as sess:\n",
    "        sess.run(init)\n",
    "        for epoch in range(n_iter):\n",
    "            train_x, train_y = next_batch(n_batch, \n",
    "                                          X_train_augmented, y_train_augmented) \\\n",
    "                               if 'augmented' in params else \\\n",
    "                               next_batch(n_batch, X_train, y_train)\n",
    "            sess.run(optm, feed_dict={x: train_x, y: train_y, p: p_rate}) \n",
    "\n",
    "            if epoch % n_prt == 0:        \n",
    "                valid_x, valid_y = next_batch(n_batch, X_valid, y_valid)\n",
    "                c1 = sess.run(loss, feed_dict={x: train_x, y: train_y, p: p_rate})\n",
    "                c2 = sess.run(loss, feed_dict={x: valid_x, y: valid_y, p: 0})\n",
    "                loss_record_train.append(c1)\n",
    "                loss_record_valid.append(c2)\n",
    "                print ('Iter: {} \\tCost: {}'.format(epoch, c1))\n",
    "\n",
    "        #test accuracy\n",
    "        test_x, test_y = X_test, y_test\n",
    "\n",
    "        my_pred = sess.run(pred, feed_dict={x: test_x})\n",
    "        my_pred = np.argmax(my_pred, axis=1)\n",
    "        labels = np.argmax(test_y, axis=1)\n",
    "\n",
    "        test_acc = np.mean(np.equal(my_pred, labels))\n",
    "        if 'base' in params_dict:\n",
    "            print('\\n\\n{} Test Accuracy: {}% (base: {}%)'.format(\n",
    "                params['comment'], round(test_acc*100, 4), round(params['base']*100, 4)))\n",
    "        else:\n",
    "            print('\\n\\n{} Test Accuracy: {}%'.format(\n",
    "                params['comment'], round(test_acc*100, 4)))\n",
    "        \n",
    "    return test_acc, loss_record_train, loss_record_valid"
   ]
  },
  {
   "cell_type": "markdown",
   "id": "8d5dcd30-8e4c-406f-b3b0-a8ca8ba3563e",
   "metadata": {},
   "source": [
    "##### 3.1.1 Add Dropout"
   ]
  },
  {
   "cell_type": "code",
   "execution_count": 44,
   "id": "1f5a60e7-6def-414f-ba85-f93d29a4e703",
   "metadata": {
    "scrolled": true,
    "tags": []
   },
   "outputs": [
    {
     "name": "stderr",
     "output_type": "stream",
     "text": [
      "2021-10-26 10:15:53.394870: I tensorflow/core/common_runtime/gpu/gpu_device.cc:1618] Found device 0 with properties: \n",
      "name: GeForce RTX 2080 Ti major: 7 minor: 5 memoryClockRate(GHz): 1.545\n",
      "pciBusID: 0000:18:00.0\n",
      "2021-10-26 10:15:53.395684: I tensorflow/core/common_runtime/gpu/gpu_device.cc:1618] Found device 1 with properties: \n",
      "name: GeForce RTX 2080 Ti major: 7 minor: 5 memoryClockRate(GHz): 1.545\n",
      "pciBusID: 0000:3b:00.0\n",
      "2021-10-26 10:15:53.396455: I tensorflow/core/common_runtime/gpu/gpu_device.cc:1618] Found device 2 with properties: \n",
      "name: GeForce RTX 2080 Ti major: 7 minor: 5 memoryClockRate(GHz): 1.545\n",
      "pciBusID: 0000:86:00.0\n",
      "2021-10-26 10:15:53.397213: I tensorflow/core/common_runtime/gpu/gpu_device.cc:1618] Found device 3 with properties: \n",
      "name: GeForce RTX 2080 Ti major: 7 minor: 5 memoryClockRate(GHz): 1.545\n",
      "pciBusID: 0000:af:00.0\n",
      "2021-10-26 10:15:53.397267: I tensorflow/stream_executor/platform/default/dso_loader.cc:44] Successfully opened dynamic library libcudart.so.10.0\n",
      "2021-10-26 10:15:53.397279: I tensorflow/stream_executor/platform/default/dso_loader.cc:44] Successfully opened dynamic library libcublas.so.10.0\n",
      "2021-10-26 10:15:53.397289: I tensorflow/stream_executor/platform/default/dso_loader.cc:44] Successfully opened dynamic library libcufft.so.10.0\n",
      "2021-10-26 10:15:53.397298: I tensorflow/stream_executor/platform/default/dso_loader.cc:44] Successfully opened dynamic library libcurand.so.10.0\n",
      "2021-10-26 10:15:53.397308: I tensorflow/stream_executor/platform/default/dso_loader.cc:44] Successfully opened dynamic library libcusolver.so.10.0\n",
      "2021-10-26 10:15:53.397318: I tensorflow/stream_executor/platform/default/dso_loader.cc:44] Successfully opened dynamic library libcusparse.so.10.0\n",
      "2021-10-26 10:15:53.397330: I tensorflow/stream_executor/platform/default/dso_loader.cc:44] Successfully opened dynamic library libcudnn.so.7\n",
      "2021-10-26 10:15:53.402377: I tensorflow/core/common_runtime/gpu/gpu_device.cc:1746] Adding visible gpu devices: 0, 1, 2, 3\n",
      "2021-10-26 10:15:53.402441: I tensorflow/core/common_runtime/gpu/gpu_device.cc:1159] Device interconnect StreamExecutor with strength 1 edge matrix:\n",
      "2021-10-26 10:15:53.402447: I tensorflow/core/common_runtime/gpu/gpu_device.cc:1165]      0 1 2 3 \n",
      "2021-10-26 10:15:53.402451: I tensorflow/core/common_runtime/gpu/gpu_device.cc:1178] 0:   N N N N \n",
      "2021-10-26 10:15:53.402453: I tensorflow/core/common_runtime/gpu/gpu_device.cc:1178] 1:   N N N N \n",
      "2021-10-26 10:15:53.402456: I tensorflow/core/common_runtime/gpu/gpu_device.cc:1178] 2:   N N N N \n",
      "2021-10-26 10:15:53.402458: I tensorflow/core/common_runtime/gpu/gpu_device.cc:1178] 3:   N N N N \n",
      "2021-10-26 10:15:53.405580: I tensorflow/core/common_runtime/gpu/gpu_device.cc:1304] Created TensorFlow device (/job:localhost/replica:0/task:0/device:GPU:0 with 4561 MB memory) -> physical GPU (device: 0, name: GeForce RTX 2080 Ti, pci bus id: 0000:18:00.0, compute capability: 7.5)\n",
      "2021-10-26 10:15:53.406309: I tensorflow/core/common_runtime/gpu/gpu_device.cc:1304] Created TensorFlow device (/job:localhost/replica:0/task:0/device:GPU:1 with 9357 MB memory) -> physical GPU (device: 1, name: GeForce RTX 2080 Ti, pci bus id: 0000:3b:00.0, compute capability: 7.5)\n",
      "2021-10-26 10:15:53.407020: I tensorflow/core/common_runtime/gpu/gpu_device.cc:1304] Created TensorFlow device (/job:localhost/replica:0/task:0/device:GPU:2 with 10320 MB memory) -> physical GPU (device: 2, name: GeForce RTX 2080 Ti, pci bus id: 0000:86:00.0, compute capability: 7.5)\n",
      "2021-10-26 10:15:53.407741: I tensorflow/core/common_runtime/gpu/gpu_device.cc:1304] Created TensorFlow device (/job:localhost/replica:0/task:0/device:GPU:3 with 10320 MB memory) -> physical GPU (device: 3, name: GeForce RTX 2080 Ti, pci bus id: 0000:af:00.0, compute capability: 7.5)\n"
     ]
    },
    {
     "name": "stdout",
     "output_type": "stream",
     "text": [
      "Iter: 0 \tCost: 167.02296447753906\n",
      "Iter: 250 \tCost: 8.833756446838379\n",
      "Iter: 500 \tCost: 8.685235977172852\n",
      "Iter: 750 \tCost: 4.145505428314209\n",
      "Iter: 1000 \tCost: 5.86236572265625\n",
      "Iter: 1250 \tCost: 6.635435581207275\n",
      "Iter: 1500 \tCost: 1.7065576314926147\n",
      "Iter: 1750 \tCost: 2.0183722972869873\n",
      "Iter: 2000 \tCost: 0.8197567462921143\n",
      "Iter: 2250 \tCost: 2.1823487281799316\n",
      "Iter: 2500 \tCost: 1.6630969047546387\n",
      "Iter: 2750 \tCost: 0.00045243758358992636\n",
      "Iter: 3000 \tCost: 1.7581706047058105\n",
      "Iter: 3250 \tCost: 1.4439706802368164\n",
      "Iter: 3500 \tCost: 1.2415952682495117\n",
      "Iter: 3750 \tCost: 0.014456096105277538\n",
      "Iter: 4000 \tCost: 0.2005162090063095\n",
      "Iter: 4250 \tCost: 0.8637592196464539\n",
      "Iter: 4500 \tCost: 1.0044758319854736\n",
      "Iter: 4750 \tCost: 0.7728093862533569\n",
      "\n",
      "\n",
      "Dropout Test Accuracy: 94.04% (base: 92.99%)\n"
     ]
    }
   ],
   "source": [
    "params_dict  = {\n",
    "    'n_input': 784, 'n_hiddens': {'n_hidden': 500}, 'dropout': 0.15,\n",
    "    'n_output': 10, 'LR': 0.0001, 'comment': 'Dropout',\n",
    "    'n_batch': 50, 'n_iter': 5000, 'n_prt': 250, 'base': base_test_acc\n",
    "}\n",
    "\n",
    "dp_test_acc, dp_loss_record_train, dp_loss_record_valid = run_session(params_dict)"
   ]
  },
  {
   "cell_type": "code",
   "execution_count": 45,
   "id": "81daed75-4278-4d8e-aca4-49942a8741b5",
   "metadata": {},
   "outputs": [
    {
     "data": {
      "image/png": "[encoded data removed]",
      "text/plain": [
       "<Figure size 720x432 with 1 Axes>"
      ]
     },
     "metadata": {
      "needs_background": "light"
     },
     "output_type": "display_data"
    }
   ],
   "source": [
    "plot_loss(dp_loss_record_train, dp_loss_record_valid, params_dict['comment'])"
   ]
  },
  {
   "cell_type": "markdown",
   "id": "1bfd9eca-588d-45cb-a3e9-410913e634ee",
   "metadata": {},
   "source": [
    "##### 3.1.2 Apply Data Augmentation (Visualize the augmented data)"
   ]
  },
  {
   "cell_type": "code",
   "execution_count": 46,
   "id": "2af24acd-c382-4205-a470-192bf799308d",
   "metadata": {},
   "outputs": [],
   "source": [
    "from scipy.ndimage.interpolation import shift\n",
    "\n",
    "# Method to shift the image by given dimension\n",
    "def shift_image(image, dx, dy):\n",
    "    image = image.reshape((28, 28))\n",
    "    shifted_image = shift(image, [dy, dx], cval=0, mode='constant')\n",
    "    \n",
    "    return shifted_image.reshape([-1])\n",
    "\n",
    "# Create Augmented Dataset\n",
    "X_train_augmented = [image for image in X_train]\n",
    "y_train_augmented = [image for image in y_train]\n",
    "\n",
    "count = 0\n",
    "list_images = []\n",
    "for image, label in zip(X_train, y_train):\n",
    "    list_images.append(image)\n",
    "    for dx, dy in ((2, 0), (-2, 0), (0, 2), (0, -2)):\n",
    "        image_shifted = shift_image(image, dx, dy)\n",
    "        if count < 3:\n",
    "            count += 1\n",
    "            list_images.append(image_shifted)\n",
    "        \n",
    "        X_train_augmented.append(image_shifted)\n",
    "        y_train_augmented.append(label)\n",
    "\n",
    "# Shuffle the dataset\n",
    "shuffle_idx = np.random.permutation(len(X_train_augmented))\n",
    "X_train_augmented = np.array(X_train_augmented)[shuffle_idx]\n",
    "y_train_augmented = np.array(y_train_augmented)[shuffle_idx]"
   ]
  },
  {
   "cell_type": "code",
   "execution_count": 47,
   "id": "62911174-4aef-43b6-93d3-f0d15ae85fec",
   "metadata": {},
   "outputs": [
    {
     "data": {
      "image/png": "[encoded data removed]",
      "text/plain": [
       "<Figure size 864x432 with 4 Axes>"
      ]
     },
     "metadata": {
      "needs_background": "light"
     },
     "output_type": "display_data"
    }
   ],
   "source": [
    "fig, ax = plt.subplots(1, 4, figsize=(12, 6))\n",
    "for i in range(4):\n",
    "    title = 'Original' if i == 0 else ('Right Shifted' if i == 1 else(\n",
    "        'Left Shifted' if i == 2 else 'Down Shifted'))\n",
    "    ax[i].imshow(list_images[i].reshape([28, 28]), 'gray')\n",
    "    ax[i].set_title(title)\n",
    "    ax[i].axis('off')\n",
    "plt.show()"
   ]
  },
  {
   "cell_type": "code",
   "execution_count": 50,
   "id": "1ff0278a-588b-4205-9c32-ee87d73bcb7d",
   "metadata": {
    "scrolled": true,
    "tags": []
   },
   "outputs": [
    {
     "name": "stderr",
     "output_type": "stream",
     "text": [
      "2021-10-26 10:17:29.714811: I tensorflow/core/common_runtime/gpu/gpu_device.cc:1618] Found device 0 with properties: \n",
      "name: GeForce RTX 2080 Ti major: 7 minor: 5 memoryClockRate(GHz): 1.545\n",
      "pciBusID: 0000:18:00.0\n",
      "2021-10-26 10:17:29.715726: I tensorflow/core/common_runtime/gpu/gpu_device.cc:1618] Found device 1 with properties: \n",
      "name: GeForce RTX 2080 Ti major: 7 minor: 5 memoryClockRate(GHz): 1.545\n",
      "pciBusID: 0000:3b:00.0\n",
      "2021-10-26 10:17:29.716630: I tensorflow/core/common_runtime/gpu/gpu_device.cc:1618] Found device 2 with properties: \n",
      "name: GeForce RTX 2080 Ti major: 7 minor: 5 memoryClockRate(GHz): 1.545\n",
      "pciBusID: 0000:86:00.0\n",
      "2021-10-26 10:17:29.717558: I tensorflow/core/common_runtime/gpu/gpu_device.cc:1618] Found device 3 with properties: \n",
      "name: GeForce RTX 2080 Ti major: 7 minor: 5 memoryClockRate(GHz): 1.545\n",
      "pciBusID: 0000:af:00.0\n",
      "2021-10-26 10:17:29.717620: I tensorflow/stream_executor/platform/default/dso_loader.cc:44] Successfully opened dynamic library libcudart.so.10.0\n",
      "2021-10-26 10:17:29.717636: I tensorflow/stream_executor/platform/default/dso_loader.cc:44] Successfully opened dynamic library libcublas.so.10.0\n",
      "2021-10-26 10:17:29.717649: I tensorflow/stream_executor/platform/default/dso_loader.cc:44] Successfully opened dynamic library libcufft.so.10.0\n",
      "2021-10-26 10:17:29.717660: I tensorflow/stream_executor/platform/default/dso_loader.cc:44] Successfully opened dynamic library libcurand.so.10.0\n",
      "2021-10-26 10:17:29.717672: I tensorflow/stream_executor/platform/default/dso_loader.cc:44] Successfully opened dynamic library libcusolver.so.10.0\n",
      "2021-10-26 10:17:29.717684: I tensorflow/stream_executor/platform/default/dso_loader.cc:44] Successfully opened dynamic library libcusparse.so.10.0\n",
      "2021-10-26 10:17:29.717698: I tensorflow/stream_executor/platform/default/dso_loader.cc:44] Successfully opened dynamic library libcudnn.so.7\n",
      "2021-10-26 10:17:29.723725: I tensorflow/core/common_runtime/gpu/gpu_device.cc:1746] Adding visible gpu devices: 0, 1, 2, 3\n",
      "2021-10-26 10:17:29.723789: I tensorflow/core/common_runtime/gpu/gpu_device.cc:1159] Device interconnect StreamExecutor with strength 1 edge matrix:\n",
      "2021-10-26 10:17:29.723795: I tensorflow/core/common_runtime/gpu/gpu_device.cc:1165]      0 1 2 3 \n",
      "2021-10-26 10:17:29.723799: I tensorflow/core/common_runtime/gpu/gpu_device.cc:1178] 0:   N N N N \n",
      "2021-10-26 10:17:29.723802: I tensorflow/core/common_runtime/gpu/gpu_device.cc:1178] 1:   N N N N \n",
      "2021-10-26 10:17:29.723805: I tensorflow/core/common_runtime/gpu/gpu_device.cc:1178] 2:   N N N N \n",
      "2021-10-26 10:17:29.723808: I tensorflow/core/common_runtime/gpu/gpu_device.cc:1178] 3:   N N N N \n",
      "2021-10-26 10:17:29.727486: I tensorflow/core/common_runtime/gpu/gpu_device.cc:1304] Created TensorFlow device (/job:localhost/replica:0/task:0/device:GPU:0 with 4561 MB memory) -> physical GPU (device: 0, name: GeForce RTX 2080 Ti, pci bus id: 0000:18:00.0, compute capability: 7.5)\n",
      "2021-10-26 10:17:29.728328: I tensorflow/core/common_runtime/gpu/gpu_device.cc:1304] Created TensorFlow device (/job:localhost/replica:0/task:0/device:GPU:1 with 9357 MB memory) -> physical GPU (device: 1, name: GeForce RTX 2080 Ti, pci bus id: 0000:3b:00.0, compute capability: 7.5)\n",
      "2021-10-26 10:17:29.729208: I tensorflow/core/common_runtime/gpu/gpu_device.cc:1304] Created TensorFlow device (/job:localhost/replica:0/task:0/device:GPU:2 with 10320 MB memory) -> physical GPU (device: 2, name: GeForce RTX 2080 Ti, pci bus id: 0000:86:00.0, compute capability: 7.5)\n",
      "2021-10-26 10:17:29.730107: I tensorflow/core/common_runtime/gpu/gpu_device.cc:1304] Created TensorFlow device (/job:localhost/replica:0/task:0/device:GPU:3 with 10320 MB memory) -> physical GPU (device: 3, name: GeForce RTX 2080 Ti, pci bus id: 0000:af:00.0, compute capability: 7.5)\n"
     ]
    },
    {
     "name": "stdout",
     "output_type": "stream",
     "text": [
      "Iter: 0 \tCost: 61.07304000854492\n",
      "Iter: 250 \tCost: 4.609750747680664\n",
      "Iter: 500 \tCost: 2.0868031978607178\n",
      "Iter: 750 \tCost: 1.6522204875946045\n",
      "Iter: 1000 \tCost: 1.4807591438293457\n",
      "Iter: 1250 \tCost: 1.1756669282913208\n",
      "Iter: 1500 \tCost: 0.8717741966247559\n",
      "Iter: 1750 \tCost: 0.7117028832435608\n",
      "Iter: 2000 \tCost: 0.6390981078147888\n",
      "Iter: 2250 \tCost: 0.525610089302063\n",
      "Iter: 2500 \tCost: 0.7253072261810303\n",
      "Iter: 2750 \tCost: 0.4699658155441284\n",
      "Iter: 3000 \tCost: 0.4263070225715637\n",
      "Iter: 3250 \tCost: 0.36948102712631226\n",
      "Iter: 3500 \tCost: 0.4352777600288391\n",
      "Iter: 3750 \tCost: 0.3145025670528412\n",
      "Iter: 4000 \tCost: 0.3878771960735321\n",
      "Iter: 4250 \tCost: 0.21734599769115448\n",
      "Iter: 4500 \tCost: 0.26425763964653015\n",
      "Iter: 4750 \tCost: 0.2619507610797882\n",
      "\n",
      "\n",
      "Data Augmentation Test Accuracy: 94.58% (base: 92.99%)\n"
     ]
    }
   ],
   "source": [
    "params_dict  = {\n",
    "    'n_input': 784, 'n_hiddens': {'n_hidden': 100}, 'augmented': True,\n",
    "    'n_output': 10, 'LR': 0.0001, 'comment': 'Data Augmentation',\n",
    "    'n_batch': 500, 'n_iter': 5000, 'n_prt': 250, 'base': base_test_acc\n",
    "}\n",
    "\n",
    "ag_test_acc, ag_loss_record_train, ag_loss_record_valid = run_session(params_dict)"
   ]
  },
  {
   "cell_type": "code",
   "execution_count": 51,
   "id": "8820f298-5a29-43cb-b17e-ea8ffc5cde93",
   "metadata": {},
   "outputs": [
    {
     "data": {
      "image/png": "[encoded data removed]",
      "text/plain": [
       "<Figure size 720x432 with 1 Axes>"
      ]
     },
     "metadata": {
      "needs_background": "light"
     },
     "output_type": "display_data"
    }
   ],
   "source": [
    "plot_loss(ag_loss_record_train, ag_loss_record_valid, params_dict['comment'])"
   ]
  },
  {
   "cell_type": "markdown",
   "id": "28c7bbcd-821c-4e62-ae2a-cc50ffd57b69",
   "metadata": {},
   "source": [
    "##### 3.1.3 Change the Optimizer"
   ]
  },
  {
   "cell_type": "code",
   "execution_count": 52,
   "id": "bcba37ec-2a25-4e2f-bee4-82dcd01ecd55",
   "metadata": {
    "scrolled": true,
    "tags": []
   },
   "outputs": [
    {
     "name": "stdout",
     "output_type": "stream",
     "text": [
      "WARNING:tensorflow:From /home/sybaee/anaconda3/envs/workflow_one/lib/python3.7/site-packages/tensorflow_core/python/training/adagrad.py:76: calling Constant.__init__ (from tensorflow.python.ops.init_ops) with dtype is deprecated and will be removed in a future version.\n",
      "Instructions for updating:\n",
      "Call initializer instance with the dtype argument instead of passing it to the constructor\n"
     ]
    },
    {
     "name": "stderr",
     "output_type": "stream",
     "text": [
      "2021-10-26 10:18:14.795959: I tensorflow/core/common_runtime/gpu/gpu_device.cc:1618] Found device 0 with properties: \n",
      "name: GeForce RTX 2080 Ti major: 7 minor: 5 memoryClockRate(GHz): 1.545\n",
      "pciBusID: 0000:18:00.0\n",
      "2021-10-26 10:18:14.796901: I tensorflow/core/common_runtime/gpu/gpu_device.cc:1618] Found device 1 with properties: \n",
      "name: GeForce RTX 2080 Ti major: 7 minor: 5 memoryClockRate(GHz): 1.545\n",
      "pciBusID: 0000:3b:00.0\n",
      "2021-10-26 10:18:14.797835: I tensorflow/core/common_runtime/gpu/gpu_device.cc:1618] Found device 2 with properties: \n",
      "name: GeForce RTX 2080 Ti major: 7 minor: 5 memoryClockRate(GHz): 1.545\n",
      "pciBusID: 0000:86:00.0\n",
      "2021-10-26 10:18:14.798773: I tensorflow/core/common_runtime/gpu/gpu_device.cc:1618] Found device 3 with properties: \n",
      "name: GeForce RTX 2080 Ti major: 7 minor: 5 memoryClockRate(GHz): 1.545\n",
      "pciBusID: 0000:af:00.0\n",
      "2021-10-26 10:18:14.798837: I tensorflow/stream_executor/platform/default/dso_loader.cc:44] Successfully opened dynamic library libcudart.so.10.0\n",
      "2021-10-26 10:18:14.798851: I tensorflow/stream_executor/platform/default/dso_loader.cc:44] Successfully opened dynamic library libcublas.so.10.0\n",
      "2021-10-26 10:18:14.798864: I tensorflow/stream_executor/platform/default/dso_loader.cc:44] Successfully opened dynamic library libcufft.so.10.0\n",
      "2021-10-26 10:18:14.798876: I tensorflow/stream_executor/platform/default/dso_loader.cc:44] Successfully opened dynamic library libcurand.so.10.0\n",
      "2021-10-26 10:18:14.798889: I tensorflow/stream_executor/platform/default/dso_loader.cc:44] Successfully opened dynamic library libcusolver.so.10.0\n",
      "2021-10-26 10:18:14.798901: I tensorflow/stream_executor/platform/default/dso_loader.cc:44] Successfully opened dynamic library libcusparse.so.10.0\n",
      "2021-10-26 10:18:14.798915: I tensorflow/stream_executor/platform/default/dso_loader.cc:44] Successfully opened dynamic library libcudnn.so.7\n",
      "2021-10-26 10:18:14.804967: I tensorflow/core/common_runtime/gpu/gpu_device.cc:1746] Adding visible gpu devices: 0, 1, 2, 3\n",
      "2021-10-26 10:18:14.805028: I tensorflow/core/common_runtime/gpu/gpu_device.cc:1159] Device interconnect StreamExecutor with strength 1 edge matrix:\n",
      "2021-10-26 10:18:14.805036: I tensorflow/core/common_runtime/gpu/gpu_device.cc:1165]      0 1 2 3 \n",
      "2021-10-26 10:18:14.805040: I tensorflow/core/common_runtime/gpu/gpu_device.cc:1178] 0:   N N N N \n",
      "2021-10-26 10:18:14.805043: I tensorflow/core/common_runtime/gpu/gpu_device.cc:1178] 1:   N N N N \n",
      "2021-10-26 10:18:14.805046: I tensorflow/core/common_runtime/gpu/gpu_device.cc:1178] 2:   N N N N \n",
      "2021-10-26 10:18:14.805049: I tensorflow/core/common_runtime/gpu/gpu_device.cc:1178] 3:   N N N N \n",
      "2021-10-26 10:18:14.808633: I tensorflow/core/common_runtime/gpu/gpu_device.cc:1304] Created TensorFlow device (/job:localhost/replica:0/task:0/device:GPU:0 with 4561 MB memory) -> physical GPU (device: 0, name: GeForce RTX 2080 Ti, pci bus id: 0000:18:00.0, compute capability: 7.5)\n",
      "2021-10-26 10:18:14.809506: I tensorflow/core/common_runtime/gpu/gpu_device.cc:1304] Created TensorFlow device (/job:localhost/replica:0/task:0/device:GPU:1 with 9357 MB memory) -> physical GPU (device: 1, name: GeForce RTX 2080 Ti, pci bus id: 0000:3b:00.0, compute capability: 7.5)\n",
      "2021-10-26 10:18:14.810371: I tensorflow/core/common_runtime/gpu/gpu_device.cc:1304] Created TensorFlow device (/job:localhost/replica:0/task:0/device:GPU:2 with 10320 MB memory) -> physical GPU (device: 2, name: GeForce RTX 2080 Ti, pci bus id: 0000:86:00.0, compute capability: 7.5)\n",
      "2021-10-26 10:18:14.811249: I tensorflow/core/common_runtime/gpu/gpu_device.cc:1304] Created TensorFlow device (/job:localhost/replica:0/task:0/device:GPU:3 with 10320 MB memory) -> physical GPU (device: 3, name: GeForce RTX 2080 Ti, pci bus id: 0000:af:00.0, compute capability: 7.5)\n"
     ]
    },
    {
     "name": "stdout",
     "output_type": "stream",
     "text": [
      "Iter: 0 \tCost: 252.82998657226562\n",
      "Iter: 250 \tCost: 0.3659564256668091\n",
      "Iter: 500 \tCost: 0.4145611524581909\n",
      "Iter: 750 \tCost: 0.43788784742355347\n",
      "Iter: 1000 \tCost: 0.12473253160715103\n",
      "Iter: 1250 \tCost: 0.0948764830827713\n",
      "Iter: 1500 \tCost: 0.12313785403966904\n",
      "Iter: 1750 \tCost: 0.2737594544887543\n",
      "Iter: 2000 \tCost: 0.2325926572084427\n",
      "Iter: 2250 \tCost: 0.13002285361289978\n",
      "Iter: 2500 \tCost: 0.2030918151140213\n",
      "Iter: 2750 \tCost: 0.19677889347076416\n",
      "Iter: 3000 \tCost: 0.2907164990901947\n",
      "Iter: 3250 \tCost: 0.25645220279693604\n",
      "Iter: 3500 \tCost: 0.15479658544063568\n",
      "Iter: 3750 \tCost: 0.05431724712252617\n",
      "Iter: 4000 \tCost: 0.18216639757156372\n",
      "Iter: 4250 \tCost: 0.18002183735370636\n",
      "Iter: 4500 \tCost: 0.021703427657485008\n",
      "Iter: 4750 \tCost: 0.21083703637123108\n",
      "\n",
      "\n",
      "Adagrad Optimizer Test Accuracy: 93.72% (base: 92.99%)\n"
     ]
    }
   ],
   "source": [
    "params_dict  = {\n",
    "    'n_input': 784, 'n_hiddens': {'n_hidden': 100}, 'optm': True,\n",
    "    'n_output': 10, 'LR': 0.015, 'comment': 'Adagrad Optimizer',\n",
    "    'n_batch': 50, 'n_iter': 5000, 'n_prt': 250, 'base': base_test_acc\n",
    "}\n",
    "\n",
    "op_test_acc, op_loss_record_train, op_loss_record_valid = run_session(params_dict)"
   ]
  },
  {
   "cell_type": "code",
   "execution_count": 53,
   "id": "c192594b-1c13-4adc-b699-470ecd9d71a7",
   "metadata": {},
   "outputs": [
    {
     "data": {
      "image/png": "[encoded data removed]",
      "text/plain": [
       "<Figure size 720x432 with 1 Axes>"
      ]
     },
     "metadata": {
      "needs_background": "light"
     },
     "output_type": "display_data"
    }
   ],
   "source": [
    "plot_loss(op_loss_record_train, op_loss_record_valid, params_dict['comment'])"
   ]
  },
  {
   "cell_type": "markdown",
   "id": "a660f0c2-926f-4de4-b211-d1ed12dcaad2",
   "metadata": {},
   "source": [
    "##### 3.1.4 Use Learning Rate Scheduler"
   ]
  },
  {
   "cell_type": "code",
   "execution_count": 59,
   "id": "b6357624-4883-4177-bdd2-d34ddd405cf6",
   "metadata": {
    "scrolled": true,
    "tags": []
   },
   "outputs": [
    {
     "name": "stderr",
     "output_type": "stream",
     "text": [
      "2021-10-26 10:20:11.276685: I tensorflow/core/common_runtime/gpu/gpu_device.cc:1618] Found device 0 with properties: \n",
      "name: GeForce RTX 2080 Ti major: 7 minor: 5 memoryClockRate(GHz): 1.545\n",
      "pciBusID: 0000:18:00.0\n",
      "2021-10-26 10:20:11.277615: I tensorflow/core/common_runtime/gpu/gpu_device.cc:1618] Found device 1 with properties: \n",
      "name: GeForce RTX 2080 Ti major: 7 minor: 5 memoryClockRate(GHz): 1.545\n",
      "pciBusID: 0000:3b:00.0\n",
      "2021-10-26 10:20:11.278558: I tensorflow/core/common_runtime/gpu/gpu_device.cc:1618] Found device 2 with properties: \n",
      "name: GeForce RTX 2080 Ti major: 7 minor: 5 memoryClockRate(GHz): 1.545\n",
      "pciBusID: 0000:86:00.0\n",
      "2021-10-26 10:20:11.279502: I tensorflow/core/common_runtime/gpu/gpu_device.cc:1618] Found device 3 with properties: \n",
      "name: GeForce RTX 2080 Ti major: 7 minor: 5 memoryClockRate(GHz): 1.545\n",
      "pciBusID: 0000:af:00.0\n",
      "2021-10-26 10:20:11.279562: I tensorflow/stream_executor/platform/default/dso_loader.cc:44] Successfully opened dynamic library libcudart.so.10.0\n",
      "2021-10-26 10:20:11.279573: I tensorflow/stream_executor/platform/default/dso_loader.cc:44] Successfully opened dynamic library libcublas.so.10.0\n",
      "2021-10-26 10:20:11.279582: I tensorflow/stream_executor/platform/default/dso_loader.cc:44] Successfully opened dynamic library libcufft.so.10.0\n",
      "2021-10-26 10:20:11.279592: I tensorflow/stream_executor/platform/default/dso_loader.cc:44] Successfully opened dynamic library libcurand.so.10.0\n",
      "2021-10-26 10:20:11.279601: I tensorflow/stream_executor/platform/default/dso_loader.cc:44] Successfully opened dynamic library libcusolver.so.10.0\n",
      "2021-10-26 10:20:11.279610: I tensorflow/stream_executor/platform/default/dso_loader.cc:44] Successfully opened dynamic library libcusparse.so.10.0\n",
      "2021-10-26 10:20:11.279620: I tensorflow/stream_executor/platform/default/dso_loader.cc:44] Successfully opened dynamic library libcudnn.so.7\n",
      "2021-10-26 10:20:11.285622: I tensorflow/core/common_runtime/gpu/gpu_device.cc:1746] Adding visible gpu devices: 0, 1, 2, 3\n",
      "2021-10-26 10:20:11.285678: I tensorflow/core/common_runtime/gpu/gpu_device.cc:1159] Device interconnect StreamExecutor with strength 1 edge matrix:\n",
      "2021-10-26 10:20:11.285685: I tensorflow/core/common_runtime/gpu/gpu_device.cc:1165]      0 1 2 3 \n",
      "2021-10-26 10:20:11.285690: I tensorflow/core/common_runtime/gpu/gpu_device.cc:1178] 0:   N N N N \n",
      "2021-10-26 10:20:11.285693: I tensorflow/core/common_runtime/gpu/gpu_device.cc:1178] 1:   N N N N \n",
      "2021-10-26 10:20:11.285696: I tensorflow/core/common_runtime/gpu/gpu_device.cc:1178] 2:   N N N N \n",
      "2021-10-26 10:20:11.285699: I tensorflow/core/common_runtime/gpu/gpu_device.cc:1178] 3:   N N N N \n",
      "2021-10-26 10:20:11.289255: I tensorflow/core/common_runtime/gpu/gpu_device.cc:1304] Created TensorFlow device (/job:localhost/replica:0/task:0/device:GPU:0 with 4561 MB memory) -> physical GPU (device: 0, name: GeForce RTX 2080 Ti, pci bus id: 0000:18:00.0, compute capability: 7.5)\n",
      "2021-10-26 10:20:11.290096: I tensorflow/core/common_runtime/gpu/gpu_device.cc:1304] Created TensorFlow device (/job:localhost/replica:0/task:0/device:GPU:1 with 9357 MB memory) -> physical GPU (device: 1, name: GeForce RTX 2080 Ti, pci bus id: 0000:3b:00.0, compute capability: 7.5)\n",
      "2021-10-26 10:20:11.290971: I tensorflow/core/common_runtime/gpu/gpu_device.cc:1304] Created TensorFlow device (/job:localhost/replica:0/task:0/device:GPU:2 with 10320 MB memory) -> physical GPU (device: 2, name: GeForce RTX 2080 Ti, pci bus id: 0000:86:00.0, compute capability: 7.5)\n",
      "2021-10-26 10:20:11.291848: I tensorflow/core/common_runtime/gpu/gpu_device.cc:1304] Created TensorFlow device (/job:localhost/replica:0/task:0/device:GPU:3 with 10320 MB memory) -> physical GPU (device: 3, name: GeForce RTX 2080 Ti, pci bus id: 0000:af:00.0, compute capability: 7.5)\n"
     ]
    },
    {
     "name": "stdout",
     "output_type": "stream",
     "text": [
      "Iter: 0 \tCost: 55.072750091552734\n",
      "Iter: 250 \tCost: 0.5571300983428955\n",
      "Iter: 500 \tCost: 0.32351672649383545\n",
      "Iter: 750 \tCost: 0.18262429535388947\n",
      "Iter: 1000 \tCost: 0.2278846800327301\n",
      "Iter: 1250 \tCost: 0.11874555796384811\n",
      "Iter: 1500 \tCost: 0.19069701433181763\n",
      "Iter: 1750 \tCost: 0.08250127732753754\n",
      "Iter: 2000 \tCost: 0.3163143992424011\n",
      "Iter: 2250 \tCost: 0.21292535960674286\n",
      "Iter: 2500 \tCost: 0.13493052124977112\n",
      "Iter: 2750 \tCost: 0.15766781568527222\n",
      "Iter: 3000 \tCost: 0.05256245657801628\n",
      "Iter: 3250 \tCost: 0.050796523690223694\n",
      "Iter: 3500 \tCost: 0.16966590285301208\n",
      "Iter: 3750 \tCost: 0.1762360781431198\n",
      "Iter: 4000 \tCost: 0.09339241683483124\n",
      "Iter: 4250 \tCost: 0.08914010971784592\n",
      "Iter: 4500 \tCost: 0.058252498507499695\n",
      "Iter: 4750 \tCost: 0.21573692560195923\n",
      "\n",
      "\n",
      "Learning Rate Scheduler Test Accuracy: 94.68% (base: 92.99%)\n"
     ]
    }
   ],
   "source": [
    "params_dict  = {\n",
    "    'n_input': 784, 'n_hiddens': {'n_hidden': 100}, 'schd': True,\n",
    "    'n_output': 10, 'LR': 0.0001, 'comment': 'Learning Rate Scheduler',\n",
    "    'n_batch': 50, 'n_iter': 5000, 'n_prt': 250, 'base': base_test_acc\n",
    "}\n",
    "\n",
    "schd_test_acc, schd_loss_record_train, schd_loss_record_valid = run_session(params_dict)"
   ]
  },
  {
   "cell_type": "code",
   "execution_count": 60,
   "id": "110123ab-2af5-42e8-9d8d-722435b7d235",
   "metadata": {},
   "outputs": [
    {
     "data": {
      "image/png": "[encoded data removed]",
      "text/plain": [
       "<Figure size 720x432 with 1 Axes>"
      ]
     },
     "metadata": {
      "needs_background": "light"
     },
     "output_type": "display_data"
    }
   ],
   "source": [
    "plot_loss(schd_loss_record_train, schd_loss_record_valid, params_dict['comment'])"
   ]
  },
  {
   "cell_type": "markdown",
   "id": "14dde3d8-6a07-470a-b0d5-228ff197de0b",
   "metadata": {},
   "source": [
    "##### 3.1.5 Add Regularization"
   ]
  },
  {
   "cell_type": "code",
   "execution_count": 64,
   "id": "f5f97453-2e34-4a67-acdd-a383d2a0d6fe",
   "metadata": {
    "scrolled": true,
    "tags": []
   },
   "outputs": [
    {
     "name": "stderr",
     "output_type": "stream",
     "text": [
      "2021-10-26 10:21:57.487121: I tensorflow/core/common_runtime/gpu/gpu_device.cc:1618] Found device 0 with properties: \n",
      "name: GeForce RTX 2080 Ti major: 7 minor: 5 memoryClockRate(GHz): 1.545\n",
      "pciBusID: 0000:18:00.0\n",
      "2021-10-26 10:21:57.488009: I tensorflow/core/common_runtime/gpu/gpu_device.cc:1618] Found device 1 with properties: \n",
      "name: GeForce RTX 2080 Ti major: 7 minor: 5 memoryClockRate(GHz): 1.545\n",
      "pciBusID: 0000:3b:00.0\n",
      "2021-10-26 10:21:57.488884: I tensorflow/core/common_runtime/gpu/gpu_device.cc:1618] Found device 2 with properties: \n",
      "name: GeForce RTX 2080 Ti major: 7 minor: 5 memoryClockRate(GHz): 1.545\n",
      "pciBusID: 0000:86:00.0\n",
      "2021-10-26 10:21:57.489973: I tensorflow/core/common_runtime/gpu/gpu_device.cc:1618] Found device 3 with properties: \n",
      "name: GeForce RTX 2080 Ti major: 7 minor: 5 memoryClockRate(GHz): 1.545\n",
      "pciBusID: 0000:af:00.0\n",
      "2021-10-26 10:21:57.490038: I tensorflow/stream_executor/platform/default/dso_loader.cc:44] Successfully opened dynamic library libcudart.so.10.0\n",
      "2021-10-26 10:21:57.490052: I tensorflow/stream_executor/platform/default/dso_loader.cc:44] Successfully opened dynamic library libcublas.so.10.0\n",
      "2021-10-26 10:21:57.490065: I tensorflow/stream_executor/platform/default/dso_loader.cc:44] Successfully opened dynamic library libcufft.so.10.0\n",
      "2021-10-26 10:21:57.490077: I tensorflow/stream_executor/platform/default/dso_loader.cc:44] Successfully opened dynamic library libcurand.so.10.0\n",
      "2021-10-26 10:21:57.490089: I tensorflow/stream_executor/platform/default/dso_loader.cc:44] Successfully opened dynamic library libcusolver.so.10.0\n",
      "2021-10-26 10:21:57.490101: I tensorflow/stream_executor/platform/default/dso_loader.cc:44] Successfully opened dynamic library libcusparse.so.10.0\n",
      "2021-10-26 10:21:57.490115: I tensorflow/stream_executor/platform/default/dso_loader.cc:44] Successfully opened dynamic library libcudnn.so.7\n",
      "2021-10-26 10:21:57.495972: I tensorflow/core/common_runtime/gpu/gpu_device.cc:1746] Adding visible gpu devices: 0, 1, 2, 3\n",
      "2021-10-26 10:21:57.496032: I tensorflow/core/common_runtime/gpu/gpu_device.cc:1159] Device interconnect StreamExecutor with strength 1 edge matrix:\n",
      "2021-10-26 10:21:57.496038: I tensorflow/core/common_runtime/gpu/gpu_device.cc:1165]      0 1 2 3 \n",
      "2021-10-26 10:21:57.496042: I tensorflow/core/common_runtime/gpu/gpu_device.cc:1178] 0:   N N N N \n",
      "2021-10-26 10:21:57.496045: I tensorflow/core/common_runtime/gpu/gpu_device.cc:1178] 1:   N N N N \n",
      "2021-10-26 10:21:57.496048: I tensorflow/core/common_runtime/gpu/gpu_device.cc:1178] 2:   N N N N \n",
      "2021-10-26 10:21:57.496051: I tensorflow/core/common_runtime/gpu/gpu_device.cc:1178] 3:   N N N N \n",
      "2021-10-26 10:21:57.499498: I tensorflow/core/common_runtime/gpu/gpu_device.cc:1304] Created TensorFlow device (/job:localhost/replica:0/task:0/device:GPU:0 with 4561 MB memory) -> physical GPU (device: 0, name: GeForce RTX 2080 Ti, pci bus id: 0000:18:00.0, compute capability: 7.5)\n",
      "2021-10-26 10:21:57.500337: I tensorflow/core/common_runtime/gpu/gpu_device.cc:1304] Created TensorFlow device (/job:localhost/replica:0/task:0/device:GPU:1 with 9357 MB memory) -> physical GPU (device: 1, name: GeForce RTX 2080 Ti, pci bus id: 0000:3b:00.0, compute capability: 7.5)\n",
      "2021-10-26 10:21:57.501203: I tensorflow/core/common_runtime/gpu/gpu_device.cc:1304] Created TensorFlow device (/job:localhost/replica:0/task:0/device:GPU:2 with 10320 MB memory) -> physical GPU (device: 2, name: GeForce RTX 2080 Ti, pci bus id: 0000:86:00.0, compute capability: 7.5)\n",
      "2021-10-26 10:21:57.502105: I tensorflow/core/common_runtime/gpu/gpu_device.cc:1304] Created TensorFlow device (/job:localhost/replica:0/task:0/device:GPU:3 with 10320 MB memory) -> physical GPU (device: 3, name: GeForce RTX 2080 Ti, pci bus id: 0000:af:00.0, compute capability: 7.5)\n"
     ]
    },
    {
     "name": "stdout",
     "output_type": "stream",
     "text": [
      "Iter: 0 \tCost: 100.14186096191406\n",
      "Iter: 250 \tCost: 3.6485936641693115\n",
      "Iter: 500 \tCost: 1.0341498851776123\n",
      "Iter: 750 \tCost: 2.4062962532043457\n",
      "Iter: 1000 \tCost: 0.4465271532535553\n",
      "Iter: 1250 \tCost: 0.9681121110916138\n",
      "Iter: 1500 \tCost: 0.2531859874725342\n",
      "Iter: 1750 \tCost: 0.926330029964447\n",
      "Iter: 2000 \tCost: 0.4639686048030853\n",
      "Iter: 2250 \tCost: 0.8083465695381165\n",
      "Iter: 2500 \tCost: 1.0365146398544312\n",
      "Iter: 2750 \tCost: 0.915116012096405\n",
      "Iter: 3000 \tCost: 0.8984185457229614\n",
      "Iter: 3250 \tCost: 0.3110281825065613\n",
      "Iter: 3500 \tCost: 0.31334030628204346\n",
      "Iter: 3750 \tCost: 0.10066234320402145\n",
      "Iter: 4000 \tCost: 0.7387018799781799\n",
      "Iter: 4250 \tCost: 0.1750970482826233\n",
      "Iter: 4500 \tCost: 0.35346654057502747\n",
      "Iter: 4750 \tCost: 0.3533816635608673\n",
      "\n",
      "\n",
      "Regularization Test Accuracy: 93.11% (base: 92.99%)\n"
     ]
    }
   ],
   "source": [
    "params_dict  = {\n",
    "    'n_input': 784, 'n_hiddens': {'n_hidden': 100}, 'reg': 0.001,\n",
    "    'n_output': 10, 'LR': 0.0001, 'comment': 'Regularization',\n",
    "    'n_batch': 50, 'n_iter': 5000, 'n_prt': 250, 'base': base_test_acc\n",
    "}\n",
    "\n",
    "reg_test_acc, reg_loss_record_train, reg_loss_record_valid = run_session(params_dict)"
   ]
  },
  {
   "cell_type": "code",
   "execution_count": 65,
   "id": "6b851d8e-5d54-446d-95c8-fa3b92126e64",
   "metadata": {},
   "outputs": [
    {
     "data": {
      "image/png": "[encoded data removed]",
      "text/plain": [
       "<Figure size 720x432 with 1 Axes>"
      ]
     },
     "metadata": {
      "needs_background": "light"
     },
     "output_type": "display_data"
    }
   ],
   "source": [
    "plot_loss(reg_loss_record_train, reg_loss_record_valid, params_dict['comment'])"
   ]
  },
  {
   "cell_type": "markdown",
   "id": "9c0d0bd6",
   "metadata": {},
   "source": [
    "#### 3.2 Discuss the results (20 pt)\n",
    "\n",
    " * you can use either Microsoft Word or markdown"
   ]
  },
  {
   "cell_type": "markdown",
   "id": "acef7778-3579-46d7-a888-1d1982f5f39d",
   "metadata": {},
   "source": [
    "##### 3.2.1 Add Dropout"
   ]
  },
  {
   "cell_type": "code",
   "execution_count": 66,
   "id": "22833714-539a-4ae2-b76d-6bf63e91b841",
   "metadata": {},
   "outputs": [
    {
     "name": "stdout",
     "output_type": "stream",
     "text": [
      "Dropout Test Accuracy: 94.04% (base: 92.99%)\n"
     ]
    }
   ],
   "source": [
    "print('{} Test Accuracy: {}% (base: {}%)'.format(\n",
    "      'Dropout', round(dp_test_acc*100, 4), round(base_test_acc*100, 4)))"
   ]
  },
  {
   "cell_type": "markdown",
   "id": "405d2e98-6288-4713-b04f-599ef3c19647",
   "metadata": {},
   "source": [
    "Dropout is the one of the most interesting types of regularization techniques.\n",
    "At every iteration, it randomly selects some nodes and removes them\n",
    "so that it makes a different architecture at every training epoch.\n",
    "Consequently, it can be thought of as an ensemble technique in machine learning.\n",
    "An ensemble technique usually makes better performance than the base one.\n",
    "Adding the dropout with the rate of 0.15, the test accuracy slightly increased like the above.\n",
    "However, since the base hidden layer's nodes are not enough to be complex and dropped out,\n",
    "it doesn't make much change."
   ]
  },
  {
   "cell_type": "markdown",
   "id": "37971712-7b7d-4db8-92cb-ccfa041a6caa",
   "metadata": {},
   "source": [
    "##### 3.2.2 Apply Data Augmentation"
   ]
  },
  {
   "cell_type": "code",
   "execution_count": 72,
   "id": "bdf1eb50-6087-4ea1-8e7f-8bc8fd881af1",
   "metadata": {},
   "outputs": [
    {
     "name": "stdout",
     "output_type": "stream",
     "text": [
      "Data Augmentation Test Accuracy: 94.58% (base: 92.99%)\n",
      "Before: (50000, 784) -> After: (250000, 784)\n"
     ]
    }
   ],
   "source": [
    "print('{} Test Accuracy: {}% (base: {}%)'.format(\n",
    "      'Data Augmentation', round(ag_test_acc*100, 4), round(base_test_acc*100, 4)))\n",
    "print('Before: {} -> After: {}'.format(X_train.shape, X_train_augmented.shape))"
   ]
  },
  {
   "cell_type": "markdown",
   "id": "bf7a5672-c37e-4d7e-a342-3c0bd9cec281",
   "metadata": {},
   "source": [
    "Doing the data augmentation with the horizontal and vertical shift technique, \n",
    "the size of train set become five times larger. And the test accuracy slightly increased like the above.\n",
    "Data augmentation is the simplest way to reduce overfitting as increasing the size of the training data.\n",
    "That's why I increased the size of batch as I increased the size of the training data with the shift."
   ]
  },
  {
   "cell_type": "markdown",
   "id": "6412cf16-be09-47fe-83a6-4684a49649e1",
   "metadata": {},
   "source": [
    "##### 3.2.3 Change the Optimizer"
   ]
  },
  {
   "cell_type": "code",
   "execution_count": 68,
   "id": "026e3696-a0f8-4963-a9cf-701f30704a7d",
   "metadata": {},
   "outputs": [
    {
     "name": "stdout",
     "output_type": "stream",
     "text": [
      "Adagrad Optimizer Test Accuracy: 93.72% (base: 92.99%)\n"
     ]
    }
   ],
   "source": [
    "print('{} Test Accuracy: {}% (base: {}%)'.format(\n",
    "      'Adagrad Optimizer', round(op_test_acc*100, 4), round(base_test_acc*100, 4)))"
   ]
  },
  {
   "cell_type": "markdown",
   "id": "06ae2ef0-329e-43a9-b3c8-a4237c56609a",
   "metadata": {},
   "source": [
    "The test accuracy slightly increased like the above as changing the optimizer from AdamOptimizer to Adagrad.\n",
    "Adagrad is an optimizer with parameter-specific learning rates, \n",
    "which are adapted relative to how frequently a parameter gets updated during training. \n",
    "The more updates a parameter receives, the smaller the updates.\n",
    "So I adjusted the learning rate to 0.015 to fasten up the speed of learning since it's not the same optimizer.\n",
    "However, rather than changing the optimizer, I thought it would be more efficient to change other parameters first to get the better performance."
   ]
  },
  {
   "cell_type": "markdown",
   "id": "f1195748-fc41-414d-87e3-5804a1e2d6b5",
   "metadata": {},
   "source": [
    "##### 3.2.4 Use Learning Rate Scheduler"
   ]
  },
  {
   "cell_type": "code",
   "execution_count": 69,
   "id": "5961f19a-64bc-4927-b1f6-26d546458ab2",
   "metadata": {},
   "outputs": [
    {
     "name": "stdout",
     "output_type": "stream",
     "text": [
      "Learning Rate Scheduler Test Accuracy: 94.68% (base: 92.99%)\n"
     ]
    }
   ],
   "source": [
    "print('{} Test Accuracy: {}% (base: {}%)'.format(\n",
    "      'Learning Rate Scheduler', round(schd_test_acc*100, 4), round(base_test_acc*100, 4)))"
   ]
  },
  {
   "cell_type": "markdown",
   "id": "2a2c7528-0f3a-49e6-bbe2-b082de1aacff",
   "metadata": {},
   "source": [
    "Learning rate schedules seek to adjust the learning rate during training \n",
    "by reducing the learning rate according to a pre-defined schedule.\n",
    "I put the learning rate scheduler provided by tensorflow. It changes 0.001 learning rate slowly \n",
    "in the direction of decreasing with the rate of parameter in which I chose to put as 0.96.\n",
    "As you can see, the test accuracy slightly increased like the above."
   ]
  },
  {
   "cell_type": "markdown",
   "id": "f5452bb1-2cdd-4274-96fb-8b32e0e27fc1",
   "metadata": {},
   "source": [
    "##### 3.2.5 Add Regularization"
   ]
  },
  {
   "cell_type": "code",
   "execution_count": 70,
   "id": "bda05921-a3a8-4c9b-9ceb-93f0261a1536",
   "metadata": {},
   "outputs": [
    {
     "name": "stdout",
     "output_type": "stream",
     "text": [
      "Regularization Test Accuracy: 93.11% (base: 92.99%)\n"
     ]
    }
   ],
   "source": [
    "print('{} Test Accuracy: {}% (base: {}%)'.format(\n",
    "      'Regularization', round(reg_test_acc*100, 4), round(base_test_acc*100, 4)))"
   ]
  },
  {
   "cell_type": "markdown",
   "id": "034f3965-2e59-4d20-8d0c-714cb9a78594",
   "metadata": {},
   "source": [
    "Often, overfitting associated with very large estimated parameters. \n",
    "We want to balance how well function fits data and magnitude of coefficients.\n",
    "So I used L2 regularization method with 0.001 lambda.\n",
    "L2 regularization acts like a force that removes a small percentage of weights at each iteration.\n",
    "Therefore, weights will never be equal to zero.\n",
    "It worked with the test accuracy very slightly increasing like the above.\n",
    "I assume that L2 regularization should be used with other parameter changing or in more complex model. "
   ]
  }
 ],
 "metadata": {
  "kernelspec": {
   "display_name": "Python [conda env:workflow_one]",
   "language": "python",
   "name": "conda-env-workflow_one-py"
  },
  "language_info": {
   "codemirror_mode": {
    "name": "ipython",
    "version": 3
   },
   "file_extension": ".py",
   "mimetype": "text/x-python",
   "name": "python",
   "nbconvert_exporter": "python",
   "pygments_lexer": "ipython3",
   "version": "3.7.11"
  }
 },
 "nbformat": 4,
 "nbformat_minor": 5
}
